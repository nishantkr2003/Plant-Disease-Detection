{
 "cells": [
  {
   "cell_type": "code",
   "execution_count": 1,
   "id": "2b191013-8016-469e-89f4-9e7765e8fcf9",
   "metadata": {},
   "outputs": [
    {
     "name": "stdout",
     "output_type": "stream",
     "text": [
      "bib\n"
     ]
    }
   ],
   "source": [
    "print(\"bib\")"
   ]
  },
  {
   "cell_type": "code",
   "execution_count": null,
   "id": "6a9c91a1-c1d9-4c3c-b030-20e894ded441",
   "metadata": {},
   "outputs": [],
   "source": []
  }
 ],
 "metadata": {
  "kernelspec": {
   "display_name": "Python (tensorflow_env)",
   "language": "python",
   "name": "tensorflow_env"
  },
  "language_info": {
   "codemirror_mode": {
    "name": "ipython",
    "version": 3
   },
   "file_extension": ".py",
   "mimetype": "text/x-python",
   "name": "python",
   "nbconvert_exporter": "python",
   "pygments_lexer": "ipython3",
   "version": "3.10.16"
  }
 },
 "nbformat": 4,
 "nbformat_minor": 5
}
