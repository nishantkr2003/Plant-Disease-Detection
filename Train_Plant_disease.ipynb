{
 "cells": [
  {
   "cell_type": "markdown",
   "id": "af00c942",
   "metadata": {
    "colab_type": "text",
    "id": "view-in-github"
   },
   "source": [
    "<a href=\"https://colab.research.google.com/github/nishantkr2003/Plant-Disease-Detection/blob/main/Train_Plant_disease.ipynb\" target=\"_parent\"><img src=\"https://colab.research.google.com/assets/colab-badge.svg\" alt=\"Open In Colab\"/></a>"
   ]
  },
  {
   "cell_type": "code",
   "execution_count": 1,
   "id": "0056be2e-312a-4977-94fe-ad1c0499c10a",
   "metadata": {
    "colab": {
     "base_uri": "https://localhost:8080/"
    },
    "id": "0056be2e-312a-4977-94fe-ad1c0499c10a",
    "outputId": "bbd69557-ea36-4fca-845f-6ad621fe3fe3"
   },
   "outputs": [
    {
     "name": "stdout",
     "output_type": "stream",
     "text": [
      "Hello World!\n"
     ]
    }
   ],
   "source": [
    "print(\"Hello World!\")"
   ]
  },
  {
   "cell_type": "code",
   "execution_count": 2,
   "id": "PdOP8zmrq22a",
   "metadata": {
    "colab": {
     "base_uri": "https://localhost:8080/",
     "height": 36
    },
    "id": "PdOP8zmrq22a",
    "outputId": "9de011bc-6e6e-4459-8cbf-06ec0e4f3b0c"
   },
   "outputs": [
    {
     "data": {
      "application/vnd.google.colaboratory.intrinsic+json": {
       "type": "string"
      },
      "text/plain": [
       "'/device:GPU:0'"
      ]
     },
     "execution_count": 2,
     "metadata": {},
     "output_type": "execute_result"
    }
   ],
   "source": [
    "import tensorflow as tf\n",
    "tf.test.gpu_device_name()"
   ]
  },
  {
   "cell_type": "markdown",
   "id": "d6a93382-f509-4054-b8be-7f795555c68c",
   "metadata": {
    "id": "d6a93382-f509-4054-b8be-7f795555c68c"
   },
   "source": [
    "# Importing Libraries"
   ]
  },
  {
   "cell_type": "code",
   "execution_count": 3,
   "id": "4a62664f-5ce0-4e9e-91ca-ae7924a549fa",
   "metadata": {
    "id": "4a62664f-5ce0-4e9e-91ca-ae7924a549fa"
   },
   "outputs": [],
   "source": [
    "import tensorflow as tf\n",
    "import pandas as pd\n",
    "import matplotlib.pyplot as plt\n",
    "import seaborn as sns"
   ]
  },
  {
   "cell_type": "code",
   "execution_count": 4,
   "id": "T32v9dcFEqLy",
   "metadata": {
    "colab": {
     "base_uri": "https://localhost:8080/"
    },
    "id": "T32v9dcFEqLy",
    "outputId": "3c9080f3-82ce-4857-a919-cc2ea6d2aa01"
   },
   "outputs": [
    {
     "name": "stdout",
     "output_type": "stream",
     "text": [
      "Cloning into 'Plant-Disease-Detection'...\n",
      "remote: Enumerating objects: 87989, done.\u001b[K\n",
      "remote: Counting objects: 100% (6/6), done.\u001b[K\n",
      "remote: Compressing objects: 100% (6/6), done.\u001b[K\n",
      "remote: Total 87989 (delta 2), reused 1 (delta 0), pack-reused 87983 (from 2)\u001b[K\n",
      "Receiving objects: 100% (87989/87989), 1.39 GiB | 30.83 MiB/s, done.\n",
      "Resolving deltas: 100% (50/50), done.\n",
      "Updating files: 100% (87905/87905), done.\n"
     ]
    }
   ],
   "source": [
    "!git clone https://github.com/nishantkr2003/Plant-Disease-Detection.git"
   ]
  },
  {
   "cell_type": "code",
   "execution_count": 5,
   "id": "0PXF8pKQEqfI",
   "metadata": {
    "colab": {
     "base_uri": "https://localhost:8080/"
    },
    "id": "0PXF8pKQEqfI",
    "outputId": "d882a9d6-a750-4fff-c246-a22b4f1735a1"
   },
   "outputs": [
    {
     "name": "stdout",
     "output_type": "stream",
     "text": [
      "README.md  requirement.txt  test  train  Train_Plant_disease.ipynb  valid\n"
     ]
    }
   ],
   "source": [
    "!ls Plant-Disease-Detection\n"
   ]
  },
  {
   "cell_type": "markdown",
   "id": "ee4d9d69-9ac4-4ff4-8908-2db75d47f25a",
   "metadata": {
    "id": "ee4d9d69-9ac4-4ff4-8908-2db75d47f25a"
   },
   "source": [
    "# Data preProcessing"
   ]
  },
  {
   "cell_type": "markdown",
   "id": "e66f341b-945b-4572-86c2-cb4feba68369",
   "metadata": {
    "id": "e66f341b-945b-4572-86c2-cb4feba68369"
   },
   "source": [
    "### Training Image Preprocessing"
   ]
  },
  {
   "cell_type": "code",
   "execution_count": 6,
   "id": "a7c6873a-6600-465a-9895-1093f18161af",
   "metadata": {
    "colab": {
     "base_uri": "https://localhost:8080/"
    },
    "id": "a7c6873a-6600-465a-9895-1093f18161af",
    "outputId": "a841da40-f45a-47e7-9558-ac6f94eaa7ea"
   },
   "outputs": [
    {
     "name": "stdout",
     "output_type": "stream",
     "text": [
      "Found 70295 files belonging to 38 classes.\n",
      "Dataset successfully loaded!\n"
     ]
    }
   ],
   "source": [
    "\n",
    "training_set = tf.keras.utils.image_dataset_from_directory(\n",
    "    \"/content/Plant-Disease-Detection/train\",\n",
    "    labels=\"inferred\",\n",
    "    label_mode=\"categorical\",\n",
    "    class_names=None,\n",
    "    color_mode=\"rgb\",\n",
    "    batch_size=32,\n",
    "    image_size=(128, 128),\n",
    "    shuffle=True,\n",
    "    seed=None,\n",
    "    validation_split=None,\n",
    "    subset=None,\n",
    "    interpolation=\"bilinear\",\n",
    "    follow_links=False,\n",
    "    crop_to_aspect_ratio=False,\n",
    "\n",
    ")\n",
    "print(\"Dataset successfully loaded!\")"
   ]
  },
  {
   "cell_type": "markdown",
   "id": "830a1806-7542-40f5-b371-3e96c76bc252",
   "metadata": {
    "id": "830a1806-7542-40f5-b371-3e96c76bc252"
   },
   "source": [
    "### Validation Image Preprocessing"
   ]
  },
  {
   "cell_type": "code",
   "execution_count": 7,
   "id": "a73c1795-338c-4197-8444-0a9ec7b2f9c4",
   "metadata": {
    "colab": {
     "base_uri": "https://localhost:8080/"
    },
    "id": "a73c1795-338c-4197-8444-0a9ec7b2f9c4",
    "outputId": "cea5ebef-7ec0-4e36-b47c-2c69cae13ba8"
   },
   "outputs": [
    {
     "name": "stdout",
     "output_type": "stream",
     "text": [
      "Found 17572 files belonging to 38 classes.\n",
      "Validation dataset successfully loaded!\n"
     ]
    }
   ],
   "source": [
    "validation_set = tf.keras.utils.image_dataset_from_directory(\n",
    "    \"/content/Plant-Disease-Detection/valid\",\n",
    "    labels=\"inferred\",\n",
    "    label_mode=\"categorical\",\n",
    "    class_names=None,\n",
    "    color_mode=\"rgb\",\n",
    "    batch_size=32,\n",
    "    image_size=(128, 128),\n",
    "    shuffle=True,\n",
    "    seed=None,\n",
    "    validation_split=None,\n",
    "    subset=None,\n",
    "    interpolation=\"bilinear\",\n",
    "    follow_links=False,\n",
    "    crop_to_aspect_ratio=False,\n",
    "\n",
    ")\n",
    "\n",
    "\n",
    "print(\"Validation dataset successfully loaded!\")"
   ]
  },
  {
   "cell_type": "code",
   "execution_count": 8,
   "id": "3a783454-dd64-401f-8de7-c57c96acb14b",
   "metadata": {
    "colab": {
     "base_uri": "https://localhost:8080/"
    },
    "id": "3a783454-dd64-401f-8de7-c57c96acb14b",
    "outputId": "77bd478e-8cd9-4ae4-d608-b1cd6e3b7c29"
   },
   "outputs": [
    {
     "data": {
      "text/plain": [
       "<_PrefetchDataset element_spec=(TensorSpec(shape=(None, 128, 128, 3), dtype=tf.float32, name=None), TensorSpec(shape=(None, 38), dtype=tf.float32, name=None))>"
      ]
     },
     "execution_count": 8,
     "metadata": {},
     "output_type": "execute_result"
    }
   ],
   "source": [
    "training_set"
   ]
  },
  {
   "cell_type": "code",
   "execution_count": 9,
   "id": "b04dd986-eb52-40fb-913d-54fae0962b41",
   "metadata": {
    "colab": {
     "base_uri": "https://localhost:8080/"
    },
    "id": "b04dd986-eb52-40fb-913d-54fae0962b41",
    "outputId": "f7942b99-4ddd-4927-dcf1-c7dd06347177"
   },
   "outputs": [
    {
     "name": "stdout",
     "output_type": "stream",
     "text": [
      "tf.Tensor(\n",
      "[[[[164.25 120.25 109.25]\n",
      "   [168.25 124.25 113.25]\n",
      "   [167.   123.   112.  ]\n",
      "   ...\n",
      "   [158.25 119.25 114.25]\n",
      "   [158.5  119.5  114.5 ]\n",
      "   [161.   122.   117.  ]]\n",
      "\n",
      "  [[169.75 125.75 114.75]\n",
      "   [169.25 125.25 114.25]\n",
      "   [166.   122.   111.  ]\n",
      "   ...\n",
      "   [160.   121.   116.  ]\n",
      "   [160.   121.   116.  ]\n",
      "   [162.25 123.25 118.25]]\n",
      "\n",
      "  [[169.75 125.75 114.75]\n",
      "   [169.25 125.25 114.25]\n",
      "   [166.   122.   111.  ]\n",
      "   ...\n",
      "   [160.75 121.75 116.75]\n",
      "   [159.5  120.5  115.5 ]\n",
      "   [161.   122.   117.  ]]\n",
      "\n",
      "  ...\n",
      "\n",
      "  [[163.75 125.75 112.75]\n",
      "   [163.25 125.25 112.25]\n",
      "   [165.25 127.25 114.25]\n",
      "   ...\n",
      "   [160.   120.   110.  ]\n",
      "   [153.25 113.25 103.25]\n",
      "   [155.75 115.75 105.75]]\n",
      "\n",
      "  [[161.75 123.75 110.75]\n",
      "   [159.5  121.5  108.5 ]\n",
      "   [168.5  130.5  117.5 ]\n",
      "   ...\n",
      "   [153.5  113.5  103.5 ]\n",
      "   [164.5  124.5  114.5 ]\n",
      "   [148.5  108.5   98.5 ]]\n",
      "\n",
      "  [[169.5  131.5  118.5 ]\n",
      "   [163.25 125.25 112.25]\n",
      "   [160.75 122.75 109.75]\n",
      "   ...\n",
      "   [149.25 109.25  99.25]\n",
      "   [154.   114.   104.  ]\n",
      "   [157.25 117.25 107.25]]]\n",
      "\n",
      "\n",
      " [[[109.75 126.75  94.75]\n",
      "   [ 87.25 106.25  74.25]\n",
      "   [ 90.25 112.75  79.25]\n",
      "   ...\n",
      "   [123.75 117.75 127.75]\n",
      "   [123.75 117.75 127.75]\n",
      "   [122.75 116.75 126.75]]\n",
      "\n",
      "  [[124.75 143.75 111.75]\n",
      "   [106.25 125.75  93.5 ]\n",
      "   [ 95.25 117.75  84.25]\n",
      "   ...\n",
      "   [123.   117.   127.  ]\n",
      "   [123.   117.   127.  ]\n",
      "   [121.75 115.75 125.75]]\n",
      "\n",
      "  [[119.5  140.5  107.5 ]\n",
      "   [109.25 130.25  97.25]\n",
      "   [112.75 136.   102.25]\n",
      "   ...\n",
      "   [123.5  117.5  127.5 ]\n",
      "   [123.5  117.5  127.5 ]\n",
      "   [122.5  116.5  126.5 ]]\n",
      "\n",
      "  ...\n",
      "\n",
      "  [[121.25 118.25 127.25]\n",
      "   [135.75 132.75 141.75]\n",
      "   [140.   137.   146.  ]\n",
      "   ...\n",
      "   [148.   146.   151.  ]\n",
      "   [147.   145.   150.  ]\n",
      "   [146.5  144.5  149.5 ]]\n",
      "\n",
      "  [[109.5  106.5  115.5 ]\n",
      "   [135.   132.   141.  ]\n",
      "   [139.   136.   145.  ]\n",
      "   ...\n",
      "   [148.   146.   151.  ]\n",
      "   [147.   145.   150.  ]\n",
      "   [146.5  144.5  149.5 ]]\n",
      "\n",
      "  [[ 98.25  95.25 104.25]\n",
      "   [129.   126.   135.  ]\n",
      "   [134.5  131.5  140.5 ]\n",
      "   ...\n",
      "   [147.   145.   150.  ]\n",
      "   [148.   146.   151.  ]\n",
      "   [148.5  146.5  151.5 ]]]\n",
      "\n",
      "\n",
      " [[[188.   182.   184.  ]\n",
      "   [180.5  174.5  176.5 ]\n",
      "   [182.   176.   178.  ]\n",
      "   ...\n",
      "   [129.75 119.75 118.75]\n",
      "   [135.25 125.25 124.25]\n",
      "   [126.25 116.25 115.25]]\n",
      "\n",
      "  [[185.25 179.25 181.25]\n",
      "   [177.25 171.25 173.25]\n",
      "   [176.75 170.75 172.75]\n",
      "   ...\n",
      "   [133.5  123.5  122.5 ]\n",
      "   [132.   122.   121.  ]\n",
      "   [138.75 128.75 127.75]]\n",
      "\n",
      "  [[178.   172.   174.  ]\n",
      "   [181.   175.   177.  ]\n",
      "   [185.75 179.75 181.75]\n",
      "   ...\n",
      "   [134.   124.   123.  ]\n",
      "   [131.5  121.5  120.5 ]\n",
      "   [131.   121.   120.  ]]\n",
      "\n",
      "  ...\n",
      "\n",
      "  [[186.25 184.25 189.25]\n",
      "   [181.75 179.75 184.75]\n",
      "   [184.25 182.25 187.25]\n",
      "   ...\n",
      "   [127.75 119.75 117.75]\n",
      "   [134.25 126.25 124.25]\n",
      "   [143.   135.   133.  ]]\n",
      "\n",
      "  [[184.25 182.25 187.25]\n",
      "   [188.75 186.75 191.75]\n",
      "   [189.75 187.75 192.75]\n",
      "   ...\n",
      "   [137.25 129.25 127.25]\n",
      "   [140.75 132.75 130.75]\n",
      "   [138.5  130.5  128.5 ]]\n",
      "\n",
      "  [[188.75 186.75 191.75]\n",
      "   [190.   188.   193.  ]\n",
      "   [188.75 186.75 191.75]\n",
      "   ...\n",
      "   [134.75 126.75 124.75]\n",
      "   [152.   144.   142.  ]\n",
      "   [144.5  136.5  134.5 ]]]\n",
      "\n",
      "\n",
      " ...\n",
      "\n",
      "\n",
      " [[[ 52.5   50.5   51.5 ]\n",
      "   [ 50.5   48.5   49.5 ]\n",
      "   [ 53.25  51.25  52.25]\n",
      "   ...\n",
      "   [120.25 115.25 112.25]\n",
      "   [120.75 115.75 112.75]\n",
      "   [123.25 118.25 115.25]]\n",
      "\n",
      "  [[ 53.5   51.5   52.5 ]\n",
      "   [ 54.5   52.5   53.5 ]\n",
      "   [ 47.75  45.75  46.75]\n",
      "   ...\n",
      "   [126.5  121.5  118.5 ]\n",
      "   [124.25 119.25 116.25]\n",
      "   [117.25 112.25 109.25]]\n",
      "\n",
      "  [[ 54.5   52.5   53.5 ]\n",
      "   [ 58.75  56.75  57.75]\n",
      "   [ 54.5   52.5   53.5 ]\n",
      "   ...\n",
      "   [130.5  125.5  122.5 ]\n",
      "   [120.5  115.5  112.5 ]\n",
      "   [125.5  120.5  117.5 ]]\n",
      "\n",
      "  ...\n",
      "\n",
      "  [[184.   184.   184.  ]\n",
      "   [192.75 192.75 192.75]\n",
      "   [187.75 187.75 187.75]\n",
      "   ...\n",
      "   [156.25 153.25 148.25]\n",
      "   [155.75 152.75 147.75]\n",
      "   [156.25 153.25 148.25]]\n",
      "\n",
      "  [[181.   181.   181.  ]\n",
      "   [187.5  187.5  187.5 ]\n",
      "   [184.25 184.25 184.25]\n",
      "   ...\n",
      "   [154.   151.   146.  ]\n",
      "   [154.25 151.25 146.25]\n",
      "   [155.75 152.75 147.75]]\n",
      "\n",
      "  [[185.5  185.5  185.5 ]\n",
      "   [183.75 183.75 183.75]\n",
      "   [183.75 183.75 183.75]\n",
      "   ...\n",
      "   [155.75 152.75 147.75]\n",
      "   [155.25 152.25 147.25]\n",
      "   [155.75 152.75 147.75]]]\n",
      "\n",
      "\n",
      " [[[  0.     0.     0.  ]\n",
      "   [  0.     0.     0.  ]\n",
      "   [  0.     0.     0.  ]\n",
      "   ...\n",
      "   [  0.     0.     0.  ]\n",
      "   [  0.     0.     0.  ]\n",
      "   [  0.     0.     0.  ]]\n",
      "\n",
      "  [[  0.     0.     0.  ]\n",
      "   [  0.     0.     0.  ]\n",
      "   [  0.     0.     0.  ]\n",
      "   ...\n",
      "   [  0.     0.     0.  ]\n",
      "   [  0.     0.     0.  ]\n",
      "   [  0.     0.     0.  ]]\n",
      "\n",
      "  [[  0.     0.     0.  ]\n",
      "   [  0.     0.     0.  ]\n",
      "   [  0.     0.     0.  ]\n",
      "   ...\n",
      "   [  0.     0.     0.  ]\n",
      "   [  0.     0.     0.  ]\n",
      "   [  0.     0.     0.  ]]\n",
      "\n",
      "  ...\n",
      "\n",
      "  [[  0.     0.     0.  ]\n",
      "   [  0.     0.     0.  ]\n",
      "   [  0.     0.     0.  ]\n",
      "   ...\n",
      "   [  0.     0.     0.  ]\n",
      "   [  0.     0.     0.  ]\n",
      "   [  0.     0.     0.  ]]\n",
      "\n",
      "  [[  0.     0.     0.  ]\n",
      "   [  0.     0.     0.  ]\n",
      "   [  0.     0.     0.  ]\n",
      "   ...\n",
      "   [  0.     0.     0.  ]\n",
      "   [  0.     0.     0.  ]\n",
      "   [  0.     0.     0.  ]]\n",
      "\n",
      "  [[  0.     0.     0.  ]\n",
      "   [  0.     0.     0.  ]\n",
      "   [  0.     0.     0.  ]\n",
      "   ...\n",
      "   [  0.     0.     0.  ]\n",
      "   [  0.     0.     0.  ]\n",
      "   [  0.     0.     0.  ]]]\n",
      "\n",
      "\n",
      " [[[ 92.    85.    97.  ]\n",
      "   [104.75  98.5  109.75]\n",
      "   [ 94.25  87.25  99.25]\n",
      "   ...\n",
      "   [ 95.5   81.25  95.  ]\n",
      "   [ 95.5   80.5   96.5 ]\n",
      "   [ 97.25  80.75  99.25]]\n",
      "\n",
      "  [[171.5  163.25 178.75]\n",
      "   [165.5  157.25 172.75]\n",
      "   [163.25 155.   170.5 ]\n",
      "   ...\n",
      "   [167.25 153.75 168.5 ]\n",
      "   [179.5  163.75 182.25]\n",
      "   [178.5  162.5  181.5 ]]\n",
      "\n",
      "  [[170.25 161.25 180.25]\n",
      "   [145.   136.   155.  ]\n",
      "   [158.   149.   168.  ]\n",
      "   ...\n",
      "   [173.25 163.5  177.  ]\n",
      "   [169.   157.   173.5 ]\n",
      "   [173.25 161.25 178.75]]\n",
      "\n",
      "  ...\n",
      "\n",
      "  [[199.75 191.75 212.75]\n",
      "   [188.   180.   201.  ]\n",
      "   [178.5  170.5  191.5 ]\n",
      "   ...\n",
      "   [183.   170.   187.  ]\n",
      "   [189.25 176.25 193.25]\n",
      "   [186.75 173.75 190.75]]\n",
      "\n",
      "  [[187.25 179.25 200.25]\n",
      "   [178.   170.   191.  ]\n",
      "   [177.5  169.5  190.5 ]\n",
      "   ...\n",
      "   [188.25 175.25 192.25]\n",
      "   [185.   172.   189.  ]\n",
      "   [173.   160.   177.  ]]\n",
      "\n",
      "  [[168.5  160.5  181.5 ]\n",
      "   [204.   196.   217.  ]\n",
      "   [182.25 174.25 195.25]\n",
      "   ...\n",
      "   [194.25 181.25 198.25]\n",
      "   [186.   173.   190.  ]\n",
      "   [165.   152.   169.  ]]]], shape=(32, 128, 128, 3), dtype=float32) (32, 128, 128, 3)\n",
      "tf.Tensor(\n",
      "[[0. 0. 0. ... 0. 0. 0.]\n",
      " [0. 0. 0. ... 0. 0. 0.]\n",
      " [0. 0. 0. ... 0. 0. 0.]\n",
      " ...\n",
      " [0. 0. 0. ... 0. 0. 0.]\n",
      " [0. 0. 1. ... 0. 0. 0.]\n",
      " [1. 0. 0. ... 0. 0. 0.]], shape=(32, 38), dtype=float32) (32, 38)\n"
     ]
    }
   ],
   "source": [
    "for x,y in training_set:\n",
    "    # x is training set and y is label\n",
    "    print(x,x.shape)\n",
    "    print(y,y.shape)\n",
    "    break"
   ]
  },
  {
   "cell_type": "markdown",
   "id": "71ecfbf4-0e28-4f14-b3c6-a1fce6b7d683",
   "metadata": {
    "id": "71ecfbf4-0e28-4f14-b3c6-a1fce6b7d683"
   },
   "source": [
    "### Building Model"
   ]
  },
  {
   "cell_type": "code",
   "execution_count": 10,
   "id": "5f280e67-36d4-4747-86b1-010da3500b26",
   "metadata": {
    "id": "5f280e67-36d4-4747-86b1-010da3500b26"
   },
   "outputs": [],
   "source": [
    "from tensorflow.keras.layers import Dense, Conv2D, MaxPool2D, Flatten,Dropout\n",
    "from tensorflow.keras.models import Sequential\n"
   ]
  },
  {
   "cell_type": "code",
   "execution_count": 11,
   "id": "ce0d2127-f1b0-4139-a8c1-98bd52f9fe1a",
   "metadata": {
    "id": "ce0d2127-f1b0-4139-a8c1-98bd52f9fe1a"
   },
   "outputs": [],
   "source": [
    "model = Sequential()"
   ]
  },
  {
   "cell_type": "code",
   "execution_count": 12,
   "id": "eefc22dd-e2ca-405a-9d3b-4283f3089030",
   "metadata": {
    "id": "eefc22dd-e2ca-405a-9d3b-4283f3089030"
   },
   "outputs": [],
   "source": [
    "## Building convolution layer"
   ]
  },
  {
   "cell_type": "code",
   "execution_count": 13,
   "id": "09a95a96-9770-4428-bfb8-15249f1d3384",
   "metadata": {
    "colab": {
     "base_uri": "https://localhost:8080/"
    },
    "id": "09a95a96-9770-4428-bfb8-15249f1d3384",
    "outputId": "344565d4-4c1f-44b6-8e0d-afc2293c8f79"
   },
   "outputs": [
    {
     "name": "stderr",
     "output_type": "stream",
     "text": [
      "/usr/local/lib/python3.11/dist-packages/keras/src/layers/convolutional/base_conv.py:107: UserWarning: Do not pass an `input_shape`/`input_dim` argument to a layer. When using Sequential models, prefer using an `Input(shape)` object as the first layer in the model instead.\n",
      "  super().__init__(activity_regularizer=activity_regularizer, **kwargs)\n"
     ]
    }
   ],
   "source": [
    "model.add(Conv2D(filters=32,kernel_size=3,padding='same',activation='relu',input_shape=[128,128,3]))\n",
    "model.add(Conv2D(filters=32,kernel_size=3,activation='relu'))\n",
    "model.add(MaxPool2D(pool_size=2, strides=2))\n"
   ]
  },
  {
   "cell_type": "code",
   "execution_count": 14,
   "id": "ba35bd98-52b7-403a-9298-2400830621a9",
   "metadata": {
    "id": "ba35bd98-52b7-403a-9298-2400830621a9"
   },
   "outputs": [],
   "source": [
    "model.add(Conv2D(filters=64,kernel_size=3,padding='same',activation='relu'))\n",
    "model.add(Conv2D(filters=64,kernel_size=3,activation='relu'))\n",
    "model.add(MaxPool2D(pool_size=2,strides=2))"
   ]
  },
  {
   "cell_type": "code",
   "execution_count": 15,
   "id": "3f7809a9-96aa-4640-a68b-2853515a6afb",
   "metadata": {
    "id": "3f7809a9-96aa-4640-a68b-2853515a6afb"
   },
   "outputs": [],
   "source": [
    "model.add(Conv2D(filters=128,kernel_size=3,padding='same',activation='relu'))\n",
    "model.add(Conv2D(filters=128,kernel_size=3,activation='relu'))\n",
    "model.add(MaxPool2D(pool_size=2,strides=2))"
   ]
  },
  {
   "cell_type": "code",
   "execution_count": 16,
   "id": "06049263-c00b-4618-a92c-c2971764e6e6",
   "metadata": {
    "id": "06049263-c00b-4618-a92c-c2971764e6e6"
   },
   "outputs": [],
   "source": [
    "model.add(Conv2D(filters=256,kernel_size=3,padding='same',activation='relu'))\n",
    "model.add(Conv2D(filters=256,kernel_size=3,activation='relu'))\n",
    "model.add(MaxPool2D(pool_size=2,strides=2))"
   ]
  },
  {
   "cell_type": "code",
   "execution_count": 17,
   "id": "acbbedf3-ee09-4b38-85fe-22894a46e41a",
   "metadata": {
    "id": "acbbedf3-ee09-4b38-85fe-22894a46e41a"
   },
   "outputs": [],
   "source": [
    "model.add(Conv2D(filters=512,kernel_size=3,padding='same',activation='relu'))\n",
    "model.add(Conv2D(filters=512,kernel_size=3,activation='relu'))\n",
    "model.add(MaxPool2D(pool_size=2,strides=2))"
   ]
  },
  {
   "cell_type": "code",
   "execution_count": 18,
   "id": "1671660b-97b9-4010-bec4-0cffb9f6d464",
   "metadata": {
    "id": "1671660b-97b9-4010-bec4-0cffb9f6d464"
   },
   "outputs": [],
   "source": [
    "model.add(Dropout(0.25))  # To avoid Overfitting"
   ]
  },
  {
   "cell_type": "code",
   "execution_count": 19,
   "id": "42a6baf9-b226-4ac8-a8f6-3325ce8ce255",
   "metadata": {
    "id": "42a6baf9-b226-4ac8-a8f6-3325ce8ce255"
   },
   "outputs": [],
   "source": [
    "model.add(Flatten())"
   ]
  },
  {
   "cell_type": "code",
   "execution_count": 20,
   "id": "7ff1e026-9fd5-4b16-b065-6fcd4263c2f7",
   "metadata": {
    "id": "7ff1e026-9fd5-4b16-b065-6fcd4263c2f7"
   },
   "outputs": [],
   "source": [
    "model.add(Dense(units=1500,activation='relu'))"
   ]
  },
  {
   "cell_type": "code",
   "execution_count": 21,
   "id": "1a8bac91-a62a-44c6-a21e-c33b96b08895",
   "metadata": {
    "id": "1a8bac91-a62a-44c6-a21e-c33b96b08895"
   },
   "outputs": [],
   "source": [
    "model.add(Dropout(0.4))"
   ]
  },
  {
   "cell_type": "code",
   "execution_count": 22,
   "id": "b151a4cd-a079-43e0-bd93-60d8d43ab375",
   "metadata": {
    "id": "b151a4cd-a079-43e0-bd93-60d8d43ab375"
   },
   "outputs": [],
   "source": [
    "#output layer\n",
    "\n",
    "model.add(Dense(units=38,activation='softmax'))"
   ]
  },
  {
   "cell_type": "code",
   "execution_count": 23,
   "id": "0EvD_bLuIzYs",
   "metadata": {
    "id": "0EvD_bLuIzYs"
   },
   "outputs": [],
   "source": [
    "#model.compile(optimizer=tf.keras.optimizers.legacy.Adam(\n",
    "#   learning_rate=0.0001),loss='categorical_crossentropy',metrics=['accuracy'])"
   ]
  },
  {
   "cell_type": "code",
   "execution_count": 24,
   "id": "AnHZCLctI2Mz",
   "metadata": {
    "id": "AnHZCLctI2Mz"
   },
   "outputs": [],
   "source": [
    "model.compile(optimizer=tf.keras.optimizers.Adam(\n",
    "    learning_rate=0.0001),loss='categorical_crossentropy',metrics=['accuracy'])"
   ]
  },
  {
   "cell_type": "markdown",
   "id": "a5be7b5f-eb70-45ca-acf4-ebe0ce75cca5",
   "metadata": {
    "id": "a5be7b5f-eb70-45ca-acf4-ebe0ce75cca5"
   },
   "source": [
    "### Compiling Model"
   ]
  },
  {
   "cell_type": "code",
   "execution_count": 25,
   "id": "16fc3d15-8387-4fb5-b3c1-f52b500776d6",
   "metadata": {
    "colab": {
     "base_uri": "https://localhost:8080/",
     "height": 769
    },
    "id": "16fc3d15-8387-4fb5-b3c1-f52b500776d6",
    "outputId": "ee342197-8914-4e66-cfcf-8046fb46534c"
   },
   "outputs": [
    {
     "data": {
      "text/html": [
       "<pre style=\"white-space:pre;overflow-x:auto;line-height:normal;font-family:Menlo,'DejaVu Sans Mono',consolas,'Courier New',monospace\"><span style=\"font-weight: bold\">Model: \"sequential\"</span>\n",
       "</pre>\n"
      ],
      "text/plain": [
       "\u001b[1mModel: \"sequential\"\u001b[0m\n"
      ]
     },
     "metadata": {},
     "output_type": "display_data"
    },
    {
     "data": {
      "text/html": [
       "<pre style=\"white-space:pre;overflow-x:auto;line-height:normal;font-family:Menlo,'DejaVu Sans Mono',consolas,'Courier New',monospace\">┏━━━━━━━━━━━━━━━━━━━━━━━━━━━━━━━━━━━━━━┳━━━━━━━━━━━━━━━━━━━━━━━━━━━━━┳━━━━━━━━━━━━━━━━━┓\n",
       "┃<span style=\"font-weight: bold\"> Layer (type)                         </span>┃<span style=\"font-weight: bold\"> Output Shape                </span>┃<span style=\"font-weight: bold\">         Param # </span>┃\n",
       "┡━━━━━━━━━━━━━━━━━━━━━━━━━━━━━━━━━━━━━━╇━━━━━━━━━━━━━━━━━━━━━━━━━━━━━╇━━━━━━━━━━━━━━━━━┩\n",
       "│ conv2d (<span style=\"color: #0087ff; text-decoration-color: #0087ff\">Conv2D</span>)                      │ (<span style=\"color: #00d7ff; text-decoration-color: #00d7ff\">None</span>, <span style=\"color: #00af00; text-decoration-color: #00af00\">128</span>, <span style=\"color: #00af00; text-decoration-color: #00af00\">128</span>, <span style=\"color: #00af00; text-decoration-color: #00af00\">32</span>)        │             <span style=\"color: #00af00; text-decoration-color: #00af00\">896</span> │\n",
       "├──────────────────────────────────────┼─────────────────────────────┼─────────────────┤\n",
       "│ conv2d_1 (<span style=\"color: #0087ff; text-decoration-color: #0087ff\">Conv2D</span>)                    │ (<span style=\"color: #00d7ff; text-decoration-color: #00d7ff\">None</span>, <span style=\"color: #00af00; text-decoration-color: #00af00\">126</span>, <span style=\"color: #00af00; text-decoration-color: #00af00\">126</span>, <span style=\"color: #00af00; text-decoration-color: #00af00\">32</span>)        │           <span style=\"color: #00af00; text-decoration-color: #00af00\">9,248</span> │\n",
       "├──────────────────────────────────────┼─────────────────────────────┼─────────────────┤\n",
       "│ max_pooling2d (<span style=\"color: #0087ff; text-decoration-color: #0087ff\">MaxPooling2D</span>)         │ (<span style=\"color: #00d7ff; text-decoration-color: #00d7ff\">None</span>, <span style=\"color: #00af00; text-decoration-color: #00af00\">63</span>, <span style=\"color: #00af00; text-decoration-color: #00af00\">63</span>, <span style=\"color: #00af00; text-decoration-color: #00af00\">32</span>)          │               <span style=\"color: #00af00; text-decoration-color: #00af00\">0</span> │\n",
       "├──────────────────────────────────────┼─────────────────────────────┼─────────────────┤\n",
       "│ conv2d_2 (<span style=\"color: #0087ff; text-decoration-color: #0087ff\">Conv2D</span>)                    │ (<span style=\"color: #00d7ff; text-decoration-color: #00d7ff\">None</span>, <span style=\"color: #00af00; text-decoration-color: #00af00\">63</span>, <span style=\"color: #00af00; text-decoration-color: #00af00\">63</span>, <span style=\"color: #00af00; text-decoration-color: #00af00\">64</span>)          │          <span style=\"color: #00af00; text-decoration-color: #00af00\">18,496</span> │\n",
       "├──────────────────────────────────────┼─────────────────────────────┼─────────────────┤\n",
       "│ conv2d_3 (<span style=\"color: #0087ff; text-decoration-color: #0087ff\">Conv2D</span>)                    │ (<span style=\"color: #00d7ff; text-decoration-color: #00d7ff\">None</span>, <span style=\"color: #00af00; text-decoration-color: #00af00\">61</span>, <span style=\"color: #00af00; text-decoration-color: #00af00\">61</span>, <span style=\"color: #00af00; text-decoration-color: #00af00\">64</span>)          │          <span style=\"color: #00af00; text-decoration-color: #00af00\">36,928</span> │\n",
       "├──────────────────────────────────────┼─────────────────────────────┼─────────────────┤\n",
       "│ max_pooling2d_1 (<span style=\"color: #0087ff; text-decoration-color: #0087ff\">MaxPooling2D</span>)       │ (<span style=\"color: #00d7ff; text-decoration-color: #00d7ff\">None</span>, <span style=\"color: #00af00; text-decoration-color: #00af00\">30</span>, <span style=\"color: #00af00; text-decoration-color: #00af00\">30</span>, <span style=\"color: #00af00; text-decoration-color: #00af00\">64</span>)          │               <span style=\"color: #00af00; text-decoration-color: #00af00\">0</span> │\n",
       "├──────────────────────────────────────┼─────────────────────────────┼─────────────────┤\n",
       "│ conv2d_4 (<span style=\"color: #0087ff; text-decoration-color: #0087ff\">Conv2D</span>)                    │ (<span style=\"color: #00d7ff; text-decoration-color: #00d7ff\">None</span>, <span style=\"color: #00af00; text-decoration-color: #00af00\">30</span>, <span style=\"color: #00af00; text-decoration-color: #00af00\">30</span>, <span style=\"color: #00af00; text-decoration-color: #00af00\">128</span>)         │          <span style=\"color: #00af00; text-decoration-color: #00af00\">73,856</span> │\n",
       "├──────────────────────────────────────┼─────────────────────────────┼─────────────────┤\n",
       "│ conv2d_5 (<span style=\"color: #0087ff; text-decoration-color: #0087ff\">Conv2D</span>)                    │ (<span style=\"color: #00d7ff; text-decoration-color: #00d7ff\">None</span>, <span style=\"color: #00af00; text-decoration-color: #00af00\">28</span>, <span style=\"color: #00af00; text-decoration-color: #00af00\">28</span>, <span style=\"color: #00af00; text-decoration-color: #00af00\">128</span>)         │         <span style=\"color: #00af00; text-decoration-color: #00af00\">147,584</span> │\n",
       "├──────────────────────────────────────┼─────────────────────────────┼─────────────────┤\n",
       "│ max_pooling2d_2 (<span style=\"color: #0087ff; text-decoration-color: #0087ff\">MaxPooling2D</span>)       │ (<span style=\"color: #00d7ff; text-decoration-color: #00d7ff\">None</span>, <span style=\"color: #00af00; text-decoration-color: #00af00\">14</span>, <span style=\"color: #00af00; text-decoration-color: #00af00\">14</span>, <span style=\"color: #00af00; text-decoration-color: #00af00\">128</span>)         │               <span style=\"color: #00af00; text-decoration-color: #00af00\">0</span> │\n",
       "├──────────────────────────────────────┼─────────────────────────────┼─────────────────┤\n",
       "│ conv2d_6 (<span style=\"color: #0087ff; text-decoration-color: #0087ff\">Conv2D</span>)                    │ (<span style=\"color: #00d7ff; text-decoration-color: #00d7ff\">None</span>, <span style=\"color: #00af00; text-decoration-color: #00af00\">14</span>, <span style=\"color: #00af00; text-decoration-color: #00af00\">14</span>, <span style=\"color: #00af00; text-decoration-color: #00af00\">256</span>)         │         <span style=\"color: #00af00; text-decoration-color: #00af00\">295,168</span> │\n",
       "├──────────────────────────────────────┼─────────────────────────────┼─────────────────┤\n",
       "│ conv2d_7 (<span style=\"color: #0087ff; text-decoration-color: #0087ff\">Conv2D</span>)                    │ (<span style=\"color: #00d7ff; text-decoration-color: #00d7ff\">None</span>, <span style=\"color: #00af00; text-decoration-color: #00af00\">12</span>, <span style=\"color: #00af00; text-decoration-color: #00af00\">12</span>, <span style=\"color: #00af00; text-decoration-color: #00af00\">256</span>)         │         <span style=\"color: #00af00; text-decoration-color: #00af00\">590,080</span> │\n",
       "├──────────────────────────────────────┼─────────────────────────────┼─────────────────┤\n",
       "│ max_pooling2d_3 (<span style=\"color: #0087ff; text-decoration-color: #0087ff\">MaxPooling2D</span>)       │ (<span style=\"color: #00d7ff; text-decoration-color: #00d7ff\">None</span>, <span style=\"color: #00af00; text-decoration-color: #00af00\">6</span>, <span style=\"color: #00af00; text-decoration-color: #00af00\">6</span>, <span style=\"color: #00af00; text-decoration-color: #00af00\">256</span>)           │               <span style=\"color: #00af00; text-decoration-color: #00af00\">0</span> │\n",
       "├──────────────────────────────────────┼─────────────────────────────┼─────────────────┤\n",
       "│ conv2d_8 (<span style=\"color: #0087ff; text-decoration-color: #0087ff\">Conv2D</span>)                    │ (<span style=\"color: #00d7ff; text-decoration-color: #00d7ff\">None</span>, <span style=\"color: #00af00; text-decoration-color: #00af00\">6</span>, <span style=\"color: #00af00; text-decoration-color: #00af00\">6</span>, <span style=\"color: #00af00; text-decoration-color: #00af00\">512</span>)           │       <span style=\"color: #00af00; text-decoration-color: #00af00\">1,180,160</span> │\n",
       "├──────────────────────────────────────┼─────────────────────────────┼─────────────────┤\n",
       "│ conv2d_9 (<span style=\"color: #0087ff; text-decoration-color: #0087ff\">Conv2D</span>)                    │ (<span style=\"color: #00d7ff; text-decoration-color: #00d7ff\">None</span>, <span style=\"color: #00af00; text-decoration-color: #00af00\">4</span>, <span style=\"color: #00af00; text-decoration-color: #00af00\">4</span>, <span style=\"color: #00af00; text-decoration-color: #00af00\">512</span>)           │       <span style=\"color: #00af00; text-decoration-color: #00af00\">2,359,808</span> │\n",
       "├──────────────────────────────────────┼─────────────────────────────┼─────────────────┤\n",
       "│ max_pooling2d_4 (<span style=\"color: #0087ff; text-decoration-color: #0087ff\">MaxPooling2D</span>)       │ (<span style=\"color: #00d7ff; text-decoration-color: #00d7ff\">None</span>, <span style=\"color: #00af00; text-decoration-color: #00af00\">2</span>, <span style=\"color: #00af00; text-decoration-color: #00af00\">2</span>, <span style=\"color: #00af00; text-decoration-color: #00af00\">512</span>)           │               <span style=\"color: #00af00; text-decoration-color: #00af00\">0</span> │\n",
       "├──────────────────────────────────────┼─────────────────────────────┼─────────────────┤\n",
       "│ dropout (<span style=\"color: #0087ff; text-decoration-color: #0087ff\">Dropout</span>)                    │ (<span style=\"color: #00d7ff; text-decoration-color: #00d7ff\">None</span>, <span style=\"color: #00af00; text-decoration-color: #00af00\">2</span>, <span style=\"color: #00af00; text-decoration-color: #00af00\">2</span>, <span style=\"color: #00af00; text-decoration-color: #00af00\">512</span>)           │               <span style=\"color: #00af00; text-decoration-color: #00af00\">0</span> │\n",
       "├──────────────────────────────────────┼─────────────────────────────┼─────────────────┤\n",
       "│ flatten (<span style=\"color: #0087ff; text-decoration-color: #0087ff\">Flatten</span>)                    │ (<span style=\"color: #00d7ff; text-decoration-color: #00d7ff\">None</span>, <span style=\"color: #00af00; text-decoration-color: #00af00\">2048</span>)                │               <span style=\"color: #00af00; text-decoration-color: #00af00\">0</span> │\n",
       "├──────────────────────────────────────┼─────────────────────────────┼─────────────────┤\n",
       "│ dense (<span style=\"color: #0087ff; text-decoration-color: #0087ff\">Dense</span>)                        │ (<span style=\"color: #00d7ff; text-decoration-color: #00d7ff\">None</span>, <span style=\"color: #00af00; text-decoration-color: #00af00\">1500</span>)                │       <span style=\"color: #00af00; text-decoration-color: #00af00\">3,073,500</span> │\n",
       "├──────────────────────────────────────┼─────────────────────────────┼─────────────────┤\n",
       "│ dropout_1 (<span style=\"color: #0087ff; text-decoration-color: #0087ff\">Dropout</span>)                  │ (<span style=\"color: #00d7ff; text-decoration-color: #00d7ff\">None</span>, <span style=\"color: #00af00; text-decoration-color: #00af00\">1500</span>)                │               <span style=\"color: #00af00; text-decoration-color: #00af00\">0</span> │\n",
       "├──────────────────────────────────────┼─────────────────────────────┼─────────────────┤\n",
       "│ dense_1 (<span style=\"color: #0087ff; text-decoration-color: #0087ff\">Dense</span>)                      │ (<span style=\"color: #00d7ff; text-decoration-color: #00d7ff\">None</span>, <span style=\"color: #00af00; text-decoration-color: #00af00\">38</span>)                  │          <span style=\"color: #00af00; text-decoration-color: #00af00\">57,038</span> │\n",
       "└──────────────────────────────────────┴─────────────────────────────┴─────────────────┘\n",
       "</pre>\n"
      ],
      "text/plain": [
       "┏━━━━━━━━━━━━━━━━━━━━━━━━━━━━━━━━━━━━━━┳━━━━━━━━━━━━━━━━━━━━━━━━━━━━━┳━━━━━━━━━━━━━━━━━┓\n",
       "┃\u001b[1m \u001b[0m\u001b[1mLayer (type)                        \u001b[0m\u001b[1m \u001b[0m┃\u001b[1m \u001b[0m\u001b[1mOutput Shape               \u001b[0m\u001b[1m \u001b[0m┃\u001b[1m \u001b[0m\u001b[1m        Param #\u001b[0m\u001b[1m \u001b[0m┃\n",
       "┡━━━━━━━━━━━━━━━━━━━━━━━━━━━━━━━━━━━━━━╇━━━━━━━━━━━━━━━━━━━━━━━━━━━━━╇━━━━━━━━━━━━━━━━━┩\n",
       "│ conv2d (\u001b[38;5;33mConv2D\u001b[0m)                      │ (\u001b[38;5;45mNone\u001b[0m, \u001b[38;5;34m128\u001b[0m, \u001b[38;5;34m128\u001b[0m, \u001b[38;5;34m32\u001b[0m)        │             \u001b[38;5;34m896\u001b[0m │\n",
       "├──────────────────────────────────────┼─────────────────────────────┼─────────────────┤\n",
       "│ conv2d_1 (\u001b[38;5;33mConv2D\u001b[0m)                    │ (\u001b[38;5;45mNone\u001b[0m, \u001b[38;5;34m126\u001b[0m, \u001b[38;5;34m126\u001b[0m, \u001b[38;5;34m32\u001b[0m)        │           \u001b[38;5;34m9,248\u001b[0m │\n",
       "├──────────────────────────────────────┼─────────────────────────────┼─────────────────┤\n",
       "│ max_pooling2d (\u001b[38;5;33mMaxPooling2D\u001b[0m)         │ (\u001b[38;5;45mNone\u001b[0m, \u001b[38;5;34m63\u001b[0m, \u001b[38;5;34m63\u001b[0m, \u001b[38;5;34m32\u001b[0m)          │               \u001b[38;5;34m0\u001b[0m │\n",
       "├──────────────────────────────────────┼─────────────────────────────┼─────────────────┤\n",
       "│ conv2d_2 (\u001b[38;5;33mConv2D\u001b[0m)                    │ (\u001b[38;5;45mNone\u001b[0m, \u001b[38;5;34m63\u001b[0m, \u001b[38;5;34m63\u001b[0m, \u001b[38;5;34m64\u001b[0m)          │          \u001b[38;5;34m18,496\u001b[0m │\n",
       "├──────────────────────────────────────┼─────────────────────────────┼─────────────────┤\n",
       "│ conv2d_3 (\u001b[38;5;33mConv2D\u001b[0m)                    │ (\u001b[38;5;45mNone\u001b[0m, \u001b[38;5;34m61\u001b[0m, \u001b[38;5;34m61\u001b[0m, \u001b[38;5;34m64\u001b[0m)          │          \u001b[38;5;34m36,928\u001b[0m │\n",
       "├──────────────────────────────────────┼─────────────────────────────┼─────────────────┤\n",
       "│ max_pooling2d_1 (\u001b[38;5;33mMaxPooling2D\u001b[0m)       │ (\u001b[38;5;45mNone\u001b[0m, \u001b[38;5;34m30\u001b[0m, \u001b[38;5;34m30\u001b[0m, \u001b[38;5;34m64\u001b[0m)          │               \u001b[38;5;34m0\u001b[0m │\n",
       "├──────────────────────────────────────┼─────────────────────────────┼─────────────────┤\n",
       "│ conv2d_4 (\u001b[38;5;33mConv2D\u001b[0m)                    │ (\u001b[38;5;45mNone\u001b[0m, \u001b[38;5;34m30\u001b[0m, \u001b[38;5;34m30\u001b[0m, \u001b[38;5;34m128\u001b[0m)         │          \u001b[38;5;34m73,856\u001b[0m │\n",
       "├──────────────────────────────────────┼─────────────────────────────┼─────────────────┤\n",
       "│ conv2d_5 (\u001b[38;5;33mConv2D\u001b[0m)                    │ (\u001b[38;5;45mNone\u001b[0m, \u001b[38;5;34m28\u001b[0m, \u001b[38;5;34m28\u001b[0m, \u001b[38;5;34m128\u001b[0m)         │         \u001b[38;5;34m147,584\u001b[0m │\n",
       "├──────────────────────────────────────┼─────────────────────────────┼─────────────────┤\n",
       "│ max_pooling2d_2 (\u001b[38;5;33mMaxPooling2D\u001b[0m)       │ (\u001b[38;5;45mNone\u001b[0m, \u001b[38;5;34m14\u001b[0m, \u001b[38;5;34m14\u001b[0m, \u001b[38;5;34m128\u001b[0m)         │               \u001b[38;5;34m0\u001b[0m │\n",
       "├──────────────────────────────────────┼─────────────────────────────┼─────────────────┤\n",
       "│ conv2d_6 (\u001b[38;5;33mConv2D\u001b[0m)                    │ (\u001b[38;5;45mNone\u001b[0m, \u001b[38;5;34m14\u001b[0m, \u001b[38;5;34m14\u001b[0m, \u001b[38;5;34m256\u001b[0m)         │         \u001b[38;5;34m295,168\u001b[0m │\n",
       "├──────────────────────────────────────┼─────────────────────────────┼─────────────────┤\n",
       "│ conv2d_7 (\u001b[38;5;33mConv2D\u001b[0m)                    │ (\u001b[38;5;45mNone\u001b[0m, \u001b[38;5;34m12\u001b[0m, \u001b[38;5;34m12\u001b[0m, \u001b[38;5;34m256\u001b[0m)         │         \u001b[38;5;34m590,080\u001b[0m │\n",
       "├──────────────────────────────────────┼─────────────────────────────┼─────────────────┤\n",
       "│ max_pooling2d_3 (\u001b[38;5;33mMaxPooling2D\u001b[0m)       │ (\u001b[38;5;45mNone\u001b[0m, \u001b[38;5;34m6\u001b[0m, \u001b[38;5;34m6\u001b[0m, \u001b[38;5;34m256\u001b[0m)           │               \u001b[38;5;34m0\u001b[0m │\n",
       "├──────────────────────────────────────┼─────────────────────────────┼─────────────────┤\n",
       "│ conv2d_8 (\u001b[38;5;33mConv2D\u001b[0m)                    │ (\u001b[38;5;45mNone\u001b[0m, \u001b[38;5;34m6\u001b[0m, \u001b[38;5;34m6\u001b[0m, \u001b[38;5;34m512\u001b[0m)           │       \u001b[38;5;34m1,180,160\u001b[0m │\n",
       "├──────────────────────────────────────┼─────────────────────────────┼─────────────────┤\n",
       "│ conv2d_9 (\u001b[38;5;33mConv2D\u001b[0m)                    │ (\u001b[38;5;45mNone\u001b[0m, \u001b[38;5;34m4\u001b[0m, \u001b[38;5;34m4\u001b[0m, \u001b[38;5;34m512\u001b[0m)           │       \u001b[38;5;34m2,359,808\u001b[0m │\n",
       "├──────────────────────────────────────┼─────────────────────────────┼─────────────────┤\n",
       "│ max_pooling2d_4 (\u001b[38;5;33mMaxPooling2D\u001b[0m)       │ (\u001b[38;5;45mNone\u001b[0m, \u001b[38;5;34m2\u001b[0m, \u001b[38;5;34m2\u001b[0m, \u001b[38;5;34m512\u001b[0m)           │               \u001b[38;5;34m0\u001b[0m │\n",
       "├──────────────────────────────────────┼─────────────────────────────┼─────────────────┤\n",
       "│ dropout (\u001b[38;5;33mDropout\u001b[0m)                    │ (\u001b[38;5;45mNone\u001b[0m, \u001b[38;5;34m2\u001b[0m, \u001b[38;5;34m2\u001b[0m, \u001b[38;5;34m512\u001b[0m)           │               \u001b[38;5;34m0\u001b[0m │\n",
       "├──────────────────────────────────────┼─────────────────────────────┼─────────────────┤\n",
       "│ flatten (\u001b[38;5;33mFlatten\u001b[0m)                    │ (\u001b[38;5;45mNone\u001b[0m, \u001b[38;5;34m2048\u001b[0m)                │               \u001b[38;5;34m0\u001b[0m │\n",
       "├──────────────────────────────────────┼─────────────────────────────┼─────────────────┤\n",
       "│ dense (\u001b[38;5;33mDense\u001b[0m)                        │ (\u001b[38;5;45mNone\u001b[0m, \u001b[38;5;34m1500\u001b[0m)                │       \u001b[38;5;34m3,073,500\u001b[0m │\n",
       "├──────────────────────────────────────┼─────────────────────────────┼─────────────────┤\n",
       "│ dropout_1 (\u001b[38;5;33mDropout\u001b[0m)                  │ (\u001b[38;5;45mNone\u001b[0m, \u001b[38;5;34m1500\u001b[0m)                │               \u001b[38;5;34m0\u001b[0m │\n",
       "├──────────────────────────────────────┼─────────────────────────────┼─────────────────┤\n",
       "│ dense_1 (\u001b[38;5;33mDense\u001b[0m)                      │ (\u001b[38;5;45mNone\u001b[0m, \u001b[38;5;34m38\u001b[0m)                  │          \u001b[38;5;34m57,038\u001b[0m │\n",
       "└──────────────────────────────────────┴─────────────────────────────┴─────────────────┘\n"
      ]
     },
     "metadata": {},
     "output_type": "display_data"
    },
    {
     "data": {
      "text/html": [
       "<pre style=\"white-space:pre;overflow-x:auto;line-height:normal;font-family:Menlo,'DejaVu Sans Mono',consolas,'Courier New',monospace\"><span style=\"font-weight: bold\"> Total params: </span><span style=\"color: #00af00; text-decoration-color: #00af00\">7,842,762</span> (29.92 MB)\n",
       "</pre>\n"
      ],
      "text/plain": [
       "\u001b[1m Total params: \u001b[0m\u001b[38;5;34m7,842,762\u001b[0m (29.92 MB)\n"
      ]
     },
     "metadata": {},
     "output_type": "display_data"
    },
    {
     "data": {
      "text/html": [
       "<pre style=\"white-space:pre;overflow-x:auto;line-height:normal;font-family:Menlo,'DejaVu Sans Mono',consolas,'Courier New',monospace\"><span style=\"font-weight: bold\"> Trainable params: </span><span style=\"color: #00af00; text-decoration-color: #00af00\">7,842,762</span> (29.92 MB)\n",
       "</pre>\n"
      ],
      "text/plain": [
       "\u001b[1m Trainable params: \u001b[0m\u001b[38;5;34m7,842,762\u001b[0m (29.92 MB)\n"
      ]
     },
     "metadata": {},
     "output_type": "display_data"
    },
    {
     "data": {
      "text/html": [
       "<pre style=\"white-space:pre;overflow-x:auto;line-height:normal;font-family:Menlo,'DejaVu Sans Mono',consolas,'Courier New',monospace\"><span style=\"font-weight: bold\"> Non-trainable params: </span><span style=\"color: #00af00; text-decoration-color: #00af00\">0</span> (0.00 B)\n",
       "</pre>\n"
      ],
      "text/plain": [
       "\u001b[1m Non-trainable params: \u001b[0m\u001b[38;5;34m0\u001b[0m (0.00 B)\n"
      ]
     },
     "metadata": {},
     "output_type": "display_data"
    }
   ],
   "source": [
    "model.summary()"
   ]
  },
  {
   "cell_type": "code",
   "execution_count": 25,
   "id": "e6bce057-2f03-4c11-a009-9b694c65e51d",
   "metadata": {
    "id": "e6bce057-2f03-4c11-a009-9b694c65e51d"
   },
   "outputs": [],
   "source": []
  },
  {
   "cell_type": "markdown",
   "id": "a238a88d-9e98-486c-9163-670092ebbbc6",
   "metadata": {
    "id": "a238a88d-9e98-486c-9163-670092ebbbc6"
   },
   "source": [
    "### Model Training"
   ]
  },
  {
   "cell_type": "code",
   "execution_count": 26,
   "id": "a77e77d0-25e1-464f-8f26-80641b8c3727",
   "metadata": {
    "colab": {
     "base_uri": "https://localhost:8080/"
    },
    "id": "a77e77d0-25e1-464f-8f26-80641b8c3727",
    "outputId": "31c803e7-7332-4072-fd58-f0c0a4d45b11"
   },
   "outputs": [
    {
     "name": "stdout",
     "output_type": "stream",
     "text": [
      "Epoch 1/10\n",
      "\u001b[1m2197/2197\u001b[0m \u001b[32m━━━━━━━━━━━━━━━━━━━━\u001b[0m\u001b[37m\u001b[0m \u001b[1m160s\u001b[0m 67ms/step - accuracy: 0.3559 - loss: 2.2833 - val_accuracy: 0.8391 - val_loss: 0.5214\n",
      "Epoch 2/10\n",
      "\u001b[1m2197/2197\u001b[0m \u001b[32m━━━━━━━━━━━━━━━━━━━━\u001b[0m\u001b[37m\u001b[0m \u001b[1m181s\u001b[0m 61ms/step - accuracy: 0.8271 - loss: 0.5476 - val_accuracy: 0.8939 - val_loss: 0.3287\n",
      "Epoch 3/10\n",
      "\u001b[1m2197/2197\u001b[0m \u001b[32m━━━━━━━━━━━━━━━━━━━━\u001b[0m\u001b[37m\u001b[0m \u001b[1m135s\u001b[0m 61ms/step - accuracy: 0.9005 - loss: 0.3125 - val_accuracy: 0.9304 - val_loss: 0.2182\n",
      "Epoch 4/10\n",
      "\u001b[1m2197/2197\u001b[0m \u001b[32m━━━━━━━━━━━━━━━━━━━━\u001b[0m\u001b[37m\u001b[0m \u001b[1m136s\u001b[0m 62ms/step - accuracy: 0.9332 - loss: 0.2055 - val_accuracy: 0.9225 - val_loss: 0.2368\n",
      "Epoch 5/10\n",
      "\u001b[1m2197/2197\u001b[0m \u001b[32m━━━━━━━━━━━━━━━━━━━━\u001b[0m\u001b[37m\u001b[0m \u001b[1m141s\u001b[0m 61ms/step - accuracy: 0.9529 - loss: 0.1433 - val_accuracy: 0.9487 - val_loss: 0.1546\n",
      "Epoch 6/10\n",
      "\u001b[1m2197/2197\u001b[0m \u001b[32m━━━━━━━━━━━━━━━━━━━━\u001b[0m\u001b[37m\u001b[0m \u001b[1m143s\u001b[0m 62ms/step - accuracy: 0.9634 - loss: 0.1113 - val_accuracy: 0.9542 - val_loss: 0.1427\n",
      "Epoch 7/10\n",
      "\u001b[1m2197/2197\u001b[0m \u001b[32m━━━━━━━━━━━━━━━━━━━━\u001b[0m\u001b[37m\u001b[0m \u001b[1m142s\u001b[0m 62ms/step - accuracy: 0.9720 - loss: 0.0858 - val_accuracy: 0.9601 - val_loss: 0.1344\n",
      "Epoch 8/10\n",
      "\u001b[1m2197/2197\u001b[0m \u001b[32m━━━━━━━━━━━━━━━━━━━━\u001b[0m\u001b[37m\u001b[0m \u001b[1m144s\u001b[0m 66ms/step - accuracy: 0.9753 - loss: 0.0755 - val_accuracy: 0.9555 - val_loss: 0.1515\n",
      "Epoch 9/10\n",
      "\u001b[1m2197/2197\u001b[0m \u001b[32m━━━━━━━━━━━━━━━━━━━━\u001b[0m\u001b[37m\u001b[0m \u001b[1m134s\u001b[0m 61ms/step - accuracy: 0.9782 - loss: 0.0667 - val_accuracy: 0.9555 - val_loss: 0.1432\n",
      "Epoch 10/10\n",
      "\u001b[1m2197/2197\u001b[0m \u001b[32m━━━━━━━━━━━━━━━━━━━━\u001b[0m\u001b[37m\u001b[0m \u001b[1m152s\u001b[0m 65ms/step - accuracy: 0.9826 - loss: 0.0557 - val_accuracy: 0.9512 - val_loss: 0.1695\n"
     ]
    }
   ],
   "source": [
    "training_history = model.fit(x = training_set,validation_data = validation_set,epochs=10)"
   ]
  },
  {
   "cell_type": "code",
   "execution_count": 26,
   "id": "a6718a9c-df36-49cd-a826-fec440b1d7b3",
   "metadata": {
    "id": "a6718a9c-df36-49cd-a826-fec440b1d7b3"
   },
   "outputs": [],
   "source": []
  },
  {
   "cell_type": "markdown",
   "id": "352e64ec-d94d-485d-a072-88e091b39187",
   "metadata": {
    "id": "352e64ec-d94d-485d-a072-88e091b39187"
   },
   "source": [
    "### Model Evalution"
   ]
  },
  {
   "cell_type": "code",
   "execution_count": 27,
   "id": "f438df4d-8b3c-460d-a892-2b55d107d70c",
   "metadata": {
    "colab": {
     "base_uri": "https://localhost:8080/"
    },
    "id": "f438df4d-8b3c-460d-a892-2b55d107d70c",
    "outputId": "5145c107-c7e2-42e1-9901-ebe3db0b0161"
   },
   "outputs": [
    {
     "name": "stdout",
     "output_type": "stream",
     "text": [
      "\u001b[1m2197/2197\u001b[0m \u001b[32m━━━━━━━━━━━━━━━━━━━━\u001b[0m\u001b[37m\u001b[0m \u001b[1m45s\u001b[0m 20ms/step - accuracy: 0.9787 - loss: 0.0620\n"
     ]
    }
   ],
   "source": [
    "# Model Evalution on traning set\n",
    "train_loss, train_acc = model.evaluate(training_set)\n"
   ]
  },
  {
   "cell_type": "code",
   "execution_count": 28,
   "id": "ad30aa63-3a45-41b5-8408-f4583e05c893",
   "metadata": {
    "colab": {
     "base_uri": "https://localhost:8080/"
    },
    "id": "ad30aa63-3a45-41b5-8408-f4583e05c893",
    "outputId": "16206eb8-7b2b-4ab1-bebc-4c558357962e"
   },
   "outputs": [
    {
     "name": "stdout",
     "output_type": "stream",
     "text": [
      "Training accuracy: 0.9802119731903076\n",
      "Training Loss: 0.057540323585271835\n"
     ]
    }
   ],
   "source": [
    "print('Training accuracy:', train_acc)\n",
    "print('Training Loss:', train_loss)"
   ]
  },
  {
   "cell_type": "code",
   "execution_count": 29,
   "id": "5bb9cdbb-9f0e-463a-a9bf-4ec1063b9d87",
   "metadata": {
    "colab": {
     "base_uri": "https://localhost:8080/"
    },
    "id": "5bb9cdbb-9f0e-463a-a9bf-4ec1063b9d87",
    "outputId": "def917e9-49fd-4be9-dbc4-774de8a3681f"
   },
   "outputs": [
    {
     "name": "stdout",
     "output_type": "stream",
     "text": [
      "\u001b[1m550/550\u001b[0m \u001b[32m━━━━━━━━━━━━━━━━━━━━\u001b[0m\u001b[37m\u001b[0m \u001b[1m11s\u001b[0m 20ms/step - accuracy: 0.9518 - loss: 0.1695\n"
     ]
    }
   ],
   "source": [
    "# Model on validation set\n",
    "val_loss, val_acc = model.evaluate(validation_set)\n"
   ]
  },
  {
   "cell_type": "code",
   "execution_count": 30,
   "id": "785e2dcd-12a8-45bf-b204-7a18b1564ce6",
   "metadata": {
    "colab": {
     "base_uri": "https://localhost:8080/"
    },
    "id": "785e2dcd-12a8-45bf-b204-7a18b1564ce6",
    "outputId": "a668e677-3759-40e2-da4c-8ea31114515f"
   },
   "outputs": [
    {
     "name": "stdout",
     "output_type": "stream",
     "text": [
      "Validation accuracy: 0.9512292146682739\n",
      "Validation loss: 0.16953153908252716\n"
     ]
    }
   ],
   "source": [
    "print('Validation accuracy:', val_acc)\n",
    "print('Validation loss:', val_loss)"
   ]
  },
  {
   "cell_type": "code",
   "execution_count": 31,
   "id": "05465326-5f17-4985-9bba-66879a091cf1",
   "metadata": {
    "id": "05465326-5f17-4985-9bba-66879a091cf1"
   },
   "outputs": [],
   "source": [
    "!cd Plant-Disease-Detection"
   ]
  },
  {
   "cell_type": "code",
   "execution_count": 32,
   "id": "T9lS-dNsnzKL",
   "metadata": {
    "colab": {
     "base_uri": "https://localhost:8080/"
    },
    "id": "T9lS-dNsnzKL",
    "outputId": "905ed16b-2be4-48bc-f006-144866b81f64"
   },
   "outputs": [
    {
     "name": "stdout",
     "output_type": "stream",
     "text": [
      "/content\n"
     ]
    }
   ],
   "source": [
    "!pwd\n"
   ]
  },
  {
   "cell_type": "markdown",
   "id": "831d0f80-6c9a-4fa9-9336-aa0d7e372cf5",
   "metadata": {
    "id": "831d0f80-6c9a-4fa9-9336-aa0d7e372cf5"
   },
   "source": [
    "### Saving Model"
   ]
  },
  {
   "cell_type": "code",
   "execution_count": 33,
   "id": "b6ac65ee-30a1-4e0a-8a66-3d1f404b1d64",
   "metadata": {
    "id": "b6ac65ee-30a1-4e0a-8a66-3d1f404b1d64"
   },
   "outputs": [],
   "source": [
    "model.save('trained_model.keras')"
   ]
  },
  {
   "cell_type": "code",
   "execution_count": 34,
   "id": "91598659-4c98-49a6-b783-c1194efb28b3",
   "metadata": {
    "colab": {
     "base_uri": "https://localhost:8080/"
    },
    "id": "91598659-4c98-49a6-b783-c1194efb28b3",
    "outputId": "c514a182-fe47-47c0-f24c-92cc1c833230"
   },
   "outputs": [
    {
     "name": "stderr",
     "output_type": "stream",
     "text": [
      "WARNING:absl:You are saving your model as an HDF5 file via `model.save()` or `keras.saving.save_model(model)`. This file format is considered legacy. We recommend using instead the native Keras format, e.g. `model.save('my_model.keras')` or `keras.saving.save_model(model, 'my_model.keras')`. \n"
     ]
    }
   ],
   "source": [
    "model.save('trained_model.h5')"
   ]
  },
  {
   "cell_type": "code",
   "execution_count": 35,
   "id": "f8e9fe03-d9f2-4910-9c4b-031e58929f7d",
   "metadata": {
    "colab": {
     "base_uri": "https://localhost:8080/"
    },
    "id": "f8e9fe03-d9f2-4910-9c4b-031e58929f7d",
    "outputId": "5cd8d6f5-8a1f-4ca7-ce54-cc0123c4b0ad"
   },
   "outputs": [
    {
     "data": {
      "text/plain": [
       "{'accuracy': [0.5651753544807434,\n",
       "  0.8513834476470947,\n",
       "  0.9096237421035767,\n",
       "  0.9368945360183716,\n",
       "  0.9532114863395691,\n",
       "  0.9641510844230652,\n",
       "  0.9717618823051453,\n",
       "  0.9760153889656067,\n",
       "  0.9788178205490112,\n",
       "  0.98268723487854],\n",
       " 'loss': [1.4838286638259888,\n",
       "  0.4692329466342926,\n",
       "  0.27941378951072693,\n",
       "  0.19331400096416473,\n",
       "  0.13996349275112152,\n",
       "  0.10964343696832657,\n",
       "  0.08559242635965347,\n",
       "  0.07382399588823318,\n",
       "  0.06462373584508896,\n",
       "  0.054822709411382675],\n",
       " 'val_accuracy': [0.8391190767288208,\n",
       "  0.8938652276992798,\n",
       "  0.9304006099700928,\n",
       "  0.9225472211837769,\n",
       "  0.9487252235412598,\n",
       "  0.954245388507843,\n",
       "  0.960050106048584,\n",
       "  0.9554973840713501,\n",
       "  0.9554973840713501,\n",
       "  0.9512292146682739],\n",
       " 'val_loss': [0.5213591456413269,\n",
       "  0.32870203256607056,\n",
       "  0.2181965857744217,\n",
       "  0.23679189383983612,\n",
       "  0.15463575720787048,\n",
       "  0.14271695911884308,\n",
       "  0.13441699743270874,\n",
       "  0.15151742100715637,\n",
       "  0.14319004118442535,\n",
       "  0.16953158378601074]}"
      ]
     },
     "execution_count": 35,
     "metadata": {},
     "output_type": "execute_result"
    }
   ],
   "source": [
    "training_history.history #Return Dictionary of history"
   ]
  },
  {
   "cell_type": "code",
   "execution_count": 36,
   "id": "15d6a5a0-232b-4a95-a26e-a75a08b116a3",
   "metadata": {
    "id": "15d6a5a0-232b-4a95-a26e-a75a08b116a3"
   },
   "outputs": [],
   "source": [
    "#Recording History in json\n",
    "import json\n",
    "with open('training_hist.json','w') as f:\n",
    "  json.dump(training_history.history,f)"
   ]
  },
  {
   "cell_type": "code",
   "execution_count": 37,
   "id": "a13794fe-ce5f-4e62-b201-587b28f0f6f3",
   "metadata": {
    "colab": {
     "base_uri": "https://localhost:8080/"
    },
    "id": "a13794fe-ce5f-4e62-b201-587b28f0f6f3",
    "outputId": "51718849-f9f8-4661-dd2c-3bdf7bdb2b66"
   },
   "outputs": [
    {
     "name": "stdout",
     "output_type": "stream",
     "text": [
      "dict_keys(['accuracy', 'loss', 'val_accuracy', 'val_loss'])\n"
     ]
    }
   ],
   "source": [
    "print(training_history.history.keys())"
   ]
  },
  {
   "cell_type": "code",
   "execution_count": null,
   "id": "o6PuUZ9Aomgl",
   "metadata": {
    "colab": {
     "base_uri": "https://localhost:8080/"
    },
    "id": "o6PuUZ9Aomgl",
    "outputId": "b19c9e37-3088-4d1f-d1a4-96e6b682a46c"
   },
   "outputs": [
    {
     "name": "stdout",
     "output_type": "stream",
     "text": [
      "Mounted at /content/drive\n"
     ]
    }
   ],
   "source": [
    "from google.colab import drive\n",
    "drive.mount('/content/drive')"
   ]
  },
  {
   "cell_type": "markdown",
   "id": "c3a989d6-9a22-4710-be96-39b1c31d442f",
   "metadata": {
    "id": "c3a989d6-9a22-4710-be96-39b1c31d442f"
   },
   "source": [
    "### Accuracy Visulization"
   ]
  },
  {
   "cell_type": "markdown",
   "id": "8kqg1FWGonMd",
   "metadata": {
    "id": "8kqg1FWGonMd"
   },
   "source": []
  },
  {
   "cell_type": "code",
   "execution_count": 38,
   "id": "3dc5d57b-8223-4535-a66d-2e90c58e122a",
   "metadata": {
    "colab": {
     "base_uri": "https://localhost:8080/",
     "height": 472
    },
    "id": "3dc5d57b-8223-4535-a66d-2e90c58e122a",
    "outputId": "aff22f90-9262-4390-f621-a83b51aa5458"
   },
   "outputs": [
    {
     "data": {
      "image/png": "[encoded data removed]",
      "text/plain": [
       "<Figure size 640x480 with 1 Axes>"
      ]
     },
     "metadata": {},
     "output_type": "display_data"
    }
   ],
   "source": [
    "epochs = [i for i in range(1,11)]\n",
    "plt.plot(epochs,training_history.history['accuracy'],color='red',label='Training Accuracy')\n",
    "plt.plot(epochs,training_history.history['val_accuracy'],color='blue',label='Validation Accuracy')\n",
    "plt.xlabel('No. of Epochs')\n",
    "plt.title('Visualization of Accuracy Result')\n",
    "plt.legend()\n",
    "plt.show()"
   ]
  },
  {
   "cell_type": "markdown",
   "id": "3d3b5a93-de8e-473d-888e-fa46d5c0db61",
   "metadata": {
    "id": "3d3b5a93-de8e-473d-888e-fa46d5c0db61"
   },
   "source": [
    "### Classification (othor model)"
   ]
  },
  {
   "cell_type": "code",
   "execution_count": 39,
   "id": "7055340f-ac93-4d3c-8f9b-814c4fc08ae3",
   "metadata": {
    "id": "7055340f-ac93-4d3c-8f9b-814c4fc08ae3"
   },
   "outputs": [],
   "source": [
    "class_name = validation_set.class_names"
   ]
  },
  {
   "cell_type": "code",
   "execution_count": 40,
   "id": "ONdOOMuArh26",
   "metadata": {
    "colab": {
     "base_uri": "https://localhost:8080/"
    },
    "id": "ONdOOMuArh26",
    "outputId": "5e05b2de-b725-4b7d-eb07-75b92fcfbeca"
   },
   "outputs": [
    {
     "data": {
      "text/plain": [
       "['Apple___Apple_scab',\n",
       " 'Apple___Black_rot',\n",
       " 'Apple___Cedar_apple_rust',\n",
       " 'Apple___healthy',\n",
       " 'Blueberry___healthy',\n",
       " 'Cherry_(including_sour)___Powdery_mildew',\n",
       " 'Cherry_(including_sour)___healthy',\n",
       " 'Corn_(maize)___Cercospora_leaf_spot Gray_leaf_spot',\n",
       " 'Corn_(maize)___Common_rust_',\n",
       " 'Corn_(maize)___Northern_Leaf_Blight',\n",
       " 'Corn_(maize)___healthy',\n",
       " 'Grape___Black_rot',\n",
       " 'Grape___Esca_(Black_Measles)',\n",
       " 'Grape___Leaf_blight_(Isariopsis_Leaf_Spot)',\n",
       " 'Grape___healthy',\n",
       " 'Orange___Haunglongbing_(Citrus_greening)',\n",
       " 'Peach___Bacterial_spot',\n",
       " 'Peach___healthy',\n",
       " 'Pepper,_bell___Bacterial_spot',\n",
       " 'Pepper,_bell___healthy',\n",
       " 'Potato___Early_blight',\n",
       " 'Potato___Late_blight',\n",
       " 'Potato___healthy',\n",
       " 'Raspberry___healthy',\n",
       " 'Soybean___healthy',\n",
       " 'Squash___Powdery_mildew',\n",
       " 'Strawberry___Leaf_scorch',\n",
       " 'Strawberry___healthy',\n",
       " 'Tomato___Bacterial_spot',\n",
       " 'Tomato___Early_blight',\n",
       " 'Tomato___Late_blight',\n",
       " 'Tomato___Leaf_Mold',\n",
       " 'Tomato___Septoria_leaf_spot',\n",
       " 'Tomato___Spider_mites Two-spotted_spider_mite',\n",
       " 'Tomato___Target_Spot',\n",
       " 'Tomato___Tomato_Yellow_Leaf_Curl_Virus',\n",
       " 'Tomato___Tomato_mosaic_virus',\n",
       " 'Tomato___healthy']"
      ]
     },
     "execution_count": 40,
     "metadata": {},
     "output_type": "execute_result"
    }
   ],
   "source": [
    "class_name"
   ]
  },
  {
   "cell_type": "code",
   "execution_count": 43,
   "id": "6f43f746-0dd8-4f7e-b65d-9b2d50957c3f",
   "metadata": {
    "colab": {
     "base_uri": "https://localhost:8080/"
    },
    "id": "6f43f746-0dd8-4f7e-b65d-9b2d50957c3f",
    "outputId": "776fcb12-da26-408a-de06-04450e453ad8"
   },
   "outputs": [
    {
     "name": "stdout",
     "output_type": "stream",
     "text": [
      "Found 17572 files belonging to 38 classes.\n",
      "Validation dataset successfully loaded!\n"
     ]
    }
   ],
   "source": [
    "test_set = tf.keras.utils.image_dataset_from_directory(\n",
    "    '/content/Plant-Disease-Detection/valid', # Changed the path to include the full path\n",
    "    labels=\"inferred\",\n",
    "    label_mode=\"categorical\",\n",
    "    class_names=None,\n",
    "    color_mode=\"rgb\",\n",
    "    batch_size=1,\n",
    "    image_size=(128, 128),\n",
    "    shuffle=False,\n",
    "    seed=None,\n",
    "    validation_split=None,\n",
    "    subset=None,\n",
    "    interpolation=\"bilinear\",\n",
    "    follow_links=False,\n",
    "    crop_to_aspect_ratio=False\n",
    ")\n",
    "\n",
    "print(\"Validation dataset successfully loaded!\")"
   ]
  },
  {
   "cell_type": "markdown",
   "id": "fabf9269-68c9-45fd-ae3d-108bb8980311",
   "metadata": {
    "id": "fabf9269-68c9-45fd-ae3d-108bb8980311"
   },
   "source": [
    "# Predictions."
   ]
  },
  {
   "cell_type": "code",
   "execution_count": 44,
   "id": "cb62ed03-94c3-45c5-b957-7a5c3edf4c27",
   "metadata": {
    "colab": {
     "base_uri": "https://localhost:8080/"
    },
    "id": "cb62ed03-94c3-45c5-b957-7a5c3edf4c27",
    "outputId": "7d02dae6-c5cd-4b08-d3d0-e90cf81d12c2"
   },
   "outputs": [
    {
     "name": "stdout",
     "output_type": "stream",
     "text": [
      "\u001b[1m17572/17572\u001b[0m \u001b[32m━━━━━━━━━━━━━━━━━━━━\u001b[0m\u001b[37m\u001b[0m \u001b[1m55s\u001b[0m 3ms/step\n"
     ]
    }
   ],
   "source": [
    "y_pred = model.predict(test_set)\n",
    "predicted_categories = tf.argmax(y_pred, axis=1)"
   ]
  },
  {
   "cell_type": "code",
   "execution_count": 45,
   "id": "gTxBIr-_sTpy",
   "metadata": {
    "colab": {
     "base_uri": "https://localhost:8080/"
    },
    "id": "gTxBIr-_sTpy",
    "outputId": "21f897b8-b519-40d7-976b-d9bd1de61f8f"
   },
   "outputs": [
    {
     "data": {
      "text/plain": [
       "array([[9.9999988e-01, 2.2522403e-12, 3.8928753e-11, ..., 4.6528092e-16,\n",
       "        3.7918416e-14, 4.4171847e-14],\n",
       "       [9.9999988e-01, 1.2477836e-11, 1.6379922e-11, ..., 5.9319210e-18,\n",
       "        6.3756646e-17, 3.4502185e-15],\n",
       "       [9.9999976e-01, 1.1559616e-13, 4.5707856e-12, ..., 5.1837284e-19,\n",
       "        1.4892671e-16, 3.8126965e-15],\n",
       "       ...,\n",
       "       [3.6023337e-11, 5.3026802e-12, 3.3713332e-09, ..., 3.7535851e-12,\n",
       "        9.3912465e-12, 9.9998653e-01],\n",
       "       [1.8227215e-07, 2.3297912e-09, 3.3370776e-07, ..., 3.0519163e-09,\n",
       "        8.4904501e-09, 9.9979407e-01],\n",
       "       [5.2060428e-13, 2.5299644e-13, 1.4973326e-11, ..., 7.1837762e-15,\n",
       "        2.6071520e-11, 9.9999678e-01]], dtype=float32)"
      ]
     },
     "execution_count": 45,
     "metadata": {},
     "output_type": "execute_result"
    }
   ],
   "source": [
    "y_pred"
   ]
  },
  {
   "cell_type": "code",
   "execution_count": 54,
   "id": "2bCNb7Zqsjtp",
   "metadata": {
    "colab": {
     "base_uri": "https://localhost:8080/"
    },
    "id": "2bCNb7Zqsjtp",
    "outputId": "cfe3549a-2757-48f4-ed80-f10ff62ec497"
   },
   "outputs": [
    {
     "data": {
      "text/plain": [
       "(17572, 38)"
      ]
     },
     "execution_count": 54,
     "metadata": {},
     "output_type": "execute_result"
    }
   ],
   "source": [
    "y_pred.shape"
   ]
  },
  {
   "cell_type": "code",
   "execution_count": 55,
   "id": "91ab0f7c-0e3b-4650-a1b1-a52aece1a785",
   "metadata": {
    "id": "91ab0f7c-0e3b-4650-a1b1-a52aece1a785"
   },
   "outputs": [],
   "source": [
    "true_categories = tf.concat([y for x, y in test_set], axis=0)\n",
    "Y_true = tf.argmax(true_categories, axis=1)  #return index of max probablity"
   ]
  },
  {
   "cell_type": "code",
   "execution_count": 56,
   "id": "ynTQxo35tocE",
   "metadata": {
    "colab": {
     "base_uri": "https://localhost:8080/"
    },
    "id": "ynTQxo35tocE",
    "outputId": "7ffdabe1-fcee-49cb-f003-8f8034a54aef"
   },
   "outputs": [
    {
     "data": {
      "text/plain": [
       "<tf.Tensor: shape=(17572, 38), dtype=float32, numpy=\n",
       "array([[1., 0., 0., ..., 0., 0., 0.],\n",
       "       [1., 0., 0., ..., 0., 0., 0.],\n",
       "       [1., 0., 0., ..., 0., 0., 0.],\n",
       "       ...,\n",
       "       [0., 0., 0., ..., 0., 0., 1.],\n",
       "       [0., 0., 0., ..., 0., 0., 1.],\n",
       "       [0., 0., 0., ..., 0., 0., 1.]], dtype=float32)>"
      ]
     },
     "execution_count": 56,
     "metadata": {},
     "output_type": "execute_result"
    }
   ],
   "source": [
    "true_categories"
   ]
  },
  {
   "cell_type": "code",
   "execution_count": 48,
   "id": "aY01n2fusSo0",
   "metadata": {
    "colab": {
     "base_uri": "https://localhost:8080/"
    },
    "id": "aY01n2fusSo0",
    "outputId": "9977a473-5900-4e59-ec49-2d02c9b97925"
   },
   "outputs": [
    {
     "data": {
      "text/plain": [
       "TensorShape([17572])"
      ]
     },
     "execution_count": 48,
     "metadata": {},
     "output_type": "execute_result"
    }
   ],
   "source": [
    "Y_true.shape"
   ]
  },
  {
   "cell_type": "code",
   "execution_count": 57,
   "id": "d39bf467-6020-41ac-bdf4-fc17bc5d699d",
   "metadata": {
    "colab": {
     "base_uri": "https://localhost:8080/"
    },
    "id": "d39bf467-6020-41ac-bdf4-fc17bc5d699d",
    "outputId": "70f433ae-69a0-4ea5-d715-a79303e8a9c2"
   },
   "outputs": [
    {
     "data": {
      "text/plain": [
       "<tf.Tensor: shape=(17572,), dtype=int64, numpy=array([ 0,  0,  0, ..., 37, 37, 37])>"
      ]
     },
     "execution_count": 57,
     "metadata": {},
     "output_type": "execute_result"
    }
   ],
   "source": [
    "Y_true"
   ]
  },
  {
   "cell_type": "code",
   "execution_count": 58,
   "id": "83ecabcc-b4f8-48fb-8390-55f594f8db94",
   "metadata": {
    "colab": {
     "base_uri": "https://localhost:8080/"
    },
    "id": "83ecabcc-b4f8-48fb-8390-55f594f8db94",
    "outputId": "68f86677-c839-4b0d-a501-b7d726e06c93"
   },
   "outputs": [
    {
     "data": {
      "text/plain": [
       "<tf.Tensor: shape=(17572,), dtype=int64, numpy=array([ 0,  0,  0, ..., 37, 37, 37])>"
      ]
     },
     "execution_count": 58,
     "metadata": {},
     "output_type": "execute_result"
    }
   ],
   "source": [
    "predicted_categories"
   ]
  },
  {
   "cell_type": "markdown",
   "id": "8769060a-042b-44c3-8cb7-2b5de3088d72",
   "metadata": {
    "id": "8769060a-042b-44c3-8cb7-2b5de3088d72"
   },
   "source": [
    "### Classification Report"
   ]
  },
  {
   "cell_type": "code",
   "execution_count": 59,
   "id": "1b75b2e9-007f-4220-83d5-24b44e471040",
   "metadata": {
    "id": "1b75b2e9-007f-4220-83d5-24b44e471040"
   },
   "outputs": [],
   "source": [
    "from sklearn.metrics import confusion_matrix,classification_report\n",
    "cm = confusion_matrix(Y_true,predicted_categories)"
   ]
  },
  {
   "cell_type": "code",
   "execution_count": 60,
   "id": "a4f464f9-ce92-4e1f-99a8-1155dc0a3937",
   "metadata": {
    "colab": {
     "base_uri": "https://localhost:8080/"
    },
    "id": "a4f464f9-ce92-4e1f-99a8-1155dc0a3937",
    "outputId": "5aa439ab-bc66-49b0-afae-39a33dc4323f"
   },
   "outputs": [
    {
     "name": "stdout",
     "output_type": "stream",
     "text": [
      "                                                    precision    recall  f1-score   support\n",
      "\n",
      "                                Apple___Apple_scab       0.97      0.94      0.96       504\n",
      "                                 Apple___Black_rot       0.99      0.97      0.98       497\n",
      "                          Apple___Cedar_apple_rust       0.95      0.96      0.96       440\n",
      "                                   Apple___healthy       0.99      0.91      0.95       502\n",
      "                               Blueberry___healthy       0.98      0.97      0.97       454\n",
      "          Cherry_(including_sour)___Powdery_mildew       0.95      1.00      0.97       421\n",
      "                 Cherry_(including_sour)___healthy       0.99      0.98      0.99       456\n",
      "Corn_(maize)___Cercospora_leaf_spot Gray_leaf_spot       0.79      0.98      0.87       410\n",
      "                       Corn_(maize)___Common_rust_       1.00      0.99      0.99       477\n",
      "               Corn_(maize)___Northern_Leaf_Blight       0.99      0.83      0.90       477\n",
      "                            Corn_(maize)___healthy       0.99      0.97      0.98       465\n",
      "                                 Grape___Black_rot       0.99      0.97      0.98       472\n",
      "                      Grape___Esca_(Black_Measles)       0.99      0.99      0.99       480\n",
      "        Grape___Leaf_blight_(Isariopsis_Leaf_Spot)       1.00      0.98      0.99       430\n",
      "                                   Grape___healthy       1.00      1.00      1.00       423\n",
      "          Orange___Haunglongbing_(Citrus_greening)       0.99      0.99      0.99       503\n",
      "                            Peach___Bacterial_spot       0.98      0.93      0.96       459\n",
      "                                   Peach___healthy       0.97      0.99      0.98       432\n",
      "                     Pepper,_bell___Bacterial_spot       0.93      0.98      0.96       478\n",
      "                            Pepper,_bell___healthy       0.93      0.98      0.95       497\n",
      "                             Potato___Early_blight       0.99      0.98      0.98       485\n",
      "                              Potato___Late_blight       0.97      0.84      0.90       485\n",
      "                                  Potato___healthy       0.99      0.95      0.97       456\n",
      "                               Raspberry___healthy       0.88      0.99      0.93       445\n",
      "                                 Soybean___healthy       0.99      0.97      0.98       505\n",
      "                           Squash___Powdery_mildew       0.94      1.00      0.97       434\n",
      "                          Strawberry___Leaf_scorch       0.99      0.95      0.97       444\n",
      "                              Strawberry___healthy       1.00      0.90      0.94       456\n",
      "                           Tomato___Bacterial_spot       0.91      0.98      0.94       425\n",
      "                             Tomato___Early_blight       0.81      0.94      0.87       480\n",
      "                              Tomato___Late_blight       0.80      0.95      0.87       463\n",
      "                                Tomato___Leaf_Mold       0.87      0.99      0.93       470\n",
      "                       Tomato___Septoria_leaf_spot       0.97      0.69      0.81       436\n",
      "     Tomato___Spider_mites Two-spotted_spider_mite       0.92      0.94      0.93       435\n",
      "                              Tomato___Target_Spot       0.94      0.81      0.87       457\n",
      "            Tomato___Tomato_Yellow_Leaf_Curl_Virus       0.96      1.00      0.98       490\n",
      "                      Tomato___Tomato_mosaic_virus       0.97      1.00      0.98       448\n",
      "                                  Tomato___healthy       1.00      0.96      0.98       481\n",
      "\n",
      "                                          accuracy                           0.95     17572\n",
      "                                         macro avg       0.95      0.95      0.95     17572\n",
      "                                      weighted avg       0.95      0.95      0.95     17572\n",
      "\n"
     ]
    }
   ],
   "source": [
    "# Precision Recall Fscore\n",
    "print(classification_report(Y_true,predicted_categories,target_names=class_name))"
   ]
  },
  {
   "cell_type": "code",
   "execution_count": 61,
   "id": "79b7d688-ddd8-4611-a3e1-3f20bf6e6c5e",
   "metadata": {
    "id": "79b7d688-ddd8-4611-a3e1-3f20bf6e6c5e"
   },
   "outputs": [],
   "source": [
    "# Precision =(TP/(TP+FP))\n",
    "# Recall =(TP/(TP+FN))\n",
    "# Accuracy =((TP+TN)/(TP+TN+FP+FN))\n",
    "# f1-score = Harmonic mean of Precision and Recall"
   ]
  },
  {
   "cell_type": "code",
   "execution_count": 62,
   "id": "9153d9c1-3e61-4ec7-95dc-067d67fe4d63",
   "metadata": {
    "id": "9153d9c1-3e61-4ec7-95dc-067d67fe4d63"
   },
   "outputs": [],
   "source": [
    "# pred = model.predict(testds)\n",
    "# pred = [np.argmax(i) for i in pred]\n",
    "# y_test = testds.classes\n",
    "# print(classification_report(pred,y_test))"
   ]
  },
  {
   "cell_type": "markdown",
   "id": "26a26443-c5e0-4002-ae02-616de2cbda74",
   "metadata": {
    "id": "26a26443-c5e0-4002-ae02-616de2cbda74"
   },
   "source": [
    "### Confusion Matrix"
   ]
  },
  {
   "cell_type": "code",
   "execution_count": 63,
   "id": "714211e3-b02d-4a71-bb76-224de702784c",
   "metadata": {
    "id": "714211e3-b02d-4a71-bb76-224de702784c"
   },
   "outputs": [],
   "source": [
    "cm = confusion_matrix(Y_true,predicted_categories)"
   ]
  },
  {
   "cell_type": "code",
   "execution_count": 64,
   "id": "2fb1fd1d-a01d-412f-9ba4-19d8fc6f07da",
   "metadata": {
    "colab": {
     "base_uri": "https://localhost:8080/"
    },
    "id": "2fb1fd1d-a01d-412f-9ba4-19d8fc6f07da",
    "outputId": "0e32e242-3327-46a1-faaf-4b4d8ff5fad6"
   },
   "outputs": [
    {
     "data": {
      "text/plain": [
       "array([[474,   2,   2, ...,   1,   0,   0],\n",
       "       [  2, 482,   1, ...,   0,   0,   0],\n",
       "       [  0,   0, 421, ...,   2,   0,   0],\n",
       "       ...,\n",
       "       [  0,   0,   0, ..., 488,   0,   0],\n",
       "       [  0,   0,   0, ...,   0, 447,   0],\n",
       "       [  0,   0,   0, ...,   0,   1, 463]])"
      ]
     },
     "execution_count": 64,
     "metadata": {},
     "output_type": "execute_result"
    }
   ],
   "source": [
    "cm"
   ]
  },
  {
   "cell_type": "code",
   "execution_count": 65,
   "id": "1cdc7c35-0e07-47ae-b016-abd7544b319c",
   "metadata": {
    "colab": {
     "base_uri": "https://localhost:8080/"
    },
    "id": "1cdc7c35-0e07-47ae-b016-abd7544b319c",
    "outputId": "d18e30fc-201f-4051-bfc9-db18917345df"
   },
   "outputs": [
    {
     "data": {
      "text/plain": [
       "(38, 38)"
      ]
     },
     "execution_count": 65,
     "metadata": {},
     "output_type": "execute_result"
    }
   ],
   "source": [
    "cm.shape"
   ]
  },
  {
   "cell_type": "code",
   "execution_count": 66,
   "id": "00c5c1fe-d93e-40ec-a1df-be3b1a0f9e33",
   "metadata": {
    "colab": {
     "base_uri": "https://localhost:8080/",
     "height": 1000
    },
    "id": "00c5c1fe-d93e-40ec-a1df-be3b1a0f9e33",
    "outputId": "7b37b90a-2790-4248-8d39-709011c8a391"
   },
   "outputs": [
    {
     "data": {
      "image/png": "[encoded data removed]",
      "text/plain": [
       "<Figure size 4000x4000 with 2 Axes>"
      ]
     },
     "metadata": {},
     "output_type": "display_data"
    }
   ],
   "source": [
    "plt.figure(figsize=(40, 40))\n",
    "sns.heatmap(cm,annot=True,annot_kws={\"size\": 10})\n",
    "\n",
    "plt.xlabel('Predicted Class',fontsize = 20)\n",
    "plt.ylabel('Actual Class',fontsize = 20)\n",
    "plt.title('Plant Disease Prediction Confusion Matrix',fontsize = 25)\n",
    "plt.show()"
   ]
  },
  {
   "cell_type": "code",
   "execution_count": null,
   "id": "32c10184-147b-4896-965e-6f6dfb37b53f",
   "metadata": {
    "id": "32c10184-147b-4896-965e-6f6dfb37b53f"
   },
   "outputs": [],
   "source": []
  },
  {
   "cell_type": "code",
   "execution_count": null,
   "id": "d2edc7c5-ec77-400e-ae6e-0b56054c2d7e",
   "metadata": {
    "id": "d2edc7c5-ec77-400e-ae6e-0b56054c2d7e"
   },
   "outputs": [],
   "source": []
  }
 ],
 "metadata": {
  "accelerator": "GPU",
  "colab": {
   "gpuType": "T4",
   "include_colab_link": true,
   "provenance": []
  },
  "kernelspec": {
   "display_name": "tensorflow_env",
   "language": "python",
   "name": "python3"
  },
  "language_info": {
   "codemirror_mode": {
    "name": "ipython",
    "version": 3
   },
   "file_extension": ".py",
   "mimetype": "text/x-python",
   "name": "python",
   "nbconvert_exporter": "python",
   "pygments_lexer": "ipython3",
   "version": "3.10.16"
  }
 },
 "nbformat": 4,
 "nbformat_minor": 5
}
