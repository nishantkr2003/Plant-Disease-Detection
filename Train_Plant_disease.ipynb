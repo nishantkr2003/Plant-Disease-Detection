{
  "cells": [
    {
      "cell_type": "markdown",
      "metadata": {
        "id": "view-in-github",
        "colab_type": "text"
      },
      "source": [
        "<a href=\"https://colab.research.google.com/github/nishantkr2003/Plant-Disease-Detection/blob/main/Train_Plant_disease.ipynb\" target=\"_parent\"><img src=\"https://colab.research.google.com/assets/colab-badge.svg\" alt=\"Open In Colab\"/></a>"
      ]
    },
    {
      "cell_type": "code",
      "execution_count": 1,
      "id": "0056be2e-312a-4977-94fe-ad1c0499c10a",
      "metadata": {
        "colab": {
          "base_uri": "https://localhost:8080/"
        },
        "id": "0056be2e-312a-4977-94fe-ad1c0499c10a",
        "outputId": "b6c4b666-f960-4388-8226-a1c2bb60e10d"
      },
      "outputs": [
        {
          "output_type": "stream",
          "name": "stdout",
          "text": [
            "Hello World!\n"
          ]
        }
      ],
      "source": [
        "print(\"Hello World!\")"
      ]
    },
    {
      "cell_type": "code",
      "execution_count": 2,
      "id": "PdOP8zmrq22a",
      "metadata": {
        "colab": {
          "base_uri": "https://localhost:8080/",
          "height": 36
        },
        "id": "PdOP8zmrq22a",
        "outputId": "4760aac6-f5ce-411b-95f8-b8a64b4193f6"
      },
      "outputs": [
        {
          "output_type": "execute_result",
          "data": {
            "text/plain": [
              "'/device:GPU:0'"
            ],
            "application/vnd.google.colaboratory.intrinsic+json": {
              "type": "string"
            }
          },
          "metadata": {},
          "execution_count": 2
        }
      ],
      "source": [
        "import tensorflow as tf\n",
        "tf.test.gpu_device_name()"
      ]
    },
    {
      "cell_type": "markdown",
      "id": "d6a93382-f509-4054-b8be-7f795555c68c",
      "metadata": {
        "id": "d6a93382-f509-4054-b8be-7f795555c68c"
      },
      "source": [
        "# Importing Libraries"
      ]
    },
    {
      "cell_type": "code",
      "execution_count": 3,
      "id": "4a62664f-5ce0-4e9e-91ca-ae7924a549fa",
      "metadata": {
        "id": "4a62664f-5ce0-4e9e-91ca-ae7924a549fa"
      },
      "outputs": [],
      "source": [
        "import tensorflow as tf\n",
        "import pandas as pd\n",
        "import matplotlib.pyplot as plt\n",
        "import seaborn as sns"
      ]
    },
    {
      "cell_type": "code",
      "source": [
        "!git clone https://github.com/nishantkr2003/Plant-Disease-Detection.git"
      ],
      "metadata": {
        "id": "T32v9dcFEqLy",
        "outputId": "365b23d1-db9d-4148-d26c-6bac1c68ee92",
        "colab": {
          "base_uri": "https://localhost:8080/"
        }
      },
      "id": "T32v9dcFEqLy",
      "execution_count": 20,
      "outputs": [
        {
          "output_type": "stream",
          "name": "stdout",
          "text": [
            "Cloning into 'Plant-Disease-Detection'...\n",
            "remote: Enumerating objects: 87957, done.\u001b[K\n",
            "remote: Counting objects: 100% (30/30), done.\u001b[K\n",
            "remote: Compressing objects: 100% (24/24), done.\u001b[K\n",
            "remote: Total 87957 (delta 14), reused 19 (delta 6), pack-reused 87927 (from 2)\u001b[K\n",
            "Receiving objects: 100% (87957/87957), 1.31 GiB | 31.04 MiB/s, done.\n",
            "Resolving deltas: 100% (32/32), done.\n",
            "Updating files: 100% (87905/87905), done.\n"
          ]
        }
      ]
    },
    {
      "cell_type": "code",
      "source": [
        "!ls Plant-Disease-Detection\n"
      ],
      "metadata": {
        "id": "0PXF8pKQEqfI",
        "outputId": "946d2d66-bb5e-49e5-f10f-53a528382f39",
        "colab": {
          "base_uri": "https://localhost:8080/"
        }
      },
      "id": "0PXF8pKQEqfI",
      "execution_count": 22,
      "outputs": [
        {
          "output_type": "stream",
          "name": "stdout",
          "text": [
            "README.md  requirement.txt  test  train  Train_Plant_disease.ipynb  valid\n"
          ]
        }
      ]
    },
    {
      "cell_type": "markdown",
      "id": "ee4d9d69-9ac4-4ff4-8908-2db75d47f25a",
      "metadata": {
        "id": "ee4d9d69-9ac4-4ff4-8908-2db75d47f25a"
      },
      "source": [
        "# Data preProcessing"
      ]
    },
    {
      "cell_type": "markdown",
      "id": "e66f341b-945b-4572-86c2-cb4feba68369",
      "metadata": {
        "id": "e66f341b-945b-4572-86c2-cb4feba68369"
      },
      "source": [
        "### Training Image Preprocessing"
      ]
    },
    {
      "cell_type": "code",
      "execution_count": 24,
      "id": "a7c6873a-6600-465a-9895-1093f18161af",
      "metadata": {
        "colab": {
          "base_uri": "https://localhost:8080/"
        },
        "id": "a7c6873a-6600-465a-9895-1093f18161af",
        "outputId": "8a5200cd-5137-4b2c-d5df-de8090fc13e2"
      },
      "outputs": [
        {
          "output_type": "stream",
          "name": "stdout",
          "text": [
            "Found 70295 files belonging to 38 classes.\n",
            "Dataset successfully loaded!\n"
          ]
        }
      ],
      "source": [
        "\n",
        "training_set = tf.keras.utils.image_dataset_from_directory(\n",
        "    \"/content/Plant-Disease-Detection/train\",\n",
        "    labels=\"inferred\",\n",
        "    label_mode=\"categorical\",\n",
        "    class_names=None,\n",
        "    color_mode=\"rgb\",\n",
        "    batch_size=32,\n",
        "    image_size=(128, 128),\n",
        "    shuffle=True,\n",
        "    seed=None,\n",
        "    validation_split=None,\n",
        "    subset=None,\n",
        "    interpolation=\"bilinear\",\n",
        "    follow_links=False,\n",
        "    crop_to_aspect_ratio=False,\n",
        "\n",
        ")\n",
        "print(\"Dataset successfully loaded!\")"
      ]
    },
    {
      "cell_type": "markdown",
      "id": "830a1806-7542-40f5-b371-3e96c76bc252",
      "metadata": {
        "id": "830a1806-7542-40f5-b371-3e96c76bc252"
      },
      "source": [
        "### Validation Image Preprocessing"
      ]
    },
    {
      "cell_type": "code",
      "execution_count": 25,
      "id": "a73c1795-338c-4197-8444-0a9ec7b2f9c4",
      "metadata": {
        "id": "a73c1795-338c-4197-8444-0a9ec7b2f9c4",
        "outputId": "4a71c251-c1d7-4d2b-d519-21cbb80e1917",
        "colab": {
          "base_uri": "https://localhost:8080/"
        }
      },
      "outputs": [
        {
          "output_type": "stream",
          "name": "stdout",
          "text": [
            "Found 17572 files belonging to 38 classes.\n",
            "Validation dataset successfully loaded!\n"
          ]
        }
      ],
      "source": [
        "validation_set = tf.keras.utils.image_dataset_from_directory(\n",
        "    \"/content/Plant-Disease-Detection/valid\",\n",
        "    labels=\"inferred\",\n",
        "    label_mode=\"categorical\",\n",
        "    class_names=None,\n",
        "    color_mode=\"rgb\",\n",
        "    batch_size=32,\n",
        "    image_size=(128, 128),\n",
        "    shuffle=True,\n",
        "    seed=None,\n",
        "    validation_split=None,\n",
        "    subset=None,\n",
        "    interpolation=\"bilinear\",\n",
        "    follow_links=False,\n",
        "    crop_to_aspect_ratio=False,\n",
        "\n",
        ")\n",
        "\n",
        "\n",
        "print(\"Validation dataset successfully loaded!\")"
      ]
    },
    {
      "cell_type": "code",
      "execution_count": 26,
      "id": "3a783454-dd64-401f-8de7-c57c96acb14b",
      "metadata": {
        "id": "3a783454-dd64-401f-8de7-c57c96acb14b",
        "outputId": "39fab9c8-1460-4fe7-d485-c0dd40f14677",
        "colab": {
          "base_uri": "https://localhost:8080/"
        }
      },
      "outputs": [
        {
          "output_type": "execute_result",
          "data": {
            "text/plain": [
              "<_PrefetchDataset element_spec=(TensorSpec(shape=(None, 128, 128, 3), dtype=tf.float32, name=None), TensorSpec(shape=(None, 38), dtype=tf.float32, name=None))>"
            ]
          },
          "metadata": {},
          "execution_count": 26
        }
      ],
      "source": [
        "training_set"
      ]
    },
    {
      "cell_type": "code",
      "execution_count": 27,
      "id": "b04dd986-eb52-40fb-913d-54fae0962b41",
      "metadata": {
        "id": "b04dd986-eb52-40fb-913d-54fae0962b41",
        "outputId": "fa5be810-909a-4c05-e6f8-87b4fa808dc1",
        "colab": {
          "base_uri": "https://localhost:8080/"
        }
      },
      "outputs": [
        {
          "output_type": "stream",
          "name": "stdout",
          "text": [
            "tf.Tensor(\n",
            "[[[[195.   191.   205.  ]\n",
            "   [185.25 181.25 195.25]\n",
            "   [182.75 178.75 192.75]\n",
            "   ...\n",
            "   [159.25 153.25 165.25]\n",
            "   [174.5  168.5  180.5 ]\n",
            "   [163.75 157.75 169.75]]\n",
            "\n",
            "  [[191.75 187.75 201.75]\n",
            "   [190.25 186.25 200.25]\n",
            "   [187.25 183.25 197.25]\n",
            "   ...\n",
            "   [174.75 168.75 180.75]\n",
            "   [167.5  161.5  173.5 ]\n",
            "   [185.75 179.75 191.75]]\n",
            "\n",
            "  [[190.   186.   200.  ]\n",
            "   [184.75 180.75 194.75]\n",
            "   [194.   190.   204.  ]\n",
            "   ...\n",
            "   [180.75 174.75 186.75]\n",
            "   [175.25 169.25 181.25]\n",
            "   [171.5  165.5  177.5 ]]\n",
            "\n",
            "  ...\n",
            "\n",
            "  [[176.75 172.75 186.75]\n",
            "   [177.25 173.25 187.25]\n",
            "   [181.5  177.5  191.5 ]\n",
            "   ...\n",
            "   [148.75 142.75 154.75]\n",
            "   [143.75 137.75 149.75]\n",
            "   [152.5  146.5  158.5 ]]\n",
            "\n",
            "  [[181.25 177.25 191.25]\n",
            "   [176.75 172.75 186.75]\n",
            "   [178.75 174.75 188.75]\n",
            "   ...\n",
            "   [150.5  144.5  156.5 ]\n",
            "   [151.25 145.25 157.25]\n",
            "   [153.25 147.25 159.25]]\n",
            "\n",
            "  [[187.75 183.75 197.75]\n",
            "   [180.5  176.5  190.5 ]\n",
            "   [182.25 178.25 192.25]\n",
            "   ...\n",
            "   [141.5  135.5  147.5 ]\n",
            "   [150.75 144.75 156.75]\n",
            "   [159.75 153.75 165.75]]]\n",
            "\n",
            "\n",
            " [[[141.75 136.75 156.75]\n",
            "   [143.   138.   158.  ]\n",
            "   [144.25 139.25 159.25]\n",
            "   ...\n",
            "   [162.75 158.75 173.75]\n",
            "   [161.   157.   172.  ]\n",
            "   [160.   156.   171.  ]]\n",
            "\n",
            "  [[142.75 137.75 157.75]\n",
            "   [140.   135.   155.  ]\n",
            "   [140.5  135.5  155.5 ]\n",
            "   ...\n",
            "   [163.25 159.25 174.25]\n",
            "   [161.5  157.5  172.5 ]\n",
            "   [159.25 155.25 170.25]]\n",
            "\n",
            "  [[143.75 138.75 158.75]\n",
            "   [140.5  135.5  155.5 ]\n",
            "   [140.   135.   155.  ]\n",
            "   ...\n",
            "   [162.25 158.25 173.25]\n",
            "   [160.5  156.5  171.5 ]\n",
            "   [156.25 152.25 167.25]]\n",
            "\n",
            "  ...\n",
            "\n",
            "  [[ 52.25  48.25  63.25]\n",
            "   [ 62.    58.    73.  ]\n",
            "   [ 58.5   54.5   69.5 ]\n",
            "   ...\n",
            "   [107.   101.   115.  ]\n",
            "   [109.75 103.75 117.75]\n",
            "   [112.5  106.5  120.5 ]]\n",
            "\n",
            "  [[ 51.75  47.75  62.75]\n",
            "   [ 62.5   58.5   73.5 ]\n",
            "   [ 58.25  54.25  69.25]\n",
            "   ...\n",
            "   [103.75  97.75 111.75]\n",
            "   [110.   104.   118.  ]\n",
            "   [111.75 105.75 119.75]]\n",
            "\n",
            "  [[ 58.    54.    69.  ]\n",
            "   [ 62.    58.    73.  ]\n",
            "   [ 63.25  59.25  74.25]\n",
            "   ...\n",
            "   [118.75 112.75 126.75]\n",
            "   [119.5  113.5  127.5 ]\n",
            "   [103.25  97.25 111.25]]]\n",
            "\n",
            "\n",
            " [[[120.25 111.25 104.25]\n",
            "   [122.   113.   106.  ]\n",
            "   [122.75 113.75 106.75]\n",
            "   ...\n",
            "   [112.75 101.75  95.75]\n",
            "   [114.75 103.75  97.75]\n",
            "   [121.   110.   104.  ]]\n",
            "\n",
            "  [[117.75 108.75 101.75]\n",
            "   [123.25 114.25 107.25]\n",
            "   [118.5  109.5  102.5 ]\n",
            "   ...\n",
            "   [123.5  112.5  106.5 ]\n",
            "   [124.75 113.75 107.75]\n",
            "   [126.75 115.75 109.75]]\n",
            "\n",
            "  [[117.25 108.25 101.25]\n",
            "   [123.25 114.25 107.25]\n",
            "   [118.25 109.25 102.25]\n",
            "   ...\n",
            "   [125.   114.   108.  ]\n",
            "   [125.5  114.5  108.5 ]\n",
            "   [125.   114.   108.  ]]\n",
            "\n",
            "  ...\n",
            "\n",
            "  [[171.75 169.75 157.75]\n",
            "   [170.   168.   156.  ]\n",
            "   [168.5  166.5  154.5 ]\n",
            "   ...\n",
            "   [197.75 194.75 185.75]\n",
            "   [198.5  195.5  186.5 ]\n",
            "   [200.   197.   188.  ]]\n",
            "\n",
            "  [[170.75 168.75 156.75]\n",
            "   [169.5  167.5  155.5 ]\n",
            "   [169.25 167.25 155.25]\n",
            "   ...\n",
            "   [198.25 195.25 186.25]\n",
            "   [201.   198.   189.  ]\n",
            "   [204.   201.   192.  ]]\n",
            "\n",
            "  [[173.25 171.25 159.25]\n",
            "   [172.25 170.25 158.25]\n",
            "   [172.75 170.75 158.75]\n",
            "   ...\n",
            "   [200.75 197.75 188.75]\n",
            "   [201.25 198.25 189.25]\n",
            "   [202.   199.   190.  ]]]\n",
            "\n",
            "\n",
            " ...\n",
            "\n",
            "\n",
            " [[[184.75 174.75 172.75]\n",
            "   [188.25 178.25 176.25]\n",
            "   [193.   183.   181.  ]\n",
            "   ...\n",
            "   [173.5  162.5  160.5 ]\n",
            "   [167.75 156.75 154.75]\n",
            "   [172.75 161.75 159.75]]\n",
            "\n",
            "  [[173.5  163.5  161.5 ]\n",
            "   [181.75 171.75 169.75]\n",
            "   [179.75 169.75 167.75]\n",
            "   ...\n",
            "   [163.75 152.75 150.75]\n",
            "   [181.5  170.5  168.5 ]\n",
            "   [179.5  168.5  166.5 ]]\n",
            "\n",
            "  [[185.   175.   173.  ]\n",
            "   [171.75 161.75 159.75]\n",
            "   [187.5  177.5  175.5 ]\n",
            "   ...\n",
            "   [181.5  170.5  168.5 ]\n",
            "   [194.   183.   181.  ]\n",
            "   [174.5  163.5  161.5 ]]\n",
            "\n",
            "  ...\n",
            "\n",
            "  [[207.   201.   203.  ]\n",
            "   [197.   191.   193.  ]\n",
            "   [202.25 196.25 198.25]\n",
            "   ...\n",
            "   [200.75 195.75 192.75]\n",
            "   [199.   194.   191.  ]\n",
            "   [198.75 193.75 190.75]]\n",
            "\n",
            "  [[197.75 191.75 193.75]\n",
            "   [201.25 195.25 197.25]\n",
            "   [200.75 194.75 196.75]\n",
            "   ...\n",
            "   [194.75 189.75 186.75]\n",
            "   [202.5  197.5  194.5 ]\n",
            "   [198.   193.   190.  ]]\n",
            "\n",
            "  [[204.25 198.25 200.25]\n",
            "   [202.75 196.75 198.75]\n",
            "   [193.25 187.25 189.25]\n",
            "   ...\n",
            "   [193.25 188.25 185.25]\n",
            "   [196.5  191.5  188.5 ]\n",
            "   [199.25 194.25 191.25]]]\n",
            "\n",
            "\n",
            " [[[  0.     0.     0.  ]\n",
            "   [  0.     0.     0.  ]\n",
            "   [  0.     0.     0.  ]\n",
            "   ...\n",
            "   [  0.     0.     0.  ]\n",
            "   [  0.     0.     0.  ]\n",
            "   [  0.     0.     0.  ]]\n",
            "\n",
            "  [[  0.     0.     0.  ]\n",
            "   [  0.     0.     0.  ]\n",
            "   [  0.     0.     0.  ]\n",
            "   ...\n",
            "   [  0.     0.     0.  ]\n",
            "   [  0.     0.     0.  ]\n",
            "   [  0.     0.     0.  ]]\n",
            "\n",
            "  [[  0.     0.     0.  ]\n",
            "   [  0.     0.     0.  ]\n",
            "   [  0.     0.     0.  ]\n",
            "   ...\n",
            "   [  0.     0.     0.  ]\n",
            "   [  0.     0.     0.  ]\n",
            "   [  0.     0.     0.  ]]\n",
            "\n",
            "  ...\n",
            "\n",
            "  [[  0.     0.     0.  ]\n",
            "   [  0.     0.     0.  ]\n",
            "   [  0.     0.     0.  ]\n",
            "   ...\n",
            "   [  0.     0.     0.  ]\n",
            "   [  0.     0.     0.  ]\n",
            "   [  0.     0.     0.  ]]\n",
            "\n",
            "  [[  0.     0.     0.  ]\n",
            "   [  0.     0.     0.  ]\n",
            "   [  0.     0.     0.  ]\n",
            "   ...\n",
            "   [  0.     0.     0.  ]\n",
            "   [  0.     0.     0.  ]\n",
            "   [  0.     0.     0.  ]]\n",
            "\n",
            "  [[  0.     0.     0.  ]\n",
            "   [  0.     0.     0.  ]\n",
            "   [  0.     0.     0.  ]\n",
            "   ...\n",
            "   [  0.     0.     0.  ]\n",
            "   [  0.     0.     0.  ]\n",
            "   [  0.     0.     0.  ]]]\n",
            "\n",
            "\n",
            " [[[123.75 110.75 120.75]\n",
            "   [127.5  114.5  124.5 ]\n",
            "   [131.25 118.25 128.25]\n",
            "   ...\n",
            "   [155.75 142.75 151.75]\n",
            "   [150.5  137.5  146.5 ]\n",
            "   [156.   143.   152.  ]]\n",
            "\n",
            "  [[123.25 110.25 120.25]\n",
            "   [123.   110.   120.  ]\n",
            "   [126.75 113.75 123.75]\n",
            "   ...\n",
            "   [159.   146.   155.  ]\n",
            "   [160.5  147.5  156.5 ]\n",
            "   [153.   140.   149.  ]]\n",
            "\n",
            "  [[126.25 113.25 123.25]\n",
            "   [129.75 116.75 126.75]\n",
            "   [130.75 117.75 127.75]\n",
            "   ...\n",
            "   [159.25 146.25 155.25]\n",
            "   [154.75 141.75 150.75]\n",
            "   [158.75 145.75 154.75]]\n",
            "\n",
            "  ...\n",
            "\n",
            "  [[147.   133.   133.  ]\n",
            "   [146.   132.   132.  ]\n",
            "   [144.75 130.75 130.75]\n",
            "   ...\n",
            "   [165.25 151.25 150.25]\n",
            "   [165.75 151.75 150.75]\n",
            "   [164.25 150.25 149.25]]\n",
            "\n",
            "  [[141.   127.   127.  ]\n",
            "   [143.5  129.5  129.5 ]\n",
            "   [144.75 130.75 130.75]\n",
            "   ...\n",
            "   [167.25 153.25 152.25]\n",
            "   [167.   153.   152.  ]\n",
            "   [164.75 150.75 149.75]]\n",
            "\n",
            "  [[142.25 128.25 128.25]\n",
            "   [142.25 128.25 128.25]\n",
            "   [143.25 129.25 129.25]\n",
            "   ...\n",
            "   [165.25 151.25 150.25]\n",
            "   [164.25 150.25 149.25]\n",
            "   [165.25 151.25 150.25]]]], shape=(32, 128, 128, 3), dtype=float32) (32, 128, 128, 3)\n",
            "tf.Tensor(\n",
            "[[0. 0. 0. ... 0. 0. 0.]\n",
            " [0. 0. 0. ... 0. 0. 0.]\n",
            " [0. 0. 0. ... 0. 0. 0.]\n",
            " ...\n",
            " [0. 0. 0. ... 0. 0. 0.]\n",
            " [0. 0. 0. ... 0. 0. 0.]\n",
            " [0. 0. 1. ... 0. 0. 0.]], shape=(32, 38), dtype=float32) (32, 38)\n"
          ]
        }
      ],
      "source": [
        "for x,y in training_set:\n",
        "    # x is training set and y is label\n",
        "    print(x,x.shape)\n",
        "    print(y,y.shape)\n",
        "    break"
      ]
    },
    {
      "cell_type": "markdown",
      "id": "71ecfbf4-0e28-4f14-b3c6-a1fce6b7d683",
      "metadata": {
        "id": "71ecfbf4-0e28-4f14-b3c6-a1fce6b7d683"
      },
      "source": [
        "### Building Model"
      ]
    },
    {
      "cell_type": "code",
      "execution_count": 43,
      "id": "5f280e67-36d4-4747-86b1-010da3500b26",
      "metadata": {
        "id": "5f280e67-36d4-4747-86b1-010da3500b26"
      },
      "outputs": [],
      "source": [
        "from tensorflow.keras.layers import Dense, Conv2D, MaxPool2D, Flatten,Dropout\n",
        "from tensorflow.keras.models import Sequential\n"
      ]
    },
    {
      "cell_type": "code",
      "execution_count": 44,
      "id": "ce0d2127-f1b0-4139-a8c1-98bd52f9fe1a",
      "metadata": {
        "id": "ce0d2127-f1b0-4139-a8c1-98bd52f9fe1a"
      },
      "outputs": [],
      "source": [
        "model = Sequential()"
      ]
    },
    {
      "cell_type": "code",
      "execution_count": 45,
      "id": "eefc22dd-e2ca-405a-9d3b-4283f3089030",
      "metadata": {
        "id": "eefc22dd-e2ca-405a-9d3b-4283f3089030"
      },
      "outputs": [],
      "source": [
        "## Building convolution layer"
      ]
    },
    {
      "cell_type": "code",
      "execution_count": 46,
      "id": "09a95a96-9770-4428-bfb8-15249f1d3384",
      "metadata": {
        "id": "09a95a96-9770-4428-bfb8-15249f1d3384"
      },
      "outputs": [],
      "source": [
        "model.add(Conv2D(filters=32,kernel_size=3,padding='same',activation='relu',input_shape=[128,128,3]))\n",
        "model.add(Conv2D(filters=32,kernel_size=3,activation='relu'))\n",
        "model.add(MaxPool2D(pool_size=2, strides=2))\n"
      ]
    },
    {
      "cell_type": "code",
      "execution_count": 47,
      "id": "ba35bd98-52b7-403a-9298-2400830621a9",
      "metadata": {
        "id": "ba35bd98-52b7-403a-9298-2400830621a9"
      },
      "outputs": [],
      "source": [
        "model.add(Conv2D(filters=64,kernel_size=3,padding='same',activation='relu'))\n",
        "model.add(Conv2D(filters=64,kernel_size=3,activation='relu'))\n",
        "model.add(MaxPool2D(pool_size=2,strides=2))"
      ]
    },
    {
      "cell_type": "code",
      "execution_count": 48,
      "id": "3f7809a9-96aa-4640-a68b-2853515a6afb",
      "metadata": {
        "id": "3f7809a9-96aa-4640-a68b-2853515a6afb"
      },
      "outputs": [],
      "source": [
        "model.add(Conv2D(filters=128,kernel_size=3,padding='same',activation='relu'))\n",
        "model.add(Conv2D(filters=128,kernel_size=3,activation='relu'))\n",
        "model.add(MaxPool2D(pool_size=2,strides=2))"
      ]
    },
    {
      "cell_type": "code",
      "execution_count": 49,
      "id": "06049263-c00b-4618-a92c-c2971764e6e6",
      "metadata": {
        "id": "06049263-c00b-4618-a92c-c2971764e6e6"
      },
      "outputs": [],
      "source": [
        "model.add(Conv2D(filters=256,kernel_size=3,padding='same',activation='relu'))\n",
        "model.add(Conv2D(filters=256,kernel_size=3,activation='relu'))\n",
        "model.add(MaxPool2D(pool_size=2,strides=2))"
      ]
    },
    {
      "cell_type": "code",
      "execution_count": 52,
      "id": "acbbedf3-ee09-4b38-85fe-22894a46e41a",
      "metadata": {
        "id": "acbbedf3-ee09-4b38-85fe-22894a46e41a"
      },
      "outputs": [],
      "source": [
        "model.add(Conv2D(filters=512,kernel_size=3,padding='same',activation='relu'))\n",
        "model.add(Conv2D(filters=512,kernel_size=3,activation='relu'))\n",
        "model.add(MaxPool2D(pool_size=2,strides=2))"
      ]
    },
    {
      "cell_type": "code",
      "execution_count": 53,
      "id": "1671660b-97b9-4010-bec4-0cffb9f6d464",
      "metadata": {
        "id": "1671660b-97b9-4010-bec4-0cffb9f6d464"
      },
      "outputs": [],
      "source": [
        "model.add(Dropout(0.25))  # To avoid Overfitting"
      ]
    },
    {
      "cell_type": "code",
      "execution_count": 54,
      "id": "42a6baf9-b226-4ac8-a8f6-3325ce8ce255",
      "metadata": {
        "id": "42a6baf9-b226-4ac8-a8f6-3325ce8ce255"
      },
      "outputs": [],
      "source": [
        "model.add(Flatten())"
      ]
    },
    {
      "cell_type": "code",
      "execution_count": 55,
      "id": "7ff1e026-9fd5-4b16-b065-6fcd4263c2f7",
      "metadata": {
        "id": "7ff1e026-9fd5-4b16-b065-6fcd4263c2f7"
      },
      "outputs": [],
      "source": [
        "model.add(Dense(units=1500,activation='relu'))"
      ]
    },
    {
      "cell_type": "code",
      "execution_count": 56,
      "id": "1a8bac91-a62a-44c6-a21e-c33b96b08895",
      "metadata": {
        "id": "1a8bac91-a62a-44c6-a21e-c33b96b08895"
      },
      "outputs": [],
      "source": [
        "model.add(Dropout(0.4))"
      ]
    },
    {
      "cell_type": "code",
      "execution_count": 57,
      "id": "b151a4cd-a079-43e0-bd93-60d8d43ab375",
      "metadata": {
        "id": "b151a4cd-a079-43e0-bd93-60d8d43ab375"
      },
      "outputs": [],
      "source": [
        "#output layer\n",
        "\n",
        "model.add(Dense(units=38,activation='softmax'))"
      ]
    },
    {
      "cell_type": "code",
      "source": [
        "#model.compile(optimizer=tf.keras.optimizers.legacy.Adam(\n",
        "#   learning_rate=0.0001),loss='categorical_crossentropy',metrics=['accuracy'])"
      ],
      "metadata": {
        "id": "0EvD_bLuIzYs"
      },
      "id": "0EvD_bLuIzYs",
      "execution_count": null,
      "outputs": []
    },
    {
      "cell_type": "code",
      "source": [
        "model.compile(optimizer=tf.keras.optimizers.Adam(\n",
        "    learning_rate=0.0001),loss='categorical_crossentropy',metrics=['accuracy'])"
      ],
      "metadata": {
        "id": "AnHZCLctI2Mz"
      },
      "id": "AnHZCLctI2Mz",
      "execution_count": 59,
      "outputs": []
    },
    {
      "cell_type": "markdown",
      "id": "a5be7b5f-eb70-45ca-acf4-ebe0ce75cca5",
      "metadata": {
        "id": "a5be7b5f-eb70-45ca-acf4-ebe0ce75cca5"
      },
      "source": [
        "### Compiling Model"
      ]
    },
    {
      "cell_type": "code",
      "execution_count": 60,
      "id": "16fc3d15-8387-4fb5-b3c1-f52b500776d6",
      "metadata": {
        "id": "16fc3d15-8387-4fb5-b3c1-f52b500776d6",
        "outputId": "b34e27bb-3872-4b6f-e04f-f0aab6877bd6",
        "colab": {
          "base_uri": "https://localhost:8080/",
          "height": 897
        }
      },
      "outputs": [
        {
          "output_type": "display_data",
          "data": {
            "text/plain": [
              "\u001b[1mModel: \"sequential_2\"\u001b[0m\n"
            ],
            "text/html": [
              "<pre style=\"white-space:pre;overflow-x:auto;line-height:normal;font-family:Menlo,'DejaVu Sans Mono',consolas,'Courier New',monospace\"><span style=\"font-weight: bold\">Model: \"sequential_2\"</span>\n",
              "</pre>\n"
            ]
          },
          "metadata": {}
        },
        {
          "output_type": "display_data",
          "data": {
            "text/plain": [
              "┏━━━━━━━━━━━━━━━━━━━━━━━━━━━━━━━━━━━━━━┳━━━━━━━━━━━━━━━━━━━━━━━━━━━━━┳━━━━━━━━━━━━━━━━━┓\n",
              "┃\u001b[1m \u001b[0m\u001b[1mLayer (type)                        \u001b[0m\u001b[1m \u001b[0m┃\u001b[1m \u001b[0m\u001b[1mOutput Shape               \u001b[0m\u001b[1m \u001b[0m┃\u001b[1m \u001b[0m\u001b[1m        Param #\u001b[0m\u001b[1m \u001b[0m┃\n",
              "┡━━━━━━━━━━━━━━━━━━━━━━━━━━━━━━━━━━━━━━╇━━━━━━━━━━━━━━━━━━━━━━━━━━━━━╇━━━━━━━━━━━━━━━━━┩\n",
              "│ conv2d_12 (\u001b[38;5;33mConv2D\u001b[0m)                   │ (\u001b[38;5;45mNone\u001b[0m, \u001b[38;5;34m128\u001b[0m, \u001b[38;5;34m128\u001b[0m, \u001b[38;5;34m32\u001b[0m)        │             \u001b[38;5;34m896\u001b[0m │\n",
              "├──────────────────────────────────────┼─────────────────────────────┼─────────────────┤\n",
              "│ conv2d_13 (\u001b[38;5;33mConv2D\u001b[0m)                   │ (\u001b[38;5;45mNone\u001b[0m, \u001b[38;5;34m126\u001b[0m, \u001b[38;5;34m126\u001b[0m, \u001b[38;5;34m32\u001b[0m)        │           \u001b[38;5;34m9,248\u001b[0m │\n",
              "├──────────────────────────────────────┼─────────────────────────────┼─────────────────┤\n",
              "│ max_pooling2d_6 (\u001b[38;5;33mMaxPooling2D\u001b[0m)       │ (\u001b[38;5;45mNone\u001b[0m, \u001b[38;5;34m63\u001b[0m, \u001b[38;5;34m63\u001b[0m, \u001b[38;5;34m32\u001b[0m)          │               \u001b[38;5;34m0\u001b[0m │\n",
              "├──────────────────────────────────────┼─────────────────────────────┼─────────────────┤\n",
              "│ conv2d_14 (\u001b[38;5;33mConv2D\u001b[0m)                   │ (\u001b[38;5;45mNone\u001b[0m, \u001b[38;5;34m63\u001b[0m, \u001b[38;5;34m63\u001b[0m, \u001b[38;5;34m64\u001b[0m)          │          \u001b[38;5;34m18,496\u001b[0m │\n",
              "├──────────────────────────────────────┼─────────────────────────────┼─────────────────┤\n",
              "│ conv2d_15 (\u001b[38;5;33mConv2D\u001b[0m)                   │ (\u001b[38;5;45mNone\u001b[0m, \u001b[38;5;34m61\u001b[0m, \u001b[38;5;34m61\u001b[0m, \u001b[38;5;34m64\u001b[0m)          │          \u001b[38;5;34m36,928\u001b[0m │\n",
              "├──────────────────────────────────────┼─────────────────────────────┼─────────────────┤\n",
              "│ max_pooling2d_7 (\u001b[38;5;33mMaxPooling2D\u001b[0m)       │ (\u001b[38;5;45mNone\u001b[0m, \u001b[38;5;34m30\u001b[0m, \u001b[38;5;34m30\u001b[0m, \u001b[38;5;34m64\u001b[0m)          │               \u001b[38;5;34m0\u001b[0m │\n",
              "├──────────────────────────────────────┼─────────────────────────────┼─────────────────┤\n",
              "│ conv2d_16 (\u001b[38;5;33mConv2D\u001b[0m)                   │ (\u001b[38;5;45mNone\u001b[0m, \u001b[38;5;34m30\u001b[0m, \u001b[38;5;34m30\u001b[0m, \u001b[38;5;34m128\u001b[0m)         │          \u001b[38;5;34m73,856\u001b[0m │\n",
              "├──────────────────────────────────────┼─────────────────────────────┼─────────────────┤\n",
              "│ conv2d_17 (\u001b[38;5;33mConv2D\u001b[0m)                   │ (\u001b[38;5;45mNone\u001b[0m, \u001b[38;5;34m28\u001b[0m, \u001b[38;5;34m28\u001b[0m, \u001b[38;5;34m128\u001b[0m)         │         \u001b[38;5;34m147,584\u001b[0m │\n",
              "├──────────────────────────────────────┼─────────────────────────────┼─────────────────┤\n",
              "│ max_pooling2d_8 (\u001b[38;5;33mMaxPooling2D\u001b[0m)       │ (\u001b[38;5;45mNone\u001b[0m, \u001b[38;5;34m14\u001b[0m, \u001b[38;5;34m14\u001b[0m, \u001b[38;5;34m128\u001b[0m)         │               \u001b[38;5;34m0\u001b[0m │\n",
              "├──────────────────────────────────────┼─────────────────────────────┼─────────────────┤\n",
              "│ conv2d_18 (\u001b[38;5;33mConv2D\u001b[0m)                   │ (\u001b[38;5;45mNone\u001b[0m, \u001b[38;5;34m14\u001b[0m, \u001b[38;5;34m14\u001b[0m, \u001b[38;5;34m256\u001b[0m)         │         \u001b[38;5;34m295,168\u001b[0m │\n",
              "├──────────────────────────────────────┼─────────────────────────────┼─────────────────┤\n",
              "│ conv2d_19 (\u001b[38;5;33mConv2D\u001b[0m)                   │ (\u001b[38;5;45mNone\u001b[0m, \u001b[38;5;34m12\u001b[0m, \u001b[38;5;34m12\u001b[0m, \u001b[38;5;34m256\u001b[0m)         │         \u001b[38;5;34m590,080\u001b[0m │\n",
              "├──────────────────────────────────────┼─────────────────────────────┼─────────────────┤\n",
              "│ max_pooling2d_9 (\u001b[38;5;33mMaxPooling2D\u001b[0m)       │ (\u001b[38;5;45mNone\u001b[0m, \u001b[38;5;34m6\u001b[0m, \u001b[38;5;34m6\u001b[0m, \u001b[38;5;34m256\u001b[0m)           │               \u001b[38;5;34m0\u001b[0m │\n",
              "├──────────────────────────────────────┼─────────────────────────────┼─────────────────┤\n",
              "│ conv2d_20 (\u001b[38;5;33mConv2D\u001b[0m)                   │ (\u001b[38;5;45mNone\u001b[0m, \u001b[38;5;34m6\u001b[0m, \u001b[38;5;34m6\u001b[0m, \u001b[38;5;34m512\u001b[0m)           │       \u001b[38;5;34m1,180,160\u001b[0m │\n",
              "├──────────────────────────────────────┼─────────────────────────────┼─────────────────┤\n",
              "│ conv2d_21 (\u001b[38;5;33mConv2D\u001b[0m)                   │ (\u001b[38;5;45mNone\u001b[0m, \u001b[38;5;34m4\u001b[0m, \u001b[38;5;34m4\u001b[0m, \u001b[38;5;34m512\u001b[0m)           │       \u001b[38;5;34m2,359,808\u001b[0m │\n",
              "├──────────────────────────────────────┼─────────────────────────────┼─────────────────┤\n",
              "│ max_pooling2d_10 (\u001b[38;5;33mMaxPooling2D\u001b[0m)      │ (\u001b[38;5;45mNone\u001b[0m, \u001b[38;5;34m2\u001b[0m, \u001b[38;5;34m2\u001b[0m, \u001b[38;5;34m512\u001b[0m)           │               \u001b[38;5;34m0\u001b[0m │\n",
              "├──────────────────────────────────────┼─────────────────────────────┼─────────────────┤\n",
              "│ dropout_2 (\u001b[38;5;33mDropout\u001b[0m)                  │ (\u001b[38;5;45mNone\u001b[0m, \u001b[38;5;34m2\u001b[0m, \u001b[38;5;34m2\u001b[0m, \u001b[38;5;34m512\u001b[0m)           │               \u001b[38;5;34m0\u001b[0m │\n",
              "├──────────────────────────────────────┼─────────────────────────────┼─────────────────┤\n",
              "│ conv2d_22 (\u001b[38;5;33mConv2D\u001b[0m)                   │ (\u001b[38;5;45mNone\u001b[0m, \u001b[38;5;34m2\u001b[0m, \u001b[38;5;34m2\u001b[0m, \u001b[38;5;34m512\u001b[0m)           │       \u001b[38;5;34m2,359,808\u001b[0m │\n",
              "├──────────────────────────────────────┼─────────────────────────────┼─────────────────┤\n",
              "│ conv2d_23 (\u001b[38;5;33mConv2D\u001b[0m)                   │ (\u001b[38;5;45mNone\u001b[0m, \u001b[38;5;34m0\u001b[0m, \u001b[38;5;34m0\u001b[0m, \u001b[38;5;34m512\u001b[0m)           │       \u001b[38;5;34m2,359,808\u001b[0m │\n",
              "├──────────────────────────────────────┼─────────────────────────────┼─────────────────┤\n",
              "│ max_pooling2d_11 (\u001b[38;5;33mMaxPooling2D\u001b[0m)      │ (\u001b[38;5;45mNone\u001b[0m, \u001b[38;5;34m0\u001b[0m, \u001b[38;5;34m0\u001b[0m, \u001b[38;5;34m512\u001b[0m)           │               \u001b[38;5;34m0\u001b[0m │\n",
              "├──────────────────────────────────────┼─────────────────────────────┼─────────────────┤\n",
              "│ dropout_3 (\u001b[38;5;33mDropout\u001b[0m)                  │ (\u001b[38;5;45mNone\u001b[0m, \u001b[38;5;34m0\u001b[0m, \u001b[38;5;34m0\u001b[0m, \u001b[38;5;34m512\u001b[0m)           │               \u001b[38;5;34m0\u001b[0m │\n",
              "├──────────────────────────────────────┼─────────────────────────────┼─────────────────┤\n",
              "│ flatten_1 (\u001b[38;5;33mFlatten\u001b[0m)                  │ (\u001b[38;5;45mNone\u001b[0m, \u001b[38;5;34m0\u001b[0m)                   │               \u001b[38;5;34m0\u001b[0m │\n",
              "├──────────────────────────────────────┼─────────────────────────────┼─────────────────┤\n",
              "│ dense_2 (\u001b[38;5;33mDense\u001b[0m)                      │ (\u001b[38;5;45mNone\u001b[0m, \u001b[38;5;34m1500\u001b[0m)                │           \u001b[38;5;34m1,500\u001b[0m │\n",
              "├──────────────────────────────────────┼─────────────────────────────┼─────────────────┤\n",
              "│ dropout_4 (\u001b[38;5;33mDropout\u001b[0m)                  │ (\u001b[38;5;45mNone\u001b[0m, \u001b[38;5;34m1500\u001b[0m)                │               \u001b[38;5;34m0\u001b[0m │\n",
              "├──────────────────────────────────────┼─────────────────────────────┼─────────────────┤\n",
              "│ dense_3 (\u001b[38;5;33mDense\u001b[0m)                      │ (\u001b[38;5;45mNone\u001b[0m, \u001b[38;5;34m38\u001b[0m)                  │          \u001b[38;5;34m57,038\u001b[0m │\n",
              "└──────────────────────────────────────┴─────────────────────────────┴─────────────────┘\n"
            ],
            "text/html": [
              "<pre style=\"white-space:pre;overflow-x:auto;line-height:normal;font-family:Menlo,'DejaVu Sans Mono',consolas,'Courier New',monospace\">┏━━━━━━━━━━━━━━━━━━━━━━━━━━━━━━━━━━━━━━┳━━━━━━━━━━━━━━━━━━━━━━━━━━━━━┳━━━━━━━━━━━━━━━━━┓\n",
              "┃<span style=\"font-weight: bold\"> Layer (type)                         </span>┃<span style=\"font-weight: bold\"> Output Shape                </span>┃<span style=\"font-weight: bold\">         Param # </span>┃\n",
              "┡━━━━━━━━━━━━━━━━━━━━━━━━━━━━━━━━━━━━━━╇━━━━━━━━━━━━━━━━━━━━━━━━━━━━━╇━━━━━━━━━━━━━━━━━┩\n",
              "│ conv2d_12 (<span style=\"color: #0087ff; text-decoration-color: #0087ff\">Conv2D</span>)                   │ (<span style=\"color: #00d7ff; text-decoration-color: #00d7ff\">None</span>, <span style=\"color: #00af00; text-decoration-color: #00af00\">128</span>, <span style=\"color: #00af00; text-decoration-color: #00af00\">128</span>, <span style=\"color: #00af00; text-decoration-color: #00af00\">32</span>)        │             <span style=\"color: #00af00; text-decoration-color: #00af00\">896</span> │\n",
              "├──────────────────────────────────────┼─────────────────────────────┼─────────────────┤\n",
              "│ conv2d_13 (<span style=\"color: #0087ff; text-decoration-color: #0087ff\">Conv2D</span>)                   │ (<span style=\"color: #00d7ff; text-decoration-color: #00d7ff\">None</span>, <span style=\"color: #00af00; text-decoration-color: #00af00\">126</span>, <span style=\"color: #00af00; text-decoration-color: #00af00\">126</span>, <span style=\"color: #00af00; text-decoration-color: #00af00\">32</span>)        │           <span style=\"color: #00af00; text-decoration-color: #00af00\">9,248</span> │\n",
              "├──────────────────────────────────────┼─────────────────────────────┼─────────────────┤\n",
              "│ max_pooling2d_6 (<span style=\"color: #0087ff; text-decoration-color: #0087ff\">MaxPooling2D</span>)       │ (<span style=\"color: #00d7ff; text-decoration-color: #00d7ff\">None</span>, <span style=\"color: #00af00; text-decoration-color: #00af00\">63</span>, <span style=\"color: #00af00; text-decoration-color: #00af00\">63</span>, <span style=\"color: #00af00; text-decoration-color: #00af00\">32</span>)          │               <span style=\"color: #00af00; text-decoration-color: #00af00\">0</span> │\n",
              "├──────────────────────────────────────┼─────────────────────────────┼─────────────────┤\n",
              "│ conv2d_14 (<span style=\"color: #0087ff; text-decoration-color: #0087ff\">Conv2D</span>)                   │ (<span style=\"color: #00d7ff; text-decoration-color: #00d7ff\">None</span>, <span style=\"color: #00af00; text-decoration-color: #00af00\">63</span>, <span style=\"color: #00af00; text-decoration-color: #00af00\">63</span>, <span style=\"color: #00af00; text-decoration-color: #00af00\">64</span>)          │          <span style=\"color: #00af00; text-decoration-color: #00af00\">18,496</span> │\n",
              "├──────────────────────────────────────┼─────────────────────────────┼─────────────────┤\n",
              "│ conv2d_15 (<span style=\"color: #0087ff; text-decoration-color: #0087ff\">Conv2D</span>)                   │ (<span style=\"color: #00d7ff; text-decoration-color: #00d7ff\">None</span>, <span style=\"color: #00af00; text-decoration-color: #00af00\">61</span>, <span style=\"color: #00af00; text-decoration-color: #00af00\">61</span>, <span style=\"color: #00af00; text-decoration-color: #00af00\">64</span>)          │          <span style=\"color: #00af00; text-decoration-color: #00af00\">36,928</span> │\n",
              "├──────────────────────────────────────┼─────────────────────────────┼─────────────────┤\n",
              "│ max_pooling2d_7 (<span style=\"color: #0087ff; text-decoration-color: #0087ff\">MaxPooling2D</span>)       │ (<span style=\"color: #00d7ff; text-decoration-color: #00d7ff\">None</span>, <span style=\"color: #00af00; text-decoration-color: #00af00\">30</span>, <span style=\"color: #00af00; text-decoration-color: #00af00\">30</span>, <span style=\"color: #00af00; text-decoration-color: #00af00\">64</span>)          │               <span style=\"color: #00af00; text-decoration-color: #00af00\">0</span> │\n",
              "├──────────────────────────────────────┼─────────────────────────────┼─────────────────┤\n",
              "│ conv2d_16 (<span style=\"color: #0087ff; text-decoration-color: #0087ff\">Conv2D</span>)                   │ (<span style=\"color: #00d7ff; text-decoration-color: #00d7ff\">None</span>, <span style=\"color: #00af00; text-decoration-color: #00af00\">30</span>, <span style=\"color: #00af00; text-decoration-color: #00af00\">30</span>, <span style=\"color: #00af00; text-decoration-color: #00af00\">128</span>)         │          <span style=\"color: #00af00; text-decoration-color: #00af00\">73,856</span> │\n",
              "├──────────────────────────────────────┼─────────────────────────────┼─────────────────┤\n",
              "│ conv2d_17 (<span style=\"color: #0087ff; text-decoration-color: #0087ff\">Conv2D</span>)                   │ (<span style=\"color: #00d7ff; text-decoration-color: #00d7ff\">None</span>, <span style=\"color: #00af00; text-decoration-color: #00af00\">28</span>, <span style=\"color: #00af00; text-decoration-color: #00af00\">28</span>, <span style=\"color: #00af00; text-decoration-color: #00af00\">128</span>)         │         <span style=\"color: #00af00; text-decoration-color: #00af00\">147,584</span> │\n",
              "├──────────────────────────────────────┼─────────────────────────────┼─────────────────┤\n",
              "│ max_pooling2d_8 (<span style=\"color: #0087ff; text-decoration-color: #0087ff\">MaxPooling2D</span>)       │ (<span style=\"color: #00d7ff; text-decoration-color: #00d7ff\">None</span>, <span style=\"color: #00af00; text-decoration-color: #00af00\">14</span>, <span style=\"color: #00af00; text-decoration-color: #00af00\">14</span>, <span style=\"color: #00af00; text-decoration-color: #00af00\">128</span>)         │               <span style=\"color: #00af00; text-decoration-color: #00af00\">0</span> │\n",
              "├──────────────────────────────────────┼─────────────────────────────┼─────────────────┤\n",
              "│ conv2d_18 (<span style=\"color: #0087ff; text-decoration-color: #0087ff\">Conv2D</span>)                   │ (<span style=\"color: #00d7ff; text-decoration-color: #00d7ff\">None</span>, <span style=\"color: #00af00; text-decoration-color: #00af00\">14</span>, <span style=\"color: #00af00; text-decoration-color: #00af00\">14</span>, <span style=\"color: #00af00; text-decoration-color: #00af00\">256</span>)         │         <span style=\"color: #00af00; text-decoration-color: #00af00\">295,168</span> │\n",
              "├──────────────────────────────────────┼─────────────────────────────┼─────────────────┤\n",
              "│ conv2d_19 (<span style=\"color: #0087ff; text-decoration-color: #0087ff\">Conv2D</span>)                   │ (<span style=\"color: #00d7ff; text-decoration-color: #00d7ff\">None</span>, <span style=\"color: #00af00; text-decoration-color: #00af00\">12</span>, <span style=\"color: #00af00; text-decoration-color: #00af00\">12</span>, <span style=\"color: #00af00; text-decoration-color: #00af00\">256</span>)         │         <span style=\"color: #00af00; text-decoration-color: #00af00\">590,080</span> │\n",
              "├──────────────────────────────────────┼─────────────────────────────┼─────────────────┤\n",
              "│ max_pooling2d_9 (<span style=\"color: #0087ff; text-decoration-color: #0087ff\">MaxPooling2D</span>)       │ (<span style=\"color: #00d7ff; text-decoration-color: #00d7ff\">None</span>, <span style=\"color: #00af00; text-decoration-color: #00af00\">6</span>, <span style=\"color: #00af00; text-decoration-color: #00af00\">6</span>, <span style=\"color: #00af00; text-decoration-color: #00af00\">256</span>)           │               <span style=\"color: #00af00; text-decoration-color: #00af00\">0</span> │\n",
              "├──────────────────────────────────────┼─────────────────────────────┼─────────────────┤\n",
              "│ conv2d_20 (<span style=\"color: #0087ff; text-decoration-color: #0087ff\">Conv2D</span>)                   │ (<span style=\"color: #00d7ff; text-decoration-color: #00d7ff\">None</span>, <span style=\"color: #00af00; text-decoration-color: #00af00\">6</span>, <span style=\"color: #00af00; text-decoration-color: #00af00\">6</span>, <span style=\"color: #00af00; text-decoration-color: #00af00\">512</span>)           │       <span style=\"color: #00af00; text-decoration-color: #00af00\">1,180,160</span> │\n",
              "├──────────────────────────────────────┼─────────────────────────────┼─────────────────┤\n",
              "│ conv2d_21 (<span style=\"color: #0087ff; text-decoration-color: #0087ff\">Conv2D</span>)                   │ (<span style=\"color: #00d7ff; text-decoration-color: #00d7ff\">None</span>, <span style=\"color: #00af00; text-decoration-color: #00af00\">4</span>, <span style=\"color: #00af00; text-decoration-color: #00af00\">4</span>, <span style=\"color: #00af00; text-decoration-color: #00af00\">512</span>)           │       <span style=\"color: #00af00; text-decoration-color: #00af00\">2,359,808</span> │\n",
              "├──────────────────────────────────────┼─────────────────────────────┼─────────────────┤\n",
              "│ max_pooling2d_10 (<span style=\"color: #0087ff; text-decoration-color: #0087ff\">MaxPooling2D</span>)      │ (<span style=\"color: #00d7ff; text-decoration-color: #00d7ff\">None</span>, <span style=\"color: #00af00; text-decoration-color: #00af00\">2</span>, <span style=\"color: #00af00; text-decoration-color: #00af00\">2</span>, <span style=\"color: #00af00; text-decoration-color: #00af00\">512</span>)           │               <span style=\"color: #00af00; text-decoration-color: #00af00\">0</span> │\n",
              "├──────────────────────────────────────┼─────────────────────────────┼─────────────────┤\n",
              "│ dropout_2 (<span style=\"color: #0087ff; text-decoration-color: #0087ff\">Dropout</span>)                  │ (<span style=\"color: #00d7ff; text-decoration-color: #00d7ff\">None</span>, <span style=\"color: #00af00; text-decoration-color: #00af00\">2</span>, <span style=\"color: #00af00; text-decoration-color: #00af00\">2</span>, <span style=\"color: #00af00; text-decoration-color: #00af00\">512</span>)           │               <span style=\"color: #00af00; text-decoration-color: #00af00\">0</span> │\n",
              "├──────────────────────────────────────┼─────────────────────────────┼─────────────────┤\n",
              "│ conv2d_22 (<span style=\"color: #0087ff; text-decoration-color: #0087ff\">Conv2D</span>)                   │ (<span style=\"color: #00d7ff; text-decoration-color: #00d7ff\">None</span>, <span style=\"color: #00af00; text-decoration-color: #00af00\">2</span>, <span style=\"color: #00af00; text-decoration-color: #00af00\">2</span>, <span style=\"color: #00af00; text-decoration-color: #00af00\">512</span>)           │       <span style=\"color: #00af00; text-decoration-color: #00af00\">2,359,808</span> │\n",
              "├──────────────────────────────────────┼─────────────────────────────┼─────────────────┤\n",
              "│ conv2d_23 (<span style=\"color: #0087ff; text-decoration-color: #0087ff\">Conv2D</span>)                   │ (<span style=\"color: #00d7ff; text-decoration-color: #00d7ff\">None</span>, <span style=\"color: #00af00; text-decoration-color: #00af00\">0</span>, <span style=\"color: #00af00; text-decoration-color: #00af00\">0</span>, <span style=\"color: #00af00; text-decoration-color: #00af00\">512</span>)           │       <span style=\"color: #00af00; text-decoration-color: #00af00\">2,359,808</span> │\n",
              "├──────────────────────────────────────┼─────────────────────────────┼─────────────────┤\n",
              "│ max_pooling2d_11 (<span style=\"color: #0087ff; text-decoration-color: #0087ff\">MaxPooling2D</span>)      │ (<span style=\"color: #00d7ff; text-decoration-color: #00d7ff\">None</span>, <span style=\"color: #00af00; text-decoration-color: #00af00\">0</span>, <span style=\"color: #00af00; text-decoration-color: #00af00\">0</span>, <span style=\"color: #00af00; text-decoration-color: #00af00\">512</span>)           │               <span style=\"color: #00af00; text-decoration-color: #00af00\">0</span> │\n",
              "├──────────────────────────────────────┼─────────────────────────────┼─────────────────┤\n",
              "│ dropout_3 (<span style=\"color: #0087ff; text-decoration-color: #0087ff\">Dropout</span>)                  │ (<span style=\"color: #00d7ff; text-decoration-color: #00d7ff\">None</span>, <span style=\"color: #00af00; text-decoration-color: #00af00\">0</span>, <span style=\"color: #00af00; text-decoration-color: #00af00\">0</span>, <span style=\"color: #00af00; text-decoration-color: #00af00\">512</span>)           │               <span style=\"color: #00af00; text-decoration-color: #00af00\">0</span> │\n",
              "├──────────────────────────────────────┼─────────────────────────────┼─────────────────┤\n",
              "│ flatten_1 (<span style=\"color: #0087ff; text-decoration-color: #0087ff\">Flatten</span>)                  │ (<span style=\"color: #00d7ff; text-decoration-color: #00d7ff\">None</span>, <span style=\"color: #00af00; text-decoration-color: #00af00\">0</span>)                   │               <span style=\"color: #00af00; text-decoration-color: #00af00\">0</span> │\n",
              "├──────────────────────────────────────┼─────────────────────────────┼─────────────────┤\n",
              "│ dense_2 (<span style=\"color: #0087ff; text-decoration-color: #0087ff\">Dense</span>)                      │ (<span style=\"color: #00d7ff; text-decoration-color: #00d7ff\">None</span>, <span style=\"color: #00af00; text-decoration-color: #00af00\">1500</span>)                │           <span style=\"color: #00af00; text-decoration-color: #00af00\">1,500</span> │\n",
              "├──────────────────────────────────────┼─────────────────────────────┼─────────────────┤\n",
              "│ dropout_4 (<span style=\"color: #0087ff; text-decoration-color: #0087ff\">Dropout</span>)                  │ (<span style=\"color: #00d7ff; text-decoration-color: #00d7ff\">None</span>, <span style=\"color: #00af00; text-decoration-color: #00af00\">1500</span>)                │               <span style=\"color: #00af00; text-decoration-color: #00af00\">0</span> │\n",
              "├──────────────────────────────────────┼─────────────────────────────┼─────────────────┤\n",
              "│ dense_3 (<span style=\"color: #0087ff; text-decoration-color: #0087ff\">Dense</span>)                      │ (<span style=\"color: #00d7ff; text-decoration-color: #00d7ff\">None</span>, <span style=\"color: #00af00; text-decoration-color: #00af00\">38</span>)                  │          <span style=\"color: #00af00; text-decoration-color: #00af00\">57,038</span> │\n",
              "└──────────────────────────────────────┴─────────────────────────────┴─────────────────┘\n",
              "</pre>\n"
            ]
          },
          "metadata": {}
        },
        {
          "output_type": "display_data",
          "data": {
            "text/plain": [
              "\u001b[1m Total params: \u001b[0m\u001b[38;5;34m9,490,378\u001b[0m (36.20 MB)\n"
            ],
            "text/html": [
              "<pre style=\"white-space:pre;overflow-x:auto;line-height:normal;font-family:Menlo,'DejaVu Sans Mono',consolas,'Courier New',monospace\"><span style=\"font-weight: bold\"> Total params: </span><span style=\"color: #00af00; text-decoration-color: #00af00\">9,490,378</span> (36.20 MB)\n",
              "</pre>\n"
            ]
          },
          "metadata": {}
        },
        {
          "output_type": "display_data",
          "data": {
            "text/plain": [
              "\u001b[1m Trainable params: \u001b[0m\u001b[38;5;34m9,490,378\u001b[0m (36.20 MB)\n"
            ],
            "text/html": [
              "<pre style=\"white-space:pre;overflow-x:auto;line-height:normal;font-family:Menlo,'DejaVu Sans Mono',consolas,'Courier New',monospace\"><span style=\"font-weight: bold\"> Trainable params: </span><span style=\"color: #00af00; text-decoration-color: #00af00\">9,490,378</span> (36.20 MB)\n",
              "</pre>\n"
            ]
          },
          "metadata": {}
        },
        {
          "output_type": "display_data",
          "data": {
            "text/plain": [
              "\u001b[1m Non-trainable params: \u001b[0m\u001b[38;5;34m0\u001b[0m (0.00 B)\n"
            ],
            "text/html": [
              "<pre style=\"white-space:pre;overflow-x:auto;line-height:normal;font-family:Menlo,'DejaVu Sans Mono',consolas,'Courier New',monospace\"><span style=\"font-weight: bold\"> Non-trainable params: </span><span style=\"color: #00af00; text-decoration-color: #00af00\">0</span> (0.00 B)\n",
              "</pre>\n"
            ]
          },
          "metadata": {}
        }
      ],
      "source": [
        "model.summary()"
      ]
    },
    {
      "cell_type": "code",
      "execution_count": 60,
      "id": "e6bce057-2f03-4c11-a009-9b694c65e51d",
      "metadata": {
        "id": "e6bce057-2f03-4c11-a009-9b694c65e51d"
      },
      "outputs": [],
      "source": []
    },
    {
      "cell_type": "markdown",
      "id": "a238a88d-9e98-486c-9163-670092ebbbc6",
      "metadata": {
        "id": "a238a88d-9e98-486c-9163-670092ebbbc6"
      },
      "source": [
        "### Model Training"
      ]
    },
    {
      "cell_type": "code",
      "execution_count": null,
      "id": "a77e77d0-25e1-464f-8f26-80641b8c3727",
      "metadata": {
        "id": "a77e77d0-25e1-464f-8f26-80641b8c3727"
      },
      "outputs": [],
      "source": [
        "training_history = model.fit(x = training_set,validation_data = validation_set,epochs=10)"
      ]
    },
    {
      "cell_type": "code",
      "execution_count": null,
      "id": "a6718a9c-df36-49cd-a826-fec440b1d7b3",
      "metadata": {
        "id": "a6718a9c-df36-49cd-a826-fec440b1d7b3"
      },
      "outputs": [],
      "source": []
    },
    {
      "cell_type": "markdown",
      "id": "352e64ec-d94d-485d-a072-88e091b39187",
      "metadata": {
        "id": "352e64ec-d94d-485d-a072-88e091b39187"
      },
      "source": [
        "### Model Evalution"
      ]
    },
    {
      "cell_type": "code",
      "execution_count": null,
      "id": "f438df4d-8b3c-460d-a892-2b55d107d70c",
      "metadata": {
        "id": "f438df4d-8b3c-460d-a892-2b55d107d70c"
      },
      "outputs": [],
      "source": [
        "# Model Evalution on traning set\n",
        "train_loss, train_acc = model.evaluate(training_set)\n"
      ]
    },
    {
      "cell_type": "code",
      "execution_count": null,
      "id": "ad30aa63-3a45-41b5-8408-f4583e05c893",
      "metadata": {
        "id": "ad30aa63-3a45-41b5-8408-f4583e05c893"
      },
      "outputs": [],
      "source": [
        "print('Training accuracy:', train_acc)\n",
        "print('Training Loss:', train_loss)"
      ]
    },
    {
      "cell_type": "code",
      "execution_count": null,
      "id": "5bb9cdbb-9f0e-463a-a9bf-4ec1063b9d87",
      "metadata": {
        "id": "5bb9cdbb-9f0e-463a-a9bf-4ec1063b9d87"
      },
      "outputs": [],
      "source": [
        "# Model on validation set\n",
        "val_loss, val_acc = cnn.evaluate(validation_set)\n"
      ]
    },
    {
      "cell_type": "code",
      "execution_count": null,
      "id": "785e2dcd-12a8-45bf-b204-7a18b1564ce6",
      "metadata": {
        "id": "785e2dcd-12a8-45bf-b204-7a18b1564ce6"
      },
      "outputs": [],
      "source": [
        "print('Validation accuracy:', val_acc)\n",
        "print('Validation loss:', val_loss)"
      ]
    },
    {
      "cell_type": "code",
      "execution_count": null,
      "id": "05465326-5f17-4985-9bba-66879a091cf1",
      "metadata": {
        "id": "05465326-5f17-4985-9bba-66879a091cf1"
      },
      "outputs": [],
      "source": []
    },
    {
      "cell_type": "markdown",
      "id": "831d0f80-6c9a-4fa9-9336-aa0d7e372cf5",
      "metadata": {
        "id": "831d0f80-6c9a-4fa9-9336-aa0d7e372cf5"
      },
      "source": [
        "### Saving Model"
      ]
    },
    {
      "cell_type": "code",
      "execution_count": null,
      "id": "b6ac65ee-30a1-4e0a-8a66-3d1f404b1d64",
      "metadata": {
        "id": "b6ac65ee-30a1-4e0a-8a66-3d1f404b1d64"
      },
      "outputs": [],
      "source": [
        "model.save('trained_model.keras')"
      ]
    },
    {
      "cell_type": "code",
      "execution_count": null,
      "id": "91598659-4c98-49a6-b783-c1194efb28b3",
      "metadata": {
        "id": "91598659-4c98-49a6-b783-c1194efb28b3"
      },
      "outputs": [],
      "source": [
        "# model.save('trained_model.h5')"
      ]
    },
    {
      "cell_type": "code",
      "execution_count": null,
      "id": "f8e9fe03-d9f2-4910-9c4b-031e58929f7d",
      "metadata": {
        "id": "f8e9fe03-d9f2-4910-9c4b-031e58929f7d"
      },
      "outputs": [],
      "source": [
        "training_history.history #Return Dictionary of history"
      ]
    },
    {
      "cell_type": "code",
      "execution_count": null,
      "id": "15d6a5a0-232b-4a95-a26e-a75a08b116a3",
      "metadata": {
        "id": "15d6a5a0-232b-4a95-a26e-a75a08b116a3"
      },
      "outputs": [],
      "source": [
        "#Recording History in json\n",
        "import json\n",
        "with open('training_hist.json','w') as f:\n",
        "  json.dump(training_history.history,f)"
      ]
    },
    {
      "cell_type": "code",
      "execution_count": null,
      "id": "a13794fe-ce5f-4e62-b201-587b28f0f6f3",
      "metadata": {
        "id": "a13794fe-ce5f-4e62-b201-587b28f0f6f3"
      },
      "outputs": [],
      "source": [
        "print(training_history.history.keys())"
      ]
    },
    {
      "cell_type": "markdown",
      "id": "c3a989d6-9a22-4710-be96-39b1c31d442f",
      "metadata": {
        "id": "c3a989d6-9a22-4710-be96-39b1c31d442f"
      },
      "source": [
        "### Accuracy Visulization"
      ]
    },
    {
      "cell_type": "code",
      "execution_count": null,
      "id": "3dc5d57b-8223-4535-a66d-2e90c58e122a",
      "metadata": {
        "id": "3dc5d57b-8223-4535-a66d-2e90c58e122a"
      },
      "outputs": [],
      "source": [
        "epochs = [i for i in range(1,11)]\n",
        "plt.plot(epochs,training_history.history['accuracy'],color='red',label='Training Accuracy')\n",
        "plt.plot(epochs,training_history.history['val_accuracy'],color='blue',label='Validation Accuracy')\n",
        "plt.xlabel('No. of Epochs')\n",
        "plt.title('Visualization of Accuracy Result')\n",
        "plt.legend()\n",
        "plt.show()"
      ]
    },
    {
      "cell_type": "markdown",
      "id": "3d3b5a93-de8e-473d-888e-fa46d5c0db61",
      "metadata": {
        "id": "3d3b5a93-de8e-473d-888e-fa46d5c0db61"
      },
      "source": [
        "### Classification (othor model)"
      ]
    },
    {
      "cell_type": "code",
      "execution_count": null,
      "id": "7055340f-ac93-4d3c-8f9b-814c4fc08ae3",
      "metadata": {
        "id": "7055340f-ac93-4d3c-8f9b-814c4fc08ae3"
      },
      "outputs": [],
      "source": [
        "class_name = validation_set.class_names"
      ]
    },
    {
      "cell_type": "code",
      "execution_count": null,
      "id": "6f43f746-0dd8-4f7e-b65d-9b2d50957c3f",
      "metadata": {
        "id": "6f43f746-0dd8-4f7e-b65d-9b2d50957c3f"
      },
      "outputs": [],
      "source": [
        "test_set = tf.keras.utils.image_dataset_from_directory(\n",
        "    'valid',\n",
        "    labels=\"inferred\",\n",
        "    label_mode=\"categorical\",\n",
        "    class_names=None,\n",
        "    color_mode=\"rgb\",\n",
        "    batch_size=1,\n",
        "    image_size=(128, 128),\n",
        "    shuffle=False,\n",
        "    seed=None,\n",
        "    validation_split=None,\n",
        "    subset=None,\n",
        "    interpolation=\"bilinear\",\n",
        "    follow_links=False,\n",
        "    crop_to_aspect_ratio=False\n",
        ")"
      ]
    },
    {
      "cell_type": "markdown",
      "id": "fabf9269-68c9-45fd-ae3d-108bb8980311",
      "metadata": {
        "id": "fabf9269-68c9-45fd-ae3d-108bb8980311"
      },
      "source": [
        "# Predictions."
      ]
    },
    {
      "cell_type": "code",
      "execution_count": null,
      "id": "cb62ed03-94c3-45c5-b957-7a5c3edf4c27",
      "metadata": {
        "id": "cb62ed03-94c3-45c5-b957-7a5c3edf4c27"
      },
      "outputs": [],
      "source": [
        "y_pred = model.predict(test_set)\n",
        "predicted_categories = tf.argmax(y_pred, axis=1)"
      ]
    },
    {
      "cell_type": "code",
      "execution_count": null,
      "id": "91ab0f7c-0e3b-4650-a1b1-a52aece1a785",
      "metadata": {
        "id": "91ab0f7c-0e3b-4650-a1b1-a52aece1a785"
      },
      "outputs": [],
      "source": [
        "true_categories = tf.concat([y for x, y in test_set], axis=0)\n",
        "Y_true = tf.argmax(true_categories, axis=1)"
      ]
    },
    {
      "cell_type": "code",
      "execution_count": null,
      "id": "d39bf467-6020-41ac-bdf4-fc17bc5d699d",
      "metadata": {
        "id": "d39bf467-6020-41ac-bdf4-fc17bc5d699d"
      },
      "outputs": [],
      "source": [
        "Y_true"
      ]
    },
    {
      "cell_type": "code",
      "execution_count": null,
      "id": "83ecabcc-b4f8-48fb-8390-55f594f8db94",
      "metadata": {
        "id": "83ecabcc-b4f8-48fb-8390-55f594f8db94"
      },
      "outputs": [],
      "source": [
        "predicted_categories"
      ]
    },
    {
      "cell_type": "markdown",
      "id": "8769060a-042b-44c3-8cb7-2b5de3088d72",
      "metadata": {
        "id": "8769060a-042b-44c3-8cb7-2b5de3088d72"
      },
      "source": [
        "### Classification Report"
      ]
    },
    {
      "cell_type": "code",
      "execution_count": null,
      "id": "1b75b2e9-007f-4220-83d5-24b44e471040",
      "metadata": {
        "id": "1b75b2e9-007f-4220-83d5-24b44e471040"
      },
      "outputs": [],
      "source": [
        "from sklearn.metrics import confusion_matrix,classification_report\n",
        "cm = confusion_matrix(Y_true,predicted_categories)"
      ]
    },
    {
      "cell_type": "code",
      "execution_count": null,
      "id": "a4f464f9-ce92-4e1f-99a8-1155dc0a3937",
      "metadata": {
        "id": "a4f464f9-ce92-4e1f-99a8-1155dc0a3937"
      },
      "outputs": [],
      "source": [
        "# Precision Recall Fscore\n",
        "print(classification_report(Y_true,predicted_categories,target_names=class_name))"
      ]
    },
    {
      "cell_type": "code",
      "execution_count": null,
      "id": "79b7d688-ddd8-4611-a3e1-3f20bf6e6c5e",
      "metadata": {
        "id": "79b7d688-ddd8-4611-a3e1-3f20bf6e6c5e"
      },
      "outputs": [],
      "source": [
        "# Precision =(TP/(TP+FP))\n",
        "# Recall =(TP/(TP+FN))\n",
        "# Accuracy =((TP+TN)/(TP+TN+FP+FN))\n",
        "# f1-score = Harmonic mean of Precision and Recall"
      ]
    },
    {
      "cell_type": "code",
      "execution_count": null,
      "id": "9153d9c1-3e61-4ec7-95dc-067d67fe4d63",
      "metadata": {
        "id": "9153d9c1-3e61-4ec7-95dc-067d67fe4d63"
      },
      "outputs": [],
      "source": [
        "# pred = model.predict(testds)\n",
        "# pred = [np.argmax(i) for i in pred]\n",
        "# y_test = testds.classes\n",
        "# print(classification_report(pred,y_test))"
      ]
    },
    {
      "cell_type": "markdown",
      "id": "26a26443-c5e0-4002-ae02-616de2cbda74",
      "metadata": {
        "id": "26a26443-c5e0-4002-ae02-616de2cbda74"
      },
      "source": [
        "### Confusion Matrix"
      ]
    },
    {
      "cell_type": "code",
      "execution_count": null,
      "id": "714211e3-b02d-4a71-bb76-224de702784c",
      "metadata": {
        "id": "714211e3-b02d-4a71-bb76-224de702784c"
      },
      "outputs": [],
      "source": [
        "cm = confusion_matrix(Y_true,predicted_categories)"
      ]
    },
    {
      "cell_type": "code",
      "execution_count": null,
      "id": "2fb1fd1d-a01d-412f-9ba4-19d8fc6f07da",
      "metadata": {
        "id": "2fb1fd1d-a01d-412f-9ba4-19d8fc6f07da"
      },
      "outputs": [],
      "source": [
        "cm"
      ]
    },
    {
      "cell_type": "code",
      "execution_count": null,
      "id": "1cdc7c35-0e07-47ae-b016-abd7544b319c",
      "metadata": {
        "id": "1cdc7c35-0e07-47ae-b016-abd7544b319c"
      },
      "outputs": [],
      "source": [
        "cm.shape"
      ]
    },
    {
      "cell_type": "code",
      "execution_count": null,
      "id": "00c5c1fe-d93e-40ec-a1df-be3b1a0f9e33",
      "metadata": {
        "id": "00c5c1fe-d93e-40ec-a1df-be3b1a0f9e33"
      },
      "outputs": [],
      "source": [
        "plt.figure(figsize=(40, 40))\n",
        "sns.heatmap(cm,annot=True,annot_kws={\"size\": 10})\n",
        "\n",
        "plt.xlabel('Predicted Class',fontsize = 20)\n",
        "plt.ylabel('Actual Class',fontsize = 20)\n",
        "plt.title('Plant Disease Prediction Confusion Matrix',fontsize = 25)\n",
        "plt.show()"
      ]
    },
    {
      "cell_type": "code",
      "execution_count": null,
      "id": "32c10184-147b-4896-965e-6f6dfb37b53f",
      "metadata": {
        "id": "32c10184-147b-4896-965e-6f6dfb37b53f"
      },
      "outputs": [],
      "source": []
    },
    {
      "cell_type": "code",
      "execution_count": null,
      "id": "d2edc7c5-ec77-400e-ae6e-0b56054c2d7e",
      "metadata": {
        "id": "d2edc7c5-ec77-400e-ae6e-0b56054c2d7e"
      },
      "outputs": [],
      "source": []
    }
  ],
  "metadata": {
    "accelerator": "GPU",
    "colab": {
      "gpuType": "T4",
      "provenance": [],
      "include_colab_link": true
    },
    "kernelspec": {
      "display_name": "Python (tensorflow_env)",
      "language": "python",
      "name": "tensorflow_env"
    },
    "language_info": {
      "codemirror_mode": {
        "name": "ipython",
        "version": 3
      },
      "file_extension": ".py",
      "mimetype": "text/x-python",
      "name": "python",
      "nbconvert_exporter": "python",
      "pygments_lexer": "ipython3",
      "version": "3.10.16"
    }
  },
  "nbformat": 4,
  "nbformat_minor": 5
}