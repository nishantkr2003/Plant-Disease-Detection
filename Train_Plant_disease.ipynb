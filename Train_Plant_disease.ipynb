{
 "cells": [
  {
   "cell_type": "code",
   "execution_count": 1,
   "id": "0056be2e-312a-4977-94fe-ad1c0499c10a",
   "metadata": {
    "colab": {
     "base_uri": "https://localhost:8080/"
    },
    "id": "0056be2e-312a-4977-94fe-ad1c0499c10a",
    "outputId": "72a207aa-4504-4fb7-8185-8e9b9f27ac46"
   },
   "outputs": [
    {
     "name": "stdout",
     "output_type": "stream",
     "text": [
      "Hello World!\n"
     ]
    }
   ],
   "source": [
    "print(\"Hello World!\")"
   ]
  },
  {
   "cell_type": "code",
   "execution_count": 2,
   "id": "PdOP8zmrq22a",
   "metadata": {
    "colab": {
     "base_uri": "https://localhost:8080/",
     "height": 36
    },
    "id": "PdOP8zmrq22a",
    "outputId": "4cf48110-b850-4c0c-87d1-384251f22e18"
   },
   "outputs": [
    {
     "data": {
      "text/plain": [
       "''"
      ]
     },
     "execution_count": 2,
     "metadata": {},
     "output_type": "execute_result"
    }
   ],
   "source": [
    "import tensorflow as tf\n",
    "tf.test.gpu_device_name()"
   ]
  },
  {
   "cell_type": "markdown",
   "id": "d6a93382-f509-4054-b8be-7f795555c68c",
   "metadata": {
    "id": "d6a93382-f509-4054-b8be-7f795555c68c"
   },
   "source": [
    "# Importing Libraries"
   ]
  },
  {
   "cell_type": "code",
   "execution_count": 3,
   "id": "4a62664f-5ce0-4e9e-91ca-ae7924a549fa",
   "metadata": {
    "id": "4a62664f-5ce0-4e9e-91ca-ae7924a549fa"
   },
   "outputs": [],
   "source": [
    "import tensorflow as tf\n",
    "import pandas as pd\n",
    "import matplotlib.pyplot as plt\n",
    "import seaborn as sns"
   ]
  },
  {
   "cell_type": "markdown",
   "id": "ee4d9d69-9ac4-4ff4-8908-2db75d47f25a",
   "metadata": {
    "id": "ee4d9d69-9ac4-4ff4-8908-2db75d47f25a"
   },
   "source": [
    "# Data preProcessing"
   ]
  },
  {
   "cell_type": "markdown",
   "id": "e66f341b-945b-4572-86c2-cb4feba68369",
   "metadata": {
    "id": "e66f341b-945b-4572-86c2-cb4feba68369"
   },
   "source": [
    "### Training Image Preprocessing"
   ]
  },
  {
   "cell_type": "code",
   "execution_count": 4,
   "id": "a7c6873a-6600-465a-9895-1093f18161af",
   "metadata": {
    "colab": {
     "base_uri": "https://localhost:8080/",
     "height": 356
    },
    "id": "a7c6873a-6600-465a-9895-1093f18161af",
    "outputId": "3c987fd7-5def-4a60-aa67-e9472d5d156f"
   },
   "outputs": [
    {
     "name": "stdout",
     "output_type": "stream",
     "text": [
      "Found 70295 files belonging to 38 classes.\n"
     ]
    }
   ],
   "source": [
    "\n",
    "training_set = tf.keras.utils.image_dataset_from_directory(\n",
    "    'train',\n",
    "    labels=\"inferred\",\n",
    "    label_mode=\"categorical\",\n",
    "    class_names=None,\n",
    "    color_mode=\"rgb\",\n",
    "    batch_size=32,\n",
    "    image_size=(128, 128),\n",
    "    shuffle=True,\n",
    "    seed=None,\n",
    "    validation_split=None,\n",
    "    subset=None,\n",
    "    interpolation=\"bilinear\",\n",
    "    follow_links=False,\n",
    "    crop_to_aspect_ratio=False,\n",
    "\n",
    ")"
   ]
  },
  {
   "cell_type": "markdown",
   "id": "830a1806-7542-40f5-b371-3e96c76bc252",
   "metadata": {
    "id": "830a1806-7542-40f5-b371-3e96c76bc252"
   },
   "source": [
    "### Validation Image Preprocessing"
   ]
  },
  {
   "cell_type": "code",
   "execution_count": 5,
   "id": "a73c1795-338c-4197-8444-0a9ec7b2f9c4",
   "metadata": {
    "id": "a73c1795-338c-4197-8444-0a9ec7b2f9c4",
    "outputId": "8e819a16-406f-4de7-c2a8-29a97e55a2d2"
   },
   "outputs": [
    {
     "name": "stdout",
     "output_type": "stream",
     "text": [
      "Found 17572 files belonging to 38 classes.\n"
     ]
    }
   ],
   "source": [
    "validation_set = tf.keras.utils.image_dataset_from_directory(\n",
    "    'valid',\n",
    "    labels=\"inferred\",\n",
    "    label_mode=\"categorical\",\n",
    "    class_names=None,\n",
    "    color_mode=\"rgb\",\n",
    "    batch_size=32,\n",
    "    image_size=(128, 128),\n",
    "    shuffle=True,\n",
    "    seed=None,\n",
    "    validation_split=None,\n",
    "    subset=None,\n",
    "    interpolation=\"bilinear\",\n",
    "    follow_links=False,\n",
    "    crop_to_aspect_ratio=False,\n",
    "\n",
    ")"
   ]
  },
  {
   "cell_type": "code",
   "execution_count": 6,
   "id": "3a783454-dd64-401f-8de7-c57c96acb14b",
   "metadata": {
    "id": "3a783454-dd64-401f-8de7-c57c96acb14b",
    "outputId": "1acfb9fc-ee61-4964-e5ce-f5d545e36f5f"
   },
   "outputs": [
    {
     "data": {
      "text/plain": [
       "<BatchDataset element_spec=(TensorSpec(shape=(None, 128, 128, 3), dtype=tf.float32, name=None), TensorSpec(shape=(None, 38), dtype=tf.float32, name=None))>"
      ]
     },
     "execution_count": 6,
     "metadata": {},
     "output_type": "execute_result"
    }
   ],
   "source": [
    "training_set"
   ]
  },
  {
   "cell_type": "code",
   "execution_count": 7,
   "id": "b04dd986-eb52-40fb-913d-54fae0962b41",
   "metadata": {
    "id": "b04dd986-eb52-40fb-913d-54fae0962b41",
    "outputId": "b765a234-587e-4733-ab9a-229f4ed2ba00"
   },
   "outputs": [
    {
     "name": "stdout",
     "output_type": "stream",
     "text": [
      "tf.Tensor(\n",
      "[[[[ 69.75  60.25  64.75]\n",
      "   [135.5  122.5  129.5 ]\n",
      "   [145.5  128.5  136.5 ]\n",
      "   ...\n",
      "   [146.75 133.75 142.75]\n",
      "   [143.5  130.5  139.5 ]\n",
      "   [130.25 117.25 126.25]]\n",
      "\n",
      "  [[ 73.5   63.5   68.5 ]\n",
      "   [133.   120.   127.  ]\n",
      "   [137.5  120.5  128.5 ]\n",
      "   ...\n",
      "   [133.5  120.5  129.5 ]\n",
      "   [156.25 143.25 152.25]\n",
      "   [142.   129.   138.  ]]\n",
      "\n",
      "  [[ 69.75  60.25  64.75]\n",
      "   [136.5  123.5  130.5 ]\n",
      "   [138.   121.   129.  ]\n",
      "   ...\n",
      "   [154.25 141.25 150.25]\n",
      "   [170.   157.   166.  ]\n",
      "   [161.5  148.5  157.5 ]]\n",
      "\n",
      "  ...\n",
      "\n",
      "  [[ 80.5   70.75  73.5 ]\n",
      "   [149.5  137.5  141.5 ]\n",
      "   [157.25 140.25 146.25]\n",
      "   ...\n",
      "   [174.5  159.5  166.5 ]\n",
      "   [173.   158.   165.  ]\n",
      "   [185.   170.   177.  ]]\n",
      "\n",
      "  [[ 83.75  73.75  76.75]\n",
      "   [137.5  125.5  129.5 ]\n",
      "   [148.25 131.25 137.25]\n",
      "   ...\n",
      "   [180.25 165.25 172.25]\n",
      "   [178.25 163.25 170.25]\n",
      "   [160.75 145.75 152.75]]\n",
      "\n",
      "  [[ 73.25  63.25  66.25]\n",
      "   [142.25 130.25 134.25]\n",
      "   [129.5  112.5  118.5 ]\n",
      "   ...\n",
      "   [160.75 145.75 152.75]\n",
      "   [156.25 141.25 148.25]\n",
      "   [182.75 167.75 174.75]]]\n",
      "\n",
      "\n",
      " [[[255.   255.   255.  ]\n",
      "   [255.   255.   255.  ]\n",
      "   [255.   255.   255.  ]\n",
      "   ...\n",
      "   [255.   255.   255.  ]\n",
      "   [255.   255.   255.  ]\n",
      "   [255.   255.   255.  ]]\n",
      "\n",
      "  [[255.   255.   255.  ]\n",
      "   [255.   255.   255.  ]\n",
      "   [255.   255.   255.  ]\n",
      "   ...\n",
      "   [255.   255.   255.  ]\n",
      "   [255.   255.   255.  ]\n",
      "   [255.   255.   255.  ]]\n",
      "\n",
      "  [[255.   255.   255.  ]\n",
      "   [255.   255.   255.  ]\n",
      "   [255.   255.   255.  ]\n",
      "   ...\n",
      "   [255.   255.   255.  ]\n",
      "   [255.   255.   255.  ]\n",
      "   [255.   255.   255.  ]]\n",
      "\n",
      "  ...\n",
      "\n",
      "  [[255.   255.   255.  ]\n",
      "   [255.   255.   255.  ]\n",
      "   [255.   255.   255.  ]\n",
      "   ...\n",
      "   [255.   255.   255.  ]\n",
      "   [255.   255.   255.  ]\n",
      "   [255.   255.   255.  ]]\n",
      "\n",
      "  [[255.   255.   255.  ]\n",
      "   [255.   255.   255.  ]\n",
      "   [255.   255.   255.  ]\n",
      "   ...\n",
      "   [255.   255.   255.  ]\n",
      "   [255.   255.   255.  ]\n",
      "   [255.   255.   255.  ]]\n",
      "\n",
      "  [[255.   255.   255.  ]\n",
      "   [255.   255.   255.  ]\n",
      "   [255.   255.   255.  ]\n",
      "   ...\n",
      "   [255.   255.   255.  ]\n",
      "   [255.   255.   255.  ]\n",
      "   [255.   255.   255.  ]]]\n",
      "\n",
      "\n",
      " [[[128.   134.5  122.25]\n",
      "   [124.75 133.75 122.25]\n",
      "   [143.25 154.75 146.  ]\n",
      "   ...\n",
      "   [141.25 132.25 137.25]\n",
      "   [140.   131.   136.  ]\n",
      "   [136.   127.   132.  ]]\n",
      "\n",
      "  [[119.25 130.5  113.75]\n",
      "   [109.   121.75 107.25]\n",
      "   [125.   140.75 129.5 ]\n",
      "   ...\n",
      "   [141.75 132.75 137.75]\n",
      "   [139.75 130.75 135.75]\n",
      "   [139.   130.   135.  ]]\n",
      "\n",
      "  [[113.75 132.75 111.25]\n",
      "   [105.25 124.5  104.75]\n",
      "   [114.25 135.   118.  ]\n",
      "   ...\n",
      "   [141.25 132.25 137.25]\n",
      "   [138.25 129.25 134.25]\n",
      "   [137.   128.   133.  ]]\n",
      "\n",
      "  ...\n",
      "\n",
      "  [[147.75 141.75 153.75]\n",
      "   [147.75 141.75 153.75]\n",
      "   [148.25 142.25 154.25]\n",
      "   ...\n",
      "   [ 37.5   57.    25.  ]\n",
      "   [ 46.5   55.5   22.  ]\n",
      "   [ 83.    80.25  47.75]]\n",
      "\n",
      "  [[149.25 143.25 155.25]\n",
      "   [150.75 144.75 156.75]\n",
      "   [151.5  145.5  157.5 ]\n",
      "   ...\n",
      "   [ 38.25  60.    28.5 ]\n",
      "   [ 39.    51.75  18.  ]\n",
      "   [ 66.5   70.25  36.25]]\n",
      "\n",
      "  [[144.75 138.75 150.75]\n",
      "   [147.25 141.25 153.25]\n",
      "   [148.25 142.25 154.25]\n",
      "   ...\n",
      "   [ 28.75  53.25  21.25]\n",
      "   [ 34.75  50.25  15.75]\n",
      "   [ 59.5   66.    32.  ]]]\n",
      "\n",
      "\n",
      " ...\n",
      "\n",
      "\n",
      " [[[113.   105.   103.  ]\n",
      "   [111.25 103.25 101.25]\n",
      "   [115.75 107.75 105.75]\n",
      "   ...\n",
      "   [105.25  95.25  94.25]\n",
      "   [119.5  109.5  108.5 ]\n",
      "   [115.5  105.5  104.5 ]]\n",
      "\n",
      "  [[112.5  104.5  102.5 ]\n",
      "   [113.25 105.25 103.25]\n",
      "   [116.5  108.5  106.5 ]\n",
      "   ...\n",
      "   [116.5  106.5  105.5 ]\n",
      "   [111.25 101.25 100.25]\n",
      "   [104.5   94.5   93.5 ]]\n",
      "\n",
      "  [[118.25 110.25 108.25]\n",
      "   [104.75  96.75  94.75]\n",
      "   [116.25 108.25 106.25]\n",
      "   ...\n",
      "   [108.    98.    97.  ]\n",
      "   [106.5   96.5   95.5 ]\n",
      "   [104.5   94.5   93.5 ]]\n",
      "\n",
      "  ...\n",
      "\n",
      "  [[153.5  149.5  150.5 ]\n",
      "   [157.25 153.25 154.25]\n",
      "   [156.5  152.5  153.5 ]\n",
      "   ...\n",
      "   [153.25 147.25 149.25]\n",
      "   [161.5  155.5  157.5 ]\n",
      "   [157.25 151.25 153.25]]\n",
      "\n",
      "  [[152.25 148.25 149.25]\n",
      "   [155.5  151.5  152.5 ]\n",
      "   [158.   154.   155.  ]\n",
      "   ...\n",
      "   [160.   154.   156.  ]\n",
      "   [156.25 150.25 152.25]\n",
      "   [157.25 151.25 153.25]]\n",
      "\n",
      "  [[156.   152.   153.  ]\n",
      "   [154.5  150.5  151.5 ]\n",
      "   [157.   153.   154.  ]\n",
      "   ...\n",
      "   [158.   152.   154.  ]\n",
      "   [155.75 149.75 151.75]\n",
      "   [159.   153.   155.  ]]]\n",
      "\n",
      "\n",
      " [[[139.   144.   164.  ]\n",
      "   [137.75 142.75 162.75]\n",
      "   [137.5  142.5  162.5 ]\n",
      "   ...\n",
      "   [124.75 130.75 154.75]\n",
      "   [121.75 127.75 151.75]\n",
      "   [122.25 128.25 152.25]]\n",
      "\n",
      "  [[138.75 143.75 163.75]\n",
      "   [137.   142.   162.  ]\n",
      "   [135.5  140.5  160.5 ]\n",
      "   ...\n",
      "   [124.5  130.5  154.5 ]\n",
      "   [121.5  127.5  151.5 ]\n",
      "   [125.5  131.5  155.5 ]]\n",
      "\n",
      "  [[138.   143.   163.  ]\n",
      "   [136.5  141.5  161.5 ]\n",
      "   [135.75 140.75 160.75]\n",
      "   ...\n",
      "   [122.5  128.5  152.5 ]\n",
      "   [119.5  125.5  149.5 ]\n",
      "   [123.5  129.5  153.5 ]]\n",
      "\n",
      "  ...\n",
      "\n",
      "  [[ 77.5   80.5   99.5 ]\n",
      "   [ 84.5   87.5  106.5 ]\n",
      "   [ 84.5   87.5  106.5 ]\n",
      "   ...\n",
      "   [ 79.5   84.5  104.5 ]\n",
      "   [ 79.    84.   104.  ]\n",
      "   [ 80.    85.   105.  ]]\n",
      "\n",
      "  [[ 83.25  86.25 105.25]\n",
      "   [ 81.25  84.25 103.25]\n",
      "   [ 86.75  89.75 108.75]\n",
      "   ...\n",
      "   [ 81.75  86.75 106.75]\n",
      "   [ 77.    82.   102.  ]\n",
      "   [ 75.    80.   100.  ]]\n",
      "\n",
      "  [[ 85.75  88.75 107.75]\n",
      "   [ 82.25  85.25 104.25]\n",
      "   [ 77.5   80.5   99.5 ]\n",
      "   ...\n",
      "   [ 78.5   83.5  103.5 ]\n",
      "   [ 77.25  82.25 102.25]\n",
      "   [ 78.25  83.25 103.25]]]\n",
      "\n",
      "\n",
      " [[[200.75 196.75 193.75]\n",
      "   [201.75 197.75 194.75]\n",
      "   [202.75 198.75 195.75]\n",
      "   ...\n",
      "   [213.25 208.25 205.25]\n",
      "   [214.   209.   206.  ]\n",
      "   [212.25 207.25 204.25]]\n",
      "\n",
      "  [[198.25 194.25 191.25]\n",
      "   [197.75 193.75 190.75]\n",
      "   [198.5  194.5  191.5 ]\n",
      "   ...\n",
      "   [196.5  191.5  188.5 ]\n",
      "   [205.   200.   197.  ]\n",
      "   [216.25 211.25 208.25]]\n",
      "\n",
      "  [[201.75 197.75 194.75]\n",
      "   [205.   201.   198.  ]\n",
      "   [205.5  201.5  198.5 ]\n",
      "   ...\n",
      "   [167.25 162.25 159.25]\n",
      "   [194.75 189.75 186.75]\n",
      "   [210.25 205.25 202.25]]\n",
      "\n",
      "  ...\n",
      "\n",
      "  [[179.5  165.5  162.5 ]\n",
      "   [182.75 168.75 165.75]\n",
      "   [176.   162.   159.  ]\n",
      "   ...\n",
      "   [172.5  158.5  155.5 ]\n",
      "   [160.75 146.75 143.75]\n",
      "   [160.25 146.25 143.25]]\n",
      "\n",
      "  [[172.25 157.25 154.25]\n",
      "   [173.75 158.75 155.75]\n",
      "   [179.   164.   161.  ]\n",
      "   ...\n",
      "   [185.75 171.75 168.75]\n",
      "   [163.75 149.75 146.75]\n",
      "   [160.   146.   143.  ]]\n",
      "\n",
      "  [[178.   163.   160.  ]\n",
      "   [179.5  164.5  161.5 ]\n",
      "   [175.5  160.5  157.5 ]\n",
      "   ...\n",
      "   [159.25 145.25 142.25]\n",
      "   [166.25 152.25 149.25]\n",
      "   [176.   162.   159.  ]]]], shape=(32, 128, 128, 3), dtype=float32) (32, 128, 128, 3)\n",
      "tf.Tensor(\n",
      "[[0. 0. 0. ... 0. 0. 0.]\n",
      " [0. 0. 0. ... 0. 0. 0.]\n",
      " [0. 0. 0. ... 0. 0. 0.]\n",
      " ...\n",
      " [0. 0. 0. ... 0. 0. 0.]\n",
      " [0. 0. 0. ... 0. 0. 0.]\n",
      " [0. 0. 0. ... 0. 0. 0.]], shape=(32, 38), dtype=float32) (32, 38)\n"
     ]
    }
   ],
   "source": [
    "for x,y in training_set:\n",
    "    # x is training set and y is label\n",
    "    print(x,x.shape)\n",
    "    print(y,y.shape)\n",
    "    break"
   ]
  },
  {
   "cell_type": "markdown",
   "id": "71ecfbf4-0e28-4f14-b3c6-a1fce6b7d683",
   "metadata": {
    "id": "71ecfbf4-0e28-4f14-b3c6-a1fce6b7d683"
   },
   "source": [
    "### Building Model"
   ]
  },
  {
   "cell_type": "code",
   "execution_count": 8,
   "id": "5f280e67-36d4-4747-86b1-010da3500b26",
   "metadata": {
    "id": "5f280e67-36d4-4747-86b1-010da3500b26"
   },
   "outputs": [],
   "source": [
    "from tensorflow.keras.layers import Dense, Conv2D, MaxPool2D, Flatten,Dropout\n",
    "from tensorflow.keras.models import Sequential\n"
   ]
  },
  {
   "cell_type": "code",
   "execution_count": 9,
   "id": "ce0d2127-f1b0-4139-a8c1-98bd52f9fe1a",
   "metadata": {
    "id": "ce0d2127-f1b0-4139-a8c1-98bd52f9fe1a"
   },
   "outputs": [],
   "source": [
    "model = Sequential()"
   ]
  },
  {
   "cell_type": "code",
   "execution_count": 10,
   "id": "eefc22dd-e2ca-405a-9d3b-4283f3089030",
   "metadata": {
    "id": "eefc22dd-e2ca-405a-9d3b-4283f3089030"
   },
   "outputs": [],
   "source": [
    "## Building convolution layer"
   ]
  },
  {
   "cell_type": "code",
   "execution_count": 11,
   "id": "09a95a96-9770-4428-bfb8-15249f1d3384",
   "metadata": {
    "id": "09a95a96-9770-4428-bfb8-15249f1d3384"
   },
   "outputs": [],
   "source": [
    "model.add(Conv2D(filters=32,kernel_size=3,padding='same',activation='relu',input_shape=[128,128,3]))\n",
    "model.add(Conv2D(filters=32,kernel_size=3,activation='relu'))\n",
    "model.add(MaxPool2D(pool_size=2, strides=2))\n"
   ]
  },
  {
   "cell_type": "code",
   "execution_count": 12,
   "id": "ba35bd98-52b7-403a-9298-2400830621a9",
   "metadata": {
    "id": "ba35bd98-52b7-403a-9298-2400830621a9"
   },
   "outputs": [],
   "source": [
    "model.add(Conv2D(filters=64,kernel_size=3,padding='same',activation='relu'))\n",
    "model.add(Conv2D(filters=64,kernel_size=3,activation='relu'))\n",
    "model.add(MaxPool2D(pool_size=2,strides=2))"
   ]
  },
  {
   "cell_type": "code",
   "execution_count": 13,
   "id": "3f7809a9-96aa-4640-a68b-2853515a6afb",
   "metadata": {
    "id": "3f7809a9-96aa-4640-a68b-2853515a6afb"
   },
   "outputs": [],
   "source": [
    "model.add(Conv2D(filters=128,kernel_size=3,padding='same',activation='relu'))\n",
    "model.add(Conv2D(filters=128,kernel_size=3,activation='relu'))\n",
    "model.add(MaxPool2D(pool_size=2,strides=2))"
   ]
  },
  {
   "cell_type": "code",
   "execution_count": 14,
   "id": "06049263-c00b-4618-a92c-c2971764e6e6",
   "metadata": {
    "id": "06049263-c00b-4618-a92c-c2971764e6e6"
   },
   "outputs": [],
   "source": [
    "model.add(Conv2D(filters=256,kernel_size=3,padding='same',activation='relu'))\n",
    "model.add(Conv2D(filters=256,kernel_size=3,activation='relu'))\n",
    "model.add(MaxPool2D(pool_size=2,strides=2))"
   ]
  },
  {
   "cell_type": "code",
   "execution_count": 15,
   "id": "acbbedf3-ee09-4b38-85fe-22894a46e41a",
   "metadata": {
    "id": "acbbedf3-ee09-4b38-85fe-22894a46e41a"
   },
   "outputs": [],
   "source": [
    "model.add(Conv2D(filters=512,kernel_size=3,padding='same',activation='relu'))\n",
    "model.add(Conv2D(filters=512,kernel_size=3,activation='relu'))\n",
    "model.add(MaxPool2D(pool_size=2,strides=2))"
   ]
  },
  {
   "cell_type": "code",
   "execution_count": 16,
   "id": "1671660b-97b9-4010-bec4-0cffb9f6d464",
   "metadata": {
    "id": "1671660b-97b9-4010-bec4-0cffb9f6d464"
   },
   "outputs": [],
   "source": [
    "model.add(Dropout(0.25))  # To avoid Overfitting"
   ]
  },
  {
   "cell_type": "code",
   "execution_count": 17,
   "id": "42a6baf9-b226-4ac8-a8f6-3325ce8ce255",
   "metadata": {
    "id": "42a6baf9-b226-4ac8-a8f6-3325ce8ce255"
   },
   "outputs": [],
   "source": [
    "model.add(Flatten())"
   ]
  },
  {
   "cell_type": "code",
   "execution_count": 18,
   "id": "7ff1e026-9fd5-4b16-b065-6fcd4263c2f7",
   "metadata": {
    "id": "7ff1e026-9fd5-4b16-b065-6fcd4263c2f7"
   },
   "outputs": [],
   "source": [
    "model.add(Dense(units=1500,activation='relu'))"
   ]
  },
  {
   "cell_type": "code",
   "execution_count": 19,
   "id": "1a8bac91-a62a-44c6-a21e-c33b96b08895",
   "metadata": {
    "id": "1a8bac91-a62a-44c6-a21e-c33b96b08895"
   },
   "outputs": [],
   "source": [
    "model.add(Dropout(0.4))"
   ]
  },
  {
   "cell_type": "code",
   "execution_count": 20,
   "id": "b151a4cd-a079-43e0-bd93-60d8d43ab375",
   "metadata": {
    "id": "b151a4cd-a079-43e0-bd93-60d8d43ab375"
   },
   "outputs": [],
   "source": [
    "#output layer\n",
    "\n",
    "model.add(Dense(units=38,activation='softmax'))"
   ]
  },
  {
   "cell_type": "markdown",
   "id": "a5be7b5f-eb70-45ca-acf4-ebe0ce75cca5",
   "metadata": {
    "id": "a5be7b5f-eb70-45ca-acf4-ebe0ce75cca5"
   },
   "source": [
    "### Compiling Model"
   ]
  },
  {
   "cell_type": "code",
   "execution_count": 21,
   "id": "e2813ba0-28bc-4582-afc5-dca8cf25ebeb",
   "metadata": {
    "id": "e2813ba0-28bc-4582-afc5-dca8cf25ebeb"
   },
   "outputs": [],
   "source": [
    "model.compile(optimizer=tf.keras.optimizers.legacy.Adam(\n",
    "    learning_rate=0.0001),loss='categorical_crossentropy',metrics=['accuracy'])"
   ]
  },
  {
   "cell_type": "code",
   "execution_count": 22,
   "id": "16fc3d15-8387-4fb5-b3c1-f52b500776d6",
   "metadata": {
    "id": "16fc3d15-8387-4fb5-b3c1-f52b500776d6",
    "outputId": "0e7eb9de-0585-45b4-a1d7-b89777a20399"
   },
   "outputs": [
    {
     "name": "stdout",
     "output_type": "stream",
     "text": [
      "Model: \"sequential\"\n",
      "_________________________________________________________________\n",
      " Layer (type)                Output Shape              Param #   \n",
      "=================================================================\n",
      " conv2d (Conv2D)             (None, 128, 128, 32)      896       \n",
      "                                                                 \n",
      " conv2d_1 (Conv2D)           (None, 126, 126, 32)      9248      \n",
      "                                                                 \n",
      " max_pooling2d (MaxPooling2D  (None, 63, 63, 32)       0         \n",
      " )                                                               \n",
      "                                                                 \n",
      " conv2d_2 (Conv2D)           (None, 63, 63, 64)        18496     \n",
      "                                                                 \n",
      " conv2d_3 (Conv2D)           (None, 61, 61, 64)        36928     \n",
      "                                                                 \n",
      " max_pooling2d_1 (MaxPooling  (None, 30, 30, 64)       0         \n",
      " 2D)                                                             \n",
      "                                                                 \n",
      " conv2d_4 (Conv2D)           (None, 30, 30, 128)       73856     \n",
      "                                                                 \n",
      " conv2d_5 (Conv2D)           (None, 28, 28, 128)       147584    \n",
      "                                                                 \n",
      " max_pooling2d_2 (MaxPooling  (None, 14, 14, 128)      0         \n",
      " 2D)                                                             \n",
      "                                                                 \n",
      " conv2d_6 (Conv2D)           (None, 14, 14, 256)       295168    \n",
      "                                                                 \n",
      " conv2d_7 (Conv2D)           (None, 12, 12, 256)       590080    \n",
      "                                                                 \n",
      " max_pooling2d_3 (MaxPooling  (None, 6, 6, 256)        0         \n",
      " 2D)                                                             \n",
      "                                                                 \n",
      " conv2d_8 (Conv2D)           (None, 6, 6, 512)         1180160   \n",
      "                                                                 \n",
      " conv2d_9 (Conv2D)           (None, 4, 4, 512)         2359808   \n",
      "                                                                 \n",
      " max_pooling2d_4 (MaxPooling  (None, 2, 2, 512)        0         \n",
      " 2D)                                                             \n",
      "                                                                 \n",
      " dropout (Dropout)           (None, 2, 2, 512)         0         \n",
      "                                                                 \n",
      " flatten (Flatten)           (None, 2048)              0         \n",
      "                                                                 \n",
      " dense (Dense)               (None, 1500)              3073500   \n",
      "                                                                 \n",
      " dropout_1 (Dropout)         (None, 1500)              0         \n",
      "                                                                 \n",
      " dense_1 (Dense)             (None, 38)                57038     \n",
      "                                                                 \n",
      "=================================================================\n",
      "Total params: 7,842,762\n",
      "Trainable params: 7,842,762\n",
      "Non-trainable params: 0\n",
      "_________________________________________________________________\n"
     ]
    }
   ],
   "source": [
    "model.summary()"
   ]
  },
  {
   "cell_type": "code",
   "execution_count": null,
   "id": "e6bce057-2f03-4c11-a009-9b694c65e51d",
   "metadata": {
    "id": "e6bce057-2f03-4c11-a009-9b694c65e51d"
   },
   "outputs": [],
   "source": []
  },
  {
   "cell_type": "markdown",
   "id": "a238a88d-9e98-486c-9163-670092ebbbc6",
   "metadata": {
    "id": "a238a88d-9e98-486c-9163-670092ebbbc6"
   },
   "source": [
    "### Model Training"
   ]
  },
  {
   "cell_type": "code",
   "execution_count": null,
   "id": "a77e77d0-25e1-464f-8f26-80641b8c3727",
   "metadata": {
    "id": "a77e77d0-25e1-464f-8f26-80641b8c3727"
   },
   "outputs": [],
   "source": [
    "training_history = model.fit(x = training_set,validation_data = validation_set,epochs=10)"
   ]
  },
  {
   "cell_type": "code",
   "execution_count": null,
   "id": "a6718a9c-df36-49cd-a826-fec440b1d7b3",
   "metadata": {},
   "outputs": [],
   "source": []
  },
  {
   "cell_type": "markdown",
   "id": "352e64ec-d94d-485d-a072-88e091b39187",
   "metadata": {},
   "source": [
    "### Model Evalution"
   ]
  },
  {
   "cell_type": "code",
   "execution_count": null,
   "id": "f438df4d-8b3c-460d-a892-2b55d107d70c",
   "metadata": {},
   "outputs": [],
   "source": [
    "# Model Evalution on traning set\n",
    "train_loss, train_acc = model.evaluate(training_set)\n"
   ]
  },
  {
   "cell_type": "code",
   "execution_count": null,
   "id": "ad30aa63-3a45-41b5-8408-f4583e05c893",
   "metadata": {},
   "outputs": [],
   "source": [
    "print('Training accuracy:', train_acc)\n",
    "print('Training Loss:', train_loss)"
   ]
  },
  {
   "cell_type": "code",
   "execution_count": null,
   "id": "5bb9cdbb-9f0e-463a-a9bf-4ec1063b9d87",
   "metadata": {},
   "outputs": [],
   "source": [
    "# Model on validation set\n",
    "val_loss, val_acc = cnn.evaluate(validation_set)\n"
   ]
  },
  {
   "cell_type": "code",
   "execution_count": null,
   "id": "785e2dcd-12a8-45bf-b204-7a18b1564ce6",
   "metadata": {},
   "outputs": [],
   "source": [
    "print('Validation accuracy:', val_acc)\n",
    "print('Validation loss:', val_loss)"
   ]
  },
  {
   "cell_type": "code",
   "execution_count": null,
   "id": "05465326-5f17-4985-9bba-66879a091cf1",
   "metadata": {},
   "outputs": [],
   "source": []
  },
  {
   "cell_type": "markdown",
   "id": "831d0f80-6c9a-4fa9-9336-aa0d7e372cf5",
   "metadata": {},
   "source": [
    "### Saving Model"
   ]
  },
  {
   "cell_type": "code",
   "execution_count": null,
   "id": "b6ac65ee-30a1-4e0a-8a66-3d1f404b1d64",
   "metadata": {},
   "outputs": [],
   "source": [
    "model.save('trained_model.keras')"
   ]
  },
  {
   "cell_type": "code",
   "execution_count": null,
   "id": "91598659-4c98-49a6-b783-c1194efb28b3",
   "metadata": {},
   "outputs": [],
   "source": [
    "# model.save('trained_model.h5')"
   ]
  },
  {
   "cell_type": "code",
   "execution_count": null,
   "id": "f8e9fe03-d9f2-4910-9c4b-031e58929f7d",
   "metadata": {},
   "outputs": [],
   "source": [
    "training_history.history #Return Dictionary of history"
   ]
  },
  {
   "cell_type": "code",
   "execution_count": null,
   "id": "15d6a5a0-232b-4a95-a26e-a75a08b116a3",
   "metadata": {},
   "outputs": [],
   "source": [
    "#Recording History in json\n",
    "import json\n",
    "with open('training_hist.json','w') as f:\n",
    "  json.dump(training_history.history,f)"
   ]
  },
  {
   "cell_type": "code",
   "execution_count": null,
   "id": "a13794fe-ce5f-4e62-b201-587b28f0f6f3",
   "metadata": {},
   "outputs": [],
   "source": [
    "print(training_history.history.keys())"
   ]
  },
  {
   "cell_type": "markdown",
   "id": "c3a989d6-9a22-4710-be96-39b1c31d442f",
   "metadata": {},
   "source": [
    "### Accuracy Visulization"
   ]
  },
  {
   "cell_type": "code",
   "execution_count": null,
   "id": "3dc5d57b-8223-4535-a66d-2e90c58e122a",
   "metadata": {},
   "outputs": [],
   "source": [
    "epochs = [i for i in range(1,11)]\n",
    "plt.plot(epochs,training_history.history['accuracy'],color='red',label='Training Accuracy')\n",
    "plt.plot(epochs,training_history.history['val_accuracy'],color='blue',label='Validation Accuracy')\n",
    "plt.xlabel('No. of Epochs')\n",
    "plt.title('Visualization of Accuracy Result')\n",
    "plt.legend()\n",
    "plt.show()"
   ]
  },
  {
   "cell_type": "markdown",
   "id": "3d3b5a93-de8e-473d-888e-fa46d5c0db61",
   "metadata": {},
   "source": [
    "### Classification (othor model)"
   ]
  },
  {
   "cell_type": "code",
   "execution_count": null,
   "id": "7055340f-ac93-4d3c-8f9b-814c4fc08ae3",
   "metadata": {},
   "outputs": [],
   "source": [
    "class_name = validation_set.class_names"
   ]
  },
  {
   "cell_type": "code",
   "execution_count": null,
   "id": "6f43f746-0dd8-4f7e-b65d-9b2d50957c3f",
   "metadata": {},
   "outputs": [],
   "source": [
    "test_set = tf.keras.utils.image_dataset_from_directory(\n",
    "    'valid',\n",
    "    labels=\"inferred\",\n",
    "    label_mode=\"categorical\",\n",
    "    class_names=None,\n",
    "    color_mode=\"rgb\",\n",
    "    batch_size=1,\n",
    "    image_size=(128, 128),\n",
    "    shuffle=False,\n",
    "    seed=None,\n",
    "    validation_split=None,\n",
    "    subset=None,\n",
    "    interpolation=\"bilinear\",\n",
    "    follow_links=False,\n",
    "    crop_to_aspect_ratio=False\n",
    ")"
   ]
  },
  {
   "cell_type": "markdown",
   "id": "fabf9269-68c9-45fd-ae3d-108bb8980311",
   "metadata": {},
   "source": [
    "# Predictions."
   ]
  },
  {
   "cell_type": "code",
   "execution_count": null,
   "id": "cb62ed03-94c3-45c5-b957-7a5c3edf4c27",
   "metadata": {},
   "outputs": [],
   "source": [
    "y_pred = model.predict(test_set)\n",
    "predicted_categories = tf.argmax(y_pred, axis=1)"
   ]
  },
  {
   "cell_type": "code",
   "execution_count": null,
   "id": "91ab0f7c-0e3b-4650-a1b1-a52aece1a785",
   "metadata": {},
   "outputs": [],
   "source": [
    "true_categories = tf.concat([y for x, y in test_set], axis=0)\n",
    "Y_true = tf.argmax(true_categories, axis=1)"
   ]
  },
  {
   "cell_type": "code",
   "execution_count": null,
   "id": "d39bf467-6020-41ac-bdf4-fc17bc5d699d",
   "metadata": {},
   "outputs": [],
   "source": [
    "Y_true"
   ]
  },
  {
   "cell_type": "code",
   "execution_count": null,
   "id": "83ecabcc-b4f8-48fb-8390-55f594f8db94",
   "metadata": {},
   "outputs": [],
   "source": [
    "predicted_categories"
   ]
  },
  {
   "cell_type": "markdown",
   "id": "8769060a-042b-44c3-8cb7-2b5de3088d72",
   "metadata": {},
   "source": [
    "### Classification Report"
   ]
  },
  {
   "cell_type": "code",
   "execution_count": null,
   "id": "1b75b2e9-007f-4220-83d5-24b44e471040",
   "metadata": {},
   "outputs": [],
   "source": [
    "from sklearn.metrics import confusion_matrix,classification_report\n",
    "cm = confusion_matrix(Y_true,predicted_categories)"
   ]
  },
  {
   "cell_type": "code",
   "execution_count": null,
   "id": "a4f464f9-ce92-4e1f-99a8-1155dc0a3937",
   "metadata": {},
   "outputs": [],
   "source": [
    "# Precision Recall Fscore\n",
    "print(classification_report(Y_true,predicted_categories,target_names=class_name))"
   ]
  },
  {
   "cell_type": "code",
   "execution_count": null,
   "id": "79b7d688-ddd8-4611-a3e1-3f20bf6e6c5e",
   "metadata": {},
   "outputs": [],
   "source": [
    "# Precision =(TP/(TP+FP))\n",
    "# Recall =(TP/(TP+FN))\n",
    "# Accuracy =((TP+TN)/(TP+TN+FP+FN))\n",
    "# f1-score = Harmonic mean of Precision and Recall"
   ]
  },
  {
   "cell_type": "code",
   "execution_count": null,
   "id": "9153d9c1-3e61-4ec7-95dc-067d67fe4d63",
   "metadata": {},
   "outputs": [],
   "source": [
    "# pred = model.predict(testds)\n",
    "# pred = [np.argmax(i) for i in pred]\n",
    "# y_test = testds.classes\n",
    "# print(classification_report(pred,y_test))"
   ]
  },
  {
   "cell_type": "markdown",
   "id": "26a26443-c5e0-4002-ae02-616de2cbda74",
   "metadata": {},
   "source": [
    "### Confusion Matrix"
   ]
  },
  {
   "cell_type": "code",
   "execution_count": null,
   "id": "714211e3-b02d-4a71-bb76-224de702784c",
   "metadata": {},
   "outputs": [],
   "source": [
    "cm = confusion_matrix(Y_true,predicted_categories)"
   ]
  },
  {
   "cell_type": "code",
   "execution_count": null,
   "id": "2fb1fd1d-a01d-412f-9ba4-19d8fc6f07da",
   "metadata": {},
   "outputs": [],
   "source": [
    "cm"
   ]
  },
  {
   "cell_type": "code",
   "execution_count": null,
   "id": "1cdc7c35-0e07-47ae-b016-abd7544b319c",
   "metadata": {},
   "outputs": [],
   "source": [
    "cm.shape"
   ]
  },
  {
   "cell_type": "code",
   "execution_count": null,
   "id": "00c5c1fe-d93e-40ec-a1df-be3b1a0f9e33",
   "metadata": {},
   "outputs": [],
   "source": [
    "plt.figure(figsize=(40, 40))\n",
    "sns.heatmap(cm,annot=True,annot_kws={\"size\": 10})\n",
    "\n",
    "plt.xlabel('Predicted Class',fontsize = 20)\n",
    "plt.ylabel('Actual Class',fontsize = 20)\n",
    "plt.title('Plant Disease Prediction Confusion Matrix',fontsize = 25)\n",
    "plt.show()"
   ]
  },
  {
   "cell_type": "code",
   "execution_count": null,
   "id": "32c10184-147b-4896-965e-6f6dfb37b53f",
   "metadata": {},
   "outputs": [],
   "source": []
  },
  {
   "cell_type": "code",
   "execution_count": null,
   "id": "d2edc7c5-ec77-400e-ae6e-0b56054c2d7e",
   "metadata": {},
   "outputs": [],
   "source": []
  }
 ],
 "metadata": {
  "accelerator": "GPU",
  "colab": {
   "gpuType": "T4",
   "provenance": []
  },
  "kernelspec": {
   "display_name": "Python (tensorflow_env)",
   "language": "python",
   "name": "tensorflow_env"
  },
  "language_info": {
   "codemirror_mode": {
    "name": "ipython",
    "version": 3
   },
   "file_extension": ".py",
   "mimetype": "text/x-python",
   "name": "python",
   "nbconvert_exporter": "python",
   "pygments_lexer": "ipython3",
   "version": "3.10.16"
  }
 },
 "nbformat": 4,
 "nbformat_minor": 5
}
