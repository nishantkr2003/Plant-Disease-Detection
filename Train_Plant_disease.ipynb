{
  "cells": [
    {
      "cell_type": "markdown",
      "metadata": {
        "id": "view-in-github",
        "colab_type": "text"
      },
      "source": [
        "<a href=\"https://colab.research.google.com/github/nishantkr2003/Plant-Disease-Detection/blob/main/Train_Plant_disease.ipynb\" target=\"_parent\"><img src=\"https://colab.research.google.com/assets/colab-badge.svg\" alt=\"Open In Colab\"/></a>"
      ]
    },
    {
      "cell_type": "code",
      "execution_count": 1,
      "id": "0056be2e-312a-4977-94fe-ad1c0499c10a",
      "metadata": {
        "colab": {
          "base_uri": "https://localhost:8080/"
        },
        "id": "0056be2e-312a-4977-94fe-ad1c0499c10a",
        "outputId": "b6c4b666-f960-4388-8226-a1c2bb60e10d"
      },
      "outputs": [
        {
          "output_type": "stream",
          "name": "stdout",
          "text": [
            "Hello World!\n"
          ]
        }
      ],
      "source": [
        "print(\"Hello World!\")"
      ]
    },
    {
      "cell_type": "code",
      "execution_count": 2,
      "id": "PdOP8zmrq22a",
      "metadata": {
        "colab": {
          "base_uri": "https://localhost:8080/",
          "height": 36
        },
        "id": "PdOP8zmrq22a",
        "outputId": "4760aac6-f5ce-411b-95f8-b8a64b4193f6"
      },
      "outputs": [
        {
          "output_type": "execute_result",
          "data": {
            "text/plain": [
              "'/device:GPU:0'"
            ],
            "application/vnd.google.colaboratory.intrinsic+json": {
              "type": "string"
            }
          },
          "metadata": {},
          "execution_count": 2
        }
      ],
      "source": [
        "import tensorflow as tf\n",
        "tf.test.gpu_device_name()"
      ]
    },
    {
      "cell_type": "markdown",
      "id": "d6a93382-f509-4054-b8be-7f795555c68c",
      "metadata": {
        "id": "d6a93382-f509-4054-b8be-7f795555c68c"
      },
      "source": [
        "# Importing Libraries"
      ]
    },
    {
      "cell_type": "code",
      "execution_count": 2,
      "id": "4a62664f-5ce0-4e9e-91ca-ae7924a549fa",
      "metadata": {
        "id": "4a62664f-5ce0-4e9e-91ca-ae7924a549fa"
      },
      "outputs": [],
      "source": [
        "import tensorflow as tf\n",
        "import pandas as pd\n",
        "import matplotlib.pyplot as plt\n",
        "import seaborn as sns"
      ]
    },
    {
      "cell_type": "code",
      "source": [
        "!git clone https://github.com/nishantkr2003/Plant-Disease-Detection.git"
      ],
      "metadata": {
        "colab": {
          "base_uri": "https://localhost:8080/"
        },
        "id": "T32v9dcFEqLy",
        "outputId": "ee8c0118-6934-4778-8cbc-937154784898"
      },
      "id": "T32v9dcFEqLy",
      "execution_count": 4,
      "outputs": [
        {
          "output_type": "stream",
          "name": "stdout",
          "text": [
            "Cloning into 'Plant-Disease-Detection'...\n",
            "remote: Enumerating objects: 87960, done.\u001b[K\n",
            "remote: Counting objects: 100% (33/33), done.\u001b[K\n",
            "remote: Compressing objects: 100% (28/28), done.\u001b[K\n",
            "remote: Total 87960 (delta 15), reused 17 (delta 5), pack-reused 87927 (from 2)\u001b[K\n",
            "Receiving objects: 100% (87960/87960), 1.31 GiB | 17.58 MiB/s, done.\n",
            "Resolving deltas: 100% (33/33), done.\n",
            "Updating files: 100% (87905/87905), done.\n"
          ]
        }
      ]
    },
    {
      "cell_type": "code",
      "source": [
        "!ls Plant-Disease-Detection\n"
      ],
      "metadata": {
        "colab": {
          "base_uri": "https://localhost:8080/"
        },
        "id": "0PXF8pKQEqfI",
        "outputId": "b061dced-3a62-4ce5-f7b2-8eff20bee1d4"
      },
      "id": "0PXF8pKQEqfI",
      "execution_count": 5,
      "outputs": [
        {
          "output_type": "stream",
          "name": "stdout",
          "text": [
            "README.md  requirement.txt  test  train  Train_Plant_disease.ipynb  valid\n"
          ]
        }
      ]
    },
    {
      "cell_type": "markdown",
      "id": "ee4d9d69-9ac4-4ff4-8908-2db75d47f25a",
      "metadata": {
        "id": "ee4d9d69-9ac4-4ff4-8908-2db75d47f25a"
      },
      "source": [
        "# Data preProcessing"
      ]
    },
    {
      "cell_type": "markdown",
      "id": "e66f341b-945b-4572-86c2-cb4feba68369",
      "metadata": {
        "id": "e66f341b-945b-4572-86c2-cb4feba68369"
      },
      "source": [
        "### Training Image Preprocessing"
      ]
    },
    {
      "cell_type": "code",
      "execution_count": 6,
      "id": "a7c6873a-6600-465a-9895-1093f18161af",
      "metadata": {
        "colab": {
          "base_uri": "https://localhost:8080/"
        },
        "id": "a7c6873a-6600-465a-9895-1093f18161af",
        "outputId": "85f6b095-fdc3-4958-f781-dc4754e45b58"
      },
      "outputs": [
        {
          "output_type": "stream",
          "name": "stdout",
          "text": [
            "Found 70295 files belonging to 38 classes.\n",
            "Dataset successfully loaded!\n"
          ]
        }
      ],
      "source": [
        "\n",
        "training_set = tf.keras.utils.image_dataset_from_directory(\n",
        "    \"/content/Plant-Disease-Detection/train\",\n",
        "    labels=\"inferred\",\n",
        "    label_mode=\"categorical\",\n",
        "    class_names=None,\n",
        "    color_mode=\"rgb\",\n",
        "    batch_size=32,\n",
        "    image_size=(128, 128),\n",
        "    shuffle=True,\n",
        "    seed=None,\n",
        "    validation_split=None,\n",
        "    subset=None,\n",
        "    interpolation=\"bilinear\",\n",
        "    follow_links=False,\n",
        "    crop_to_aspect_ratio=False,\n",
        "\n",
        ")\n",
        "print(\"Dataset successfully loaded!\")"
      ]
    },
    {
      "cell_type": "markdown",
      "id": "830a1806-7542-40f5-b371-3e96c76bc252",
      "metadata": {
        "id": "830a1806-7542-40f5-b371-3e96c76bc252"
      },
      "source": [
        "### Validation Image Preprocessing"
      ]
    },
    {
      "cell_type": "code",
      "execution_count": 7,
      "id": "a73c1795-338c-4197-8444-0a9ec7b2f9c4",
      "metadata": {
        "id": "a73c1795-338c-4197-8444-0a9ec7b2f9c4",
        "outputId": "b39cded8-cde5-4d4f-a885-976b00caace2",
        "colab": {
          "base_uri": "https://localhost:8080/"
        }
      },
      "outputs": [
        {
          "output_type": "stream",
          "name": "stdout",
          "text": [
            "Found 17572 files belonging to 38 classes.\n",
            "Validation dataset successfully loaded!\n"
          ]
        }
      ],
      "source": [
        "validation_set = tf.keras.utils.image_dataset_from_directory(\n",
        "    \"/content/Plant-Disease-Detection/valid\",\n",
        "    labels=\"inferred\",\n",
        "    label_mode=\"categorical\",\n",
        "    class_names=None,\n",
        "    color_mode=\"rgb\",\n",
        "    batch_size=32,\n",
        "    image_size=(128, 128),\n",
        "    shuffle=True,\n",
        "    seed=None,\n",
        "    validation_split=None,\n",
        "    subset=None,\n",
        "    interpolation=\"bilinear\",\n",
        "    follow_links=False,\n",
        "    crop_to_aspect_ratio=False,\n",
        "\n",
        ")\n",
        "\n",
        "\n",
        "print(\"Validation dataset successfully loaded!\")"
      ]
    },
    {
      "cell_type": "code",
      "execution_count": 8,
      "id": "3a783454-dd64-401f-8de7-c57c96acb14b",
      "metadata": {
        "id": "3a783454-dd64-401f-8de7-c57c96acb14b",
        "outputId": "a9014d89-21d6-4a73-8bb9-aac1d55a767c",
        "colab": {
          "base_uri": "https://localhost:8080/"
        }
      },
      "outputs": [
        {
          "output_type": "execute_result",
          "data": {
            "text/plain": [
              "<_PrefetchDataset element_spec=(TensorSpec(shape=(None, 128, 128, 3), dtype=tf.float32, name=None), TensorSpec(shape=(None, 38), dtype=tf.float32, name=None))>"
            ]
          },
          "metadata": {},
          "execution_count": 8
        }
      ],
      "source": [
        "training_set"
      ]
    },
    {
      "cell_type": "code",
      "execution_count": 9,
      "id": "b04dd986-eb52-40fb-913d-54fae0962b41",
      "metadata": {
        "id": "b04dd986-eb52-40fb-913d-54fae0962b41",
        "outputId": "00908618-52a4-4bf0-deb2-94d2de2f191a",
        "colab": {
          "base_uri": "https://localhost:8080/"
        }
      },
      "outputs": [
        {
          "output_type": "stream",
          "name": "stdout",
          "text": [
            "tf.Tensor(\n",
            "[[[[175.75 168.75 175.75]\n",
            "   [178.   171.   178.  ]\n",
            "   [180.   173.   180.  ]\n",
            "   ...\n",
            "   [120.25 127.5  102.5 ]\n",
            "   [144.75 143.75 126.25]\n",
            "   [ 93.75  85.25  72.5 ]]\n",
            "\n",
            "  [[175.75 168.75 175.75]\n",
            "   [177.   170.   177.  ]\n",
            "   [180.25 173.25 180.25]\n",
            "   ...\n",
            "   [135.25 144.25 118.75]\n",
            "   [121.25 122.75 103.75]\n",
            "   [ 81.5   77.    62.5 ]]\n",
            "\n",
            "  [[180.   173.   180.  ]\n",
            "   [180.   173.   180.  ]\n",
            "   [180.   173.   180.  ]\n",
            "   ...\n",
            "   [140.   151.5  124.5 ]\n",
            "   [146.75 152.   129.75]\n",
            "   [157.   158.5  140.  ]]\n",
            "\n",
            "  ...\n",
            "\n",
            "  [[126.75 114.75 118.75]\n",
            "   [119.5  107.5  111.5 ]\n",
            "   [118.5  106.5  110.5 ]\n",
            "   ...\n",
            "   [ 18.25  25.25  12.75]\n",
            "   [ 20.5   24.25  13.  ]\n",
            "   [ 17.5   19.5    8.5 ]]\n",
            "\n",
            "  [[117.75 105.75 109.75]\n",
            "   [114.   102.   106.  ]\n",
            "   [117.5  105.5  109.5 ]\n",
            "   ...\n",
            "   [ 19.25  25.    13.  ]\n",
            "   [ 21.25  23.5   12.5 ]\n",
            "   [ 16.    16.     6.  ]]\n",
            "\n",
            "  [[120.5  108.5  112.5 ]\n",
            "   [122.75 110.75 114.75]\n",
            "   [125.75 113.75 117.75]\n",
            "   ...\n",
            "   [ 22.    26.5   15.  ]\n",
            "   [ 23.5   24.5   14.  ]\n",
            "   [ 18.    15.     6.  ]]]\n",
            "\n",
            "\n",
            " [[[173.   167.   177.  ]\n",
            "   [172.   166.   176.  ]\n",
            "   [170.5  164.5  174.5 ]\n",
            "   ...\n",
            "   [167.   163.   177.  ]\n",
            "   [169.5  165.5  179.5 ]\n",
            "   [170.5  166.5  180.5 ]]\n",
            "\n",
            "  [[170.5  164.5  174.5 ]\n",
            "   [169.   163.   173.  ]\n",
            "   [167.75 161.75 171.75]\n",
            "   ...\n",
            "   [163.   159.   173.  ]\n",
            "   [166.25 162.25 176.25]\n",
            "   [168.75 164.75 178.75]]\n",
            "\n",
            "  [[168.75 162.75 172.75]\n",
            "   [168.   162.   172.  ]\n",
            "   [166.   160.   170.  ]\n",
            "   ...\n",
            "   [162.5  158.5  172.5 ]\n",
            "   [164.25 160.25 174.25]\n",
            "   [167.5  163.5  177.5 ]]\n",
            "\n",
            "  ...\n",
            "\n",
            "  [[107.    95.   105.  ]\n",
            "   [ 99.75  87.75  97.75]\n",
            "   [109.75  97.75 107.75]\n",
            "   ...\n",
            "   [114.75 104.75 115.75]\n",
            "   [105.5   95.5  106.5 ]\n",
            "   [113.75 103.75 114.75]]\n",
            "\n",
            "  [[107.75  95.75 105.75]\n",
            "   [109.5   97.5  107.5 ]\n",
            "   [104.5   92.5  102.5 ]\n",
            "   ...\n",
            "   [111.   101.   112.  ]\n",
            "   [111.5  101.5  112.5 ]\n",
            "   [108.75  98.75 109.75]]\n",
            "\n",
            "  [[106.    94.   104.  ]\n",
            "   [112.   100.   110.  ]\n",
            "   [106.    94.   104.  ]\n",
            "   ...\n",
            "   [108.5   98.5  109.5 ]\n",
            "   [111.25 101.25 112.25]\n",
            "   [117.5  107.5  118.5 ]]]\n",
            "\n",
            "\n",
            " [[[137.25 136.25 142.25]\n",
            "   [140.   139.   145.  ]\n",
            "   [139.25 138.25 144.25]\n",
            "   ...\n",
            "   [139.   142.   151.  ]\n",
            "   [136.   139.   148.  ]\n",
            "   [137.25 140.25 149.25]]\n",
            "\n",
            "  [[142.75 141.75 147.75]\n",
            "   [141.75 140.75 146.75]\n",
            "   [143.25 142.25 148.25]\n",
            "   ...\n",
            "   [135.5  138.5  147.5 ]\n",
            "   [131.5  134.5  143.5 ]\n",
            "   [130.75 133.75 142.75]]\n",
            "\n",
            "  [[142.5  141.5  147.5 ]\n",
            "   [137.5  136.5  142.5 ]\n",
            "   [136.5  135.5  141.5 ]\n",
            "   ...\n",
            "   [136.75 139.75 148.75]\n",
            "   [131.   134.   143.  ]\n",
            "   [132.5  135.5  144.5 ]]\n",
            "\n",
            "  ...\n",
            "\n",
            "  [[114.5  112.5  117.5 ]\n",
            "   [107.   105.   110.  ]\n",
            "   [105.25 103.25 108.25]\n",
            "   ...\n",
            "   [111.25 110.25 115.25]\n",
            "   [110.75 109.75 114.75]\n",
            "   [109.   108.   113.  ]]\n",
            "\n",
            "  [[106.75 104.75 109.75]\n",
            "   [102.75 100.75 105.75]\n",
            "   [111.75 109.75 114.75]\n",
            "   ...\n",
            "   [113.5  112.5  117.5 ]\n",
            "   [112.75 111.75 116.75]\n",
            "   [120.75 119.75 124.75]]\n",
            "\n",
            "  [[105.5  103.5  108.5 ]\n",
            "   [102.75 100.75 105.75]\n",
            "   [105.75 103.75 108.75]\n",
            "   ...\n",
            "   [112.75 111.75 116.75]\n",
            "   [115.5  114.5  119.5 ]\n",
            "   [113.75 112.75 117.75]]]\n",
            "\n",
            "\n",
            " ...\n",
            "\n",
            "\n",
            " [[[ 90.   104.25  89.25]\n",
            "   [109.   127.   112.5 ]\n",
            "   [109.5  133.   120.25]\n",
            "   ...\n",
            "   [ 56.75  79.25  19.5 ]\n",
            "   [ 88.    82.75  41.  ]\n",
            "   [138.25 107.25  82.75]]\n",
            "\n",
            "  [[ 92.25 101.25  84.25]\n",
            "   [105.5  119.   102.25]\n",
            "   [115.   135.25 120.5 ]\n",
            "   ...\n",
            "   [ 64.    82.25  25.5 ]\n",
            "   [ 86.25  79.    40.  ]\n",
            "   [132.   100.25  79.75]]\n",
            "\n",
            "  [[121.25 121.5  102.  ]\n",
            "   [113.75 121.25 101.25]\n",
            "   [119.25 134.25 117.25]\n",
            "   ...\n",
            "   [ 58.75  70.75  18.25]\n",
            "   [ 70.5   59.5   27.5 ]\n",
            "   [126.25  96.    80.75]]\n",
            "\n",
            "  ...\n",
            "\n",
            "  [[100.75 111.    98.  ]\n",
            "   [103.75 118.5  106.75]\n",
            "   [107.75 119.25 106.25]\n",
            "   ...\n",
            "   [ 34.5   24.5    8.25]\n",
            "   [ 44.75  49.    29.5 ]\n",
            "   [ 28.    44.25  23.  ]]\n",
            "\n",
            "  [[111.5  115.5   99.5 ]\n",
            "   [103.   116.    99.5 ]\n",
            "   [102.5  115.75  99.  ]\n",
            "   ...\n",
            "   [ 41.25  34.75  16.75]\n",
            "   [ 33.    38.5   18.75]\n",
            "   [ 40.5   59.    37.  ]]\n",
            "\n",
            "  [[106.5  107.5   88.  ]\n",
            "   [100.25 112.5   93.  ]\n",
            "   [105.75 117.75  98.75]\n",
            "   ...\n",
            "   [ 54.25  54.5   34.25]\n",
            "   [ 47.    58.25  36.25]\n",
            "   [ 31.75  53.25  30.25]]]\n",
            "\n",
            "\n",
            " [[[149.5  141.5  152.5 ]\n",
            "   [135.   127.25 137.5 ]\n",
            "   [150.   143.   151.  ]\n",
            "   ...\n",
            "   [109.25  98.25 102.25]\n",
            "   [102.25  91.25  95.25]\n",
            "   [105.75  94.75  98.75]]\n",
            "\n",
            "  [[124.75 117.75 125.5 ]\n",
            "   [135.   128.   135.75]\n",
            "   [146.   139.   146.25]\n",
            "   ...\n",
            "   [110.75  99.75 103.75]\n",
            "   [105.25  94.25  98.25]\n",
            "   [ 99.    88.    92.  ]]\n",
            "\n",
            "  [[134.25 128.   132.75]\n",
            "   [143.5  137.25 142.  ]\n",
            "   [148.5  142.5  146.  ]\n",
            "   ...\n",
            "   [103.    92.    96.  ]\n",
            "   [104.5   93.5   97.5 ]\n",
            "   [107.    96.   100.  ]]\n",
            "\n",
            "  ...\n",
            "\n",
            "  [[135.75 123.75 133.75]\n",
            "   [129.5  117.5  127.5 ]\n",
            "   [127.75 115.75 125.75]\n",
            "   ...\n",
            "   [ 47.75  33.75  30.75]\n",
            "   [ 51.5   37.5   34.5 ]\n",
            "   [ 57.5   43.5   40.5 ]]\n",
            "\n",
            "  [[133.5  121.5  131.5 ]\n",
            "   [134.25 122.25 132.25]\n",
            "   [135.5  123.5  133.5 ]\n",
            "   ...\n",
            "   [ 56.    42.    39.  ]\n",
            "   [ 57.5   43.5   40.5 ]\n",
            "   [ 61.5   47.5   44.5 ]]\n",
            "\n",
            "  [[132.25 120.25 130.25]\n",
            "   [131.5  119.5  129.5 ]\n",
            "   [130.75 118.75 128.75]\n",
            "   ...\n",
            "   [ 57.75  43.75  40.75]\n",
            "   [ 59.25  45.25  42.25]\n",
            "   [ 63.5   49.5   46.5 ]]]\n",
            "\n",
            "\n",
            " [[[186.5  176.5  184.5 ]\n",
            "   [183.25 173.25 181.25]\n",
            "   [169.   159.   167.  ]\n",
            "   ...\n",
            "   [189.25 182.25 189.25]\n",
            "   [189.   182.   189.  ]\n",
            "   [192.5  185.5  192.5 ]]\n",
            "\n",
            "  [[183.   173.   181.  ]\n",
            "   [181.   171.   179.  ]\n",
            "   [182.   172.   180.  ]\n",
            "   ...\n",
            "   [188.75 181.75 188.75]\n",
            "   [193.25 186.25 193.25]\n",
            "   [195.5  188.5  195.5 ]]\n",
            "\n",
            "  [[195.25 185.25 193.25]\n",
            "   [184.   174.   182.  ]\n",
            "   [176.75 166.75 174.75]\n",
            "   ...\n",
            "   [190.75 183.75 190.75]\n",
            "   [194.   187.   194.  ]\n",
            "   [194.   187.   194.  ]]\n",
            "\n",
            "  ...\n",
            "\n",
            "  [[156.5  146.5  155.5 ]\n",
            "   [145.5  135.5  144.5 ]\n",
            "   [149.75 139.75 148.75]\n",
            "   ...\n",
            "   [164.75 156.75 167.75]\n",
            "   [170.   162.   173.  ]\n",
            "   [172.75 164.75 175.75]]\n",
            "\n",
            "  [[155.75 145.75 154.75]\n",
            "   [164.25 154.25 163.25]\n",
            "   [159.25 149.25 158.25]\n",
            "   ...\n",
            "   [174.5  166.5  177.5 ]\n",
            "   [175.   167.   178.  ]\n",
            "   [171.75 163.75 174.75]]\n",
            "\n",
            "  [[161.75 151.75 160.75]\n",
            "   [147.5  137.5  146.5 ]\n",
            "   [159.   149.   158.  ]\n",
            "   ...\n",
            "   [175.   167.   178.  ]\n",
            "   [171.   163.   174.  ]\n",
            "   [165.75 157.75 168.75]]]], shape=(32, 128, 128, 3), dtype=float32) (32, 128, 128, 3)\n",
            "tf.Tensor(\n",
            "[[0. 0. 0. ... 0. 0. 0.]\n",
            " [0. 0. 0. ... 0. 0. 0.]\n",
            " [0. 0. 0. ... 0. 0. 0.]\n",
            " ...\n",
            " [0. 0. 0. ... 0. 0. 0.]\n",
            " [0. 0. 0. ... 0. 0. 0.]\n",
            " [0. 0. 0. ... 0. 0. 0.]], shape=(32, 38), dtype=float32) (32, 38)\n"
          ]
        }
      ],
      "source": [
        "for x,y in training_set:\n",
        "    # x is training set and y is label\n",
        "    print(x,x.shape)\n",
        "    print(y,y.shape)\n",
        "    break"
      ]
    },
    {
      "cell_type": "markdown",
      "id": "71ecfbf4-0e28-4f14-b3c6-a1fce6b7d683",
      "metadata": {
        "id": "71ecfbf4-0e28-4f14-b3c6-a1fce6b7d683"
      },
      "source": [
        "### Building Model"
      ]
    },
    {
      "cell_type": "code",
      "execution_count": 10,
      "id": "5f280e67-36d4-4747-86b1-010da3500b26",
      "metadata": {
        "id": "5f280e67-36d4-4747-86b1-010da3500b26"
      },
      "outputs": [],
      "source": [
        "from tensorflow.keras.layers import Dense, Conv2D, MaxPool2D, Flatten,Dropout\n",
        "from tensorflow.keras.models import Sequential\n"
      ]
    },
    {
      "cell_type": "code",
      "execution_count": 11,
      "id": "ce0d2127-f1b0-4139-a8c1-98bd52f9fe1a",
      "metadata": {
        "id": "ce0d2127-f1b0-4139-a8c1-98bd52f9fe1a"
      },
      "outputs": [],
      "source": [
        "model = Sequential()"
      ]
    },
    {
      "cell_type": "code",
      "execution_count": 12,
      "id": "eefc22dd-e2ca-405a-9d3b-4283f3089030",
      "metadata": {
        "id": "eefc22dd-e2ca-405a-9d3b-4283f3089030"
      },
      "outputs": [],
      "source": [
        "## Building convolution layer"
      ]
    },
    {
      "cell_type": "code",
      "execution_count": 13,
      "id": "09a95a96-9770-4428-bfb8-15249f1d3384",
      "metadata": {
        "id": "09a95a96-9770-4428-bfb8-15249f1d3384",
        "colab": {
          "base_uri": "https://localhost:8080/"
        },
        "outputId": "58fbde61-2c46-4a7b-98d2-e4745ac0531b"
      },
      "outputs": [
        {
          "output_type": "stream",
          "name": "stderr",
          "text": [
            "/usr/local/lib/python3.11/dist-packages/keras/src/layers/convolutional/base_conv.py:107: UserWarning: Do not pass an `input_shape`/`input_dim` argument to a layer. When using Sequential models, prefer using an `Input(shape)` object as the first layer in the model instead.\n",
            "  super().__init__(activity_regularizer=activity_regularizer, **kwargs)\n"
          ]
        }
      ],
      "source": [
        "model.add(Conv2D(filters=32,kernel_size=3,padding='same',activation='relu',input_shape=[128,128,3]))\n",
        "model.add(Conv2D(filters=32,kernel_size=3,activation='relu'))\n",
        "model.add(MaxPool2D(pool_size=2, strides=2))\n"
      ]
    },
    {
      "cell_type": "code",
      "execution_count": 14,
      "id": "ba35bd98-52b7-403a-9298-2400830621a9",
      "metadata": {
        "id": "ba35bd98-52b7-403a-9298-2400830621a9"
      },
      "outputs": [],
      "source": [
        "model.add(Conv2D(filters=64,kernel_size=3,padding='same',activation='relu'))\n",
        "model.add(Conv2D(filters=64,kernel_size=3,activation='relu'))\n",
        "model.add(MaxPool2D(pool_size=2,strides=2))"
      ]
    },
    {
      "cell_type": "code",
      "execution_count": 15,
      "id": "3f7809a9-96aa-4640-a68b-2853515a6afb",
      "metadata": {
        "id": "3f7809a9-96aa-4640-a68b-2853515a6afb"
      },
      "outputs": [],
      "source": [
        "model.add(Conv2D(filters=128,kernel_size=3,padding='same',activation='relu'))\n",
        "model.add(Conv2D(filters=128,kernel_size=3,activation='relu'))\n",
        "model.add(MaxPool2D(pool_size=2,strides=2))"
      ]
    },
    {
      "cell_type": "code",
      "execution_count": 16,
      "id": "06049263-c00b-4618-a92c-c2971764e6e6",
      "metadata": {
        "id": "06049263-c00b-4618-a92c-c2971764e6e6"
      },
      "outputs": [],
      "source": [
        "model.add(Conv2D(filters=256,kernel_size=3,padding='same',activation='relu'))\n",
        "model.add(Conv2D(filters=256,kernel_size=3,activation='relu'))\n",
        "model.add(MaxPool2D(pool_size=2,strides=2))"
      ]
    },
    {
      "cell_type": "code",
      "execution_count": 17,
      "id": "acbbedf3-ee09-4b38-85fe-22894a46e41a",
      "metadata": {
        "id": "acbbedf3-ee09-4b38-85fe-22894a46e41a"
      },
      "outputs": [],
      "source": [
        "model.add(Conv2D(filters=512,kernel_size=3,padding='same',activation='relu'))\n",
        "model.add(Conv2D(filters=512,kernel_size=3,activation='relu'))\n",
        "model.add(MaxPool2D(pool_size=2,strides=2))"
      ]
    },
    {
      "cell_type": "code",
      "execution_count": 18,
      "id": "1671660b-97b9-4010-bec4-0cffb9f6d464",
      "metadata": {
        "id": "1671660b-97b9-4010-bec4-0cffb9f6d464"
      },
      "outputs": [],
      "source": [
        "model.add(Dropout(0.25))  # To avoid Overfitting"
      ]
    },
    {
      "cell_type": "code",
      "execution_count": 19,
      "id": "42a6baf9-b226-4ac8-a8f6-3325ce8ce255",
      "metadata": {
        "id": "42a6baf9-b226-4ac8-a8f6-3325ce8ce255"
      },
      "outputs": [],
      "source": [
        "model.add(Flatten())"
      ]
    },
    {
      "cell_type": "code",
      "execution_count": 20,
      "id": "7ff1e026-9fd5-4b16-b065-6fcd4263c2f7",
      "metadata": {
        "id": "7ff1e026-9fd5-4b16-b065-6fcd4263c2f7"
      },
      "outputs": [],
      "source": [
        "model.add(Dense(units=1500,activation='relu'))"
      ]
    },
    {
      "cell_type": "code",
      "execution_count": 21,
      "id": "1a8bac91-a62a-44c6-a21e-c33b96b08895",
      "metadata": {
        "id": "1a8bac91-a62a-44c6-a21e-c33b96b08895"
      },
      "outputs": [],
      "source": [
        "model.add(Dropout(0.4))"
      ]
    },
    {
      "cell_type": "code",
      "execution_count": 22,
      "id": "b151a4cd-a079-43e0-bd93-60d8d43ab375",
      "metadata": {
        "id": "b151a4cd-a079-43e0-bd93-60d8d43ab375"
      },
      "outputs": [],
      "source": [
        "#output layer\n",
        "\n",
        "model.add(Dense(units=38,activation='softmax'))"
      ]
    },
    {
      "cell_type": "code",
      "source": [
        "#model.compile(optimizer=tf.keras.optimizers.legacy.Adam(\n",
        "#   learning_rate=0.0001),loss='categorical_crossentropy',metrics=['accuracy'])"
      ],
      "metadata": {
        "id": "0EvD_bLuIzYs"
      },
      "id": "0EvD_bLuIzYs",
      "execution_count": 23,
      "outputs": []
    },
    {
      "cell_type": "code",
      "source": [
        "model.compile(optimizer=tf.keras.optimizers.Adam(\n",
        "    learning_rate=0.0001),loss='categorical_crossentropy',metrics=['accuracy'])"
      ],
      "metadata": {
        "id": "AnHZCLctI2Mz"
      },
      "id": "AnHZCLctI2Mz",
      "execution_count": 24,
      "outputs": []
    },
    {
      "cell_type": "markdown",
      "id": "a5be7b5f-eb70-45ca-acf4-ebe0ce75cca5",
      "metadata": {
        "id": "a5be7b5f-eb70-45ca-acf4-ebe0ce75cca5"
      },
      "source": [
        "### Compiling Model"
      ]
    },
    {
      "cell_type": "code",
      "execution_count": 25,
      "id": "16fc3d15-8387-4fb5-b3c1-f52b500776d6",
      "metadata": {
        "id": "16fc3d15-8387-4fb5-b3c1-f52b500776d6",
        "outputId": "b3d66e66-f8b7-41a6-fc64-92f3354bb948",
        "colab": {
          "base_uri": "https://localhost:8080/",
          "height": 769
        }
      },
      "outputs": [
        {
          "output_type": "display_data",
          "data": {
            "text/plain": [
              "\u001b[1mModel: \"sequential\"\u001b[0m\n"
            ],
            "text/html": [
              "<pre style=\"white-space:pre;overflow-x:auto;line-height:normal;font-family:Menlo,'DejaVu Sans Mono',consolas,'Courier New',monospace\"><span style=\"font-weight: bold\">Model: \"sequential\"</span>\n",
              "</pre>\n"
            ]
          },
          "metadata": {}
        },
        {
          "output_type": "display_data",
          "data": {
            "text/plain": [
              "┏━━━━━━━━━━━━━━━━━━━━━━━━━━━━━━━━━━━━━━┳━━━━━━━━━━━━━━━━━━━━━━━━━━━━━┳━━━━━━━━━━━━━━━━━┓\n",
              "┃\u001b[1m \u001b[0m\u001b[1mLayer (type)                        \u001b[0m\u001b[1m \u001b[0m┃\u001b[1m \u001b[0m\u001b[1mOutput Shape               \u001b[0m\u001b[1m \u001b[0m┃\u001b[1m \u001b[0m\u001b[1m        Param #\u001b[0m\u001b[1m \u001b[0m┃\n",
              "┡━━━━━━━━━━━━━━━━━━━━━━━━━━━━━━━━━━━━━━╇━━━━━━━━━━━━━━━━━━━━━━━━━━━━━╇━━━━━━━━━━━━━━━━━┩\n",
              "│ conv2d (\u001b[38;5;33mConv2D\u001b[0m)                      │ (\u001b[38;5;45mNone\u001b[0m, \u001b[38;5;34m128\u001b[0m, \u001b[38;5;34m128\u001b[0m, \u001b[38;5;34m32\u001b[0m)        │             \u001b[38;5;34m896\u001b[0m │\n",
              "├──────────────────────────────────────┼─────────────────────────────┼─────────────────┤\n",
              "│ conv2d_1 (\u001b[38;5;33mConv2D\u001b[0m)                    │ (\u001b[38;5;45mNone\u001b[0m, \u001b[38;5;34m126\u001b[0m, \u001b[38;5;34m126\u001b[0m, \u001b[38;5;34m32\u001b[0m)        │           \u001b[38;5;34m9,248\u001b[0m │\n",
              "├──────────────────────────────────────┼─────────────────────────────┼─────────────────┤\n",
              "│ max_pooling2d (\u001b[38;5;33mMaxPooling2D\u001b[0m)         │ (\u001b[38;5;45mNone\u001b[0m, \u001b[38;5;34m63\u001b[0m, \u001b[38;5;34m63\u001b[0m, \u001b[38;5;34m32\u001b[0m)          │               \u001b[38;5;34m0\u001b[0m │\n",
              "├──────────────────────────────────────┼─────────────────────────────┼─────────────────┤\n",
              "│ conv2d_2 (\u001b[38;5;33mConv2D\u001b[0m)                    │ (\u001b[38;5;45mNone\u001b[0m, \u001b[38;5;34m63\u001b[0m, \u001b[38;5;34m63\u001b[0m, \u001b[38;5;34m64\u001b[0m)          │          \u001b[38;5;34m18,496\u001b[0m │\n",
              "├──────────────────────────────────────┼─────────────────────────────┼─────────────────┤\n",
              "│ conv2d_3 (\u001b[38;5;33mConv2D\u001b[0m)                    │ (\u001b[38;5;45mNone\u001b[0m, \u001b[38;5;34m61\u001b[0m, \u001b[38;5;34m61\u001b[0m, \u001b[38;5;34m64\u001b[0m)          │          \u001b[38;5;34m36,928\u001b[0m │\n",
              "├──────────────────────────────────────┼─────────────────────────────┼─────────────────┤\n",
              "│ max_pooling2d_1 (\u001b[38;5;33mMaxPooling2D\u001b[0m)       │ (\u001b[38;5;45mNone\u001b[0m, \u001b[38;5;34m30\u001b[0m, \u001b[38;5;34m30\u001b[0m, \u001b[38;5;34m64\u001b[0m)          │               \u001b[38;5;34m0\u001b[0m │\n",
              "├──────────────────────────────────────┼─────────────────────────────┼─────────────────┤\n",
              "│ conv2d_4 (\u001b[38;5;33mConv2D\u001b[0m)                    │ (\u001b[38;5;45mNone\u001b[0m, \u001b[38;5;34m30\u001b[0m, \u001b[38;5;34m30\u001b[0m, \u001b[38;5;34m128\u001b[0m)         │          \u001b[38;5;34m73,856\u001b[0m │\n",
              "├──────────────────────────────────────┼─────────────────────────────┼─────────────────┤\n",
              "│ conv2d_5 (\u001b[38;5;33mConv2D\u001b[0m)                    │ (\u001b[38;5;45mNone\u001b[0m, \u001b[38;5;34m28\u001b[0m, \u001b[38;5;34m28\u001b[0m, \u001b[38;5;34m128\u001b[0m)         │         \u001b[38;5;34m147,584\u001b[0m │\n",
              "├──────────────────────────────────────┼─────────────────────────────┼─────────────────┤\n",
              "│ max_pooling2d_2 (\u001b[38;5;33mMaxPooling2D\u001b[0m)       │ (\u001b[38;5;45mNone\u001b[0m, \u001b[38;5;34m14\u001b[0m, \u001b[38;5;34m14\u001b[0m, \u001b[38;5;34m128\u001b[0m)         │               \u001b[38;5;34m0\u001b[0m │\n",
              "├──────────────────────────────────────┼─────────────────────────────┼─────────────────┤\n",
              "│ conv2d_6 (\u001b[38;5;33mConv2D\u001b[0m)                    │ (\u001b[38;5;45mNone\u001b[0m, \u001b[38;5;34m14\u001b[0m, \u001b[38;5;34m14\u001b[0m, \u001b[38;5;34m256\u001b[0m)         │         \u001b[38;5;34m295,168\u001b[0m │\n",
              "├──────────────────────────────────────┼─────────────────────────────┼─────────────────┤\n",
              "│ conv2d_7 (\u001b[38;5;33mConv2D\u001b[0m)                    │ (\u001b[38;5;45mNone\u001b[0m, \u001b[38;5;34m12\u001b[0m, \u001b[38;5;34m12\u001b[0m, \u001b[38;5;34m256\u001b[0m)         │         \u001b[38;5;34m590,080\u001b[0m │\n",
              "├──────────────────────────────────────┼─────────────────────────────┼─────────────────┤\n",
              "│ max_pooling2d_3 (\u001b[38;5;33mMaxPooling2D\u001b[0m)       │ (\u001b[38;5;45mNone\u001b[0m, \u001b[38;5;34m6\u001b[0m, \u001b[38;5;34m6\u001b[0m, \u001b[38;5;34m256\u001b[0m)           │               \u001b[38;5;34m0\u001b[0m │\n",
              "├──────────────────────────────────────┼─────────────────────────────┼─────────────────┤\n",
              "│ conv2d_8 (\u001b[38;5;33mConv2D\u001b[0m)                    │ (\u001b[38;5;45mNone\u001b[0m, \u001b[38;5;34m6\u001b[0m, \u001b[38;5;34m6\u001b[0m, \u001b[38;5;34m512\u001b[0m)           │       \u001b[38;5;34m1,180,160\u001b[0m │\n",
              "├──────────────────────────────────────┼─────────────────────────────┼─────────────────┤\n",
              "│ conv2d_9 (\u001b[38;5;33mConv2D\u001b[0m)                    │ (\u001b[38;5;45mNone\u001b[0m, \u001b[38;5;34m4\u001b[0m, \u001b[38;5;34m4\u001b[0m, \u001b[38;5;34m512\u001b[0m)           │       \u001b[38;5;34m2,359,808\u001b[0m │\n",
              "├──────────────────────────────────────┼─────────────────────────────┼─────────────────┤\n",
              "│ max_pooling2d_4 (\u001b[38;5;33mMaxPooling2D\u001b[0m)       │ (\u001b[38;5;45mNone\u001b[0m, \u001b[38;5;34m2\u001b[0m, \u001b[38;5;34m2\u001b[0m, \u001b[38;5;34m512\u001b[0m)           │               \u001b[38;5;34m0\u001b[0m │\n",
              "├──────────────────────────────────────┼─────────────────────────────┼─────────────────┤\n",
              "│ dropout (\u001b[38;5;33mDropout\u001b[0m)                    │ (\u001b[38;5;45mNone\u001b[0m, \u001b[38;5;34m2\u001b[0m, \u001b[38;5;34m2\u001b[0m, \u001b[38;5;34m512\u001b[0m)           │               \u001b[38;5;34m0\u001b[0m │\n",
              "├──────────────────────────────────────┼─────────────────────────────┼─────────────────┤\n",
              "│ flatten (\u001b[38;5;33mFlatten\u001b[0m)                    │ (\u001b[38;5;45mNone\u001b[0m, \u001b[38;5;34m2048\u001b[0m)                │               \u001b[38;5;34m0\u001b[0m │\n",
              "├──────────────────────────────────────┼─────────────────────────────┼─────────────────┤\n",
              "│ dense (\u001b[38;5;33mDense\u001b[0m)                        │ (\u001b[38;5;45mNone\u001b[0m, \u001b[38;5;34m1500\u001b[0m)                │       \u001b[38;5;34m3,073,500\u001b[0m │\n",
              "├──────────────────────────────────────┼─────────────────────────────┼─────────────────┤\n",
              "│ dropout_1 (\u001b[38;5;33mDropout\u001b[0m)                  │ (\u001b[38;5;45mNone\u001b[0m, \u001b[38;5;34m1500\u001b[0m)                │               \u001b[38;5;34m0\u001b[0m │\n",
              "├──────────────────────────────────────┼─────────────────────────────┼─────────────────┤\n",
              "│ dense_1 (\u001b[38;5;33mDense\u001b[0m)                      │ (\u001b[38;5;45mNone\u001b[0m, \u001b[38;5;34m38\u001b[0m)                  │          \u001b[38;5;34m57,038\u001b[0m │\n",
              "└──────────────────────────────────────┴─────────────────────────────┴─────────────────┘\n"
            ],
            "text/html": [
              "<pre style=\"white-space:pre;overflow-x:auto;line-height:normal;font-family:Menlo,'DejaVu Sans Mono',consolas,'Courier New',monospace\">┏━━━━━━━━━━━━━━━━━━━━━━━━━━━━━━━━━━━━━━┳━━━━━━━━━━━━━━━━━━━━━━━━━━━━━┳━━━━━━━━━━━━━━━━━┓\n",
              "┃<span style=\"font-weight: bold\"> Layer (type)                         </span>┃<span style=\"font-weight: bold\"> Output Shape                </span>┃<span style=\"font-weight: bold\">         Param # </span>┃\n",
              "┡━━━━━━━━━━━━━━━━━━━━━━━━━━━━━━━━━━━━━━╇━━━━━━━━━━━━━━━━━━━━━━━━━━━━━╇━━━━━━━━━━━━━━━━━┩\n",
              "│ conv2d (<span style=\"color: #0087ff; text-decoration-color: #0087ff\">Conv2D</span>)                      │ (<span style=\"color: #00d7ff; text-decoration-color: #00d7ff\">None</span>, <span style=\"color: #00af00; text-decoration-color: #00af00\">128</span>, <span style=\"color: #00af00; text-decoration-color: #00af00\">128</span>, <span style=\"color: #00af00; text-decoration-color: #00af00\">32</span>)        │             <span style=\"color: #00af00; text-decoration-color: #00af00\">896</span> │\n",
              "├──────────────────────────────────────┼─────────────────────────────┼─────────────────┤\n",
              "│ conv2d_1 (<span style=\"color: #0087ff; text-decoration-color: #0087ff\">Conv2D</span>)                    │ (<span style=\"color: #00d7ff; text-decoration-color: #00d7ff\">None</span>, <span style=\"color: #00af00; text-decoration-color: #00af00\">126</span>, <span style=\"color: #00af00; text-decoration-color: #00af00\">126</span>, <span style=\"color: #00af00; text-decoration-color: #00af00\">32</span>)        │           <span style=\"color: #00af00; text-decoration-color: #00af00\">9,248</span> │\n",
              "├──────────────────────────────────────┼─────────────────────────────┼─────────────────┤\n",
              "│ max_pooling2d (<span style=\"color: #0087ff; text-decoration-color: #0087ff\">MaxPooling2D</span>)         │ (<span style=\"color: #00d7ff; text-decoration-color: #00d7ff\">None</span>, <span style=\"color: #00af00; text-decoration-color: #00af00\">63</span>, <span style=\"color: #00af00; text-decoration-color: #00af00\">63</span>, <span style=\"color: #00af00; text-decoration-color: #00af00\">32</span>)          │               <span style=\"color: #00af00; text-decoration-color: #00af00\">0</span> │\n",
              "├──────────────────────────────────────┼─────────────────────────────┼─────────────────┤\n",
              "│ conv2d_2 (<span style=\"color: #0087ff; text-decoration-color: #0087ff\">Conv2D</span>)                    │ (<span style=\"color: #00d7ff; text-decoration-color: #00d7ff\">None</span>, <span style=\"color: #00af00; text-decoration-color: #00af00\">63</span>, <span style=\"color: #00af00; text-decoration-color: #00af00\">63</span>, <span style=\"color: #00af00; text-decoration-color: #00af00\">64</span>)          │          <span style=\"color: #00af00; text-decoration-color: #00af00\">18,496</span> │\n",
              "├──────────────────────────────────────┼─────────────────────────────┼─────────────────┤\n",
              "│ conv2d_3 (<span style=\"color: #0087ff; text-decoration-color: #0087ff\">Conv2D</span>)                    │ (<span style=\"color: #00d7ff; text-decoration-color: #00d7ff\">None</span>, <span style=\"color: #00af00; text-decoration-color: #00af00\">61</span>, <span style=\"color: #00af00; text-decoration-color: #00af00\">61</span>, <span style=\"color: #00af00; text-decoration-color: #00af00\">64</span>)          │          <span style=\"color: #00af00; text-decoration-color: #00af00\">36,928</span> │\n",
              "├──────────────────────────────────────┼─────────────────────────────┼─────────────────┤\n",
              "│ max_pooling2d_1 (<span style=\"color: #0087ff; text-decoration-color: #0087ff\">MaxPooling2D</span>)       │ (<span style=\"color: #00d7ff; text-decoration-color: #00d7ff\">None</span>, <span style=\"color: #00af00; text-decoration-color: #00af00\">30</span>, <span style=\"color: #00af00; text-decoration-color: #00af00\">30</span>, <span style=\"color: #00af00; text-decoration-color: #00af00\">64</span>)          │               <span style=\"color: #00af00; text-decoration-color: #00af00\">0</span> │\n",
              "├──────────────────────────────────────┼─────────────────────────────┼─────────────────┤\n",
              "│ conv2d_4 (<span style=\"color: #0087ff; text-decoration-color: #0087ff\">Conv2D</span>)                    │ (<span style=\"color: #00d7ff; text-decoration-color: #00d7ff\">None</span>, <span style=\"color: #00af00; text-decoration-color: #00af00\">30</span>, <span style=\"color: #00af00; text-decoration-color: #00af00\">30</span>, <span style=\"color: #00af00; text-decoration-color: #00af00\">128</span>)         │          <span style=\"color: #00af00; text-decoration-color: #00af00\">73,856</span> │\n",
              "├──────────────────────────────────────┼─────────────────────────────┼─────────────────┤\n",
              "│ conv2d_5 (<span style=\"color: #0087ff; text-decoration-color: #0087ff\">Conv2D</span>)                    │ (<span style=\"color: #00d7ff; text-decoration-color: #00d7ff\">None</span>, <span style=\"color: #00af00; text-decoration-color: #00af00\">28</span>, <span style=\"color: #00af00; text-decoration-color: #00af00\">28</span>, <span style=\"color: #00af00; text-decoration-color: #00af00\">128</span>)         │         <span style=\"color: #00af00; text-decoration-color: #00af00\">147,584</span> │\n",
              "├──────────────────────────────────────┼─────────────────────────────┼─────────────────┤\n",
              "│ max_pooling2d_2 (<span style=\"color: #0087ff; text-decoration-color: #0087ff\">MaxPooling2D</span>)       │ (<span style=\"color: #00d7ff; text-decoration-color: #00d7ff\">None</span>, <span style=\"color: #00af00; text-decoration-color: #00af00\">14</span>, <span style=\"color: #00af00; text-decoration-color: #00af00\">14</span>, <span style=\"color: #00af00; text-decoration-color: #00af00\">128</span>)         │               <span style=\"color: #00af00; text-decoration-color: #00af00\">0</span> │\n",
              "├──────────────────────────────────────┼─────────────────────────────┼─────────────────┤\n",
              "│ conv2d_6 (<span style=\"color: #0087ff; text-decoration-color: #0087ff\">Conv2D</span>)                    │ (<span style=\"color: #00d7ff; text-decoration-color: #00d7ff\">None</span>, <span style=\"color: #00af00; text-decoration-color: #00af00\">14</span>, <span style=\"color: #00af00; text-decoration-color: #00af00\">14</span>, <span style=\"color: #00af00; text-decoration-color: #00af00\">256</span>)         │         <span style=\"color: #00af00; text-decoration-color: #00af00\">295,168</span> │\n",
              "├──────────────────────────────────────┼─────────────────────────────┼─────────────────┤\n",
              "│ conv2d_7 (<span style=\"color: #0087ff; text-decoration-color: #0087ff\">Conv2D</span>)                    │ (<span style=\"color: #00d7ff; text-decoration-color: #00d7ff\">None</span>, <span style=\"color: #00af00; text-decoration-color: #00af00\">12</span>, <span style=\"color: #00af00; text-decoration-color: #00af00\">12</span>, <span style=\"color: #00af00; text-decoration-color: #00af00\">256</span>)         │         <span style=\"color: #00af00; text-decoration-color: #00af00\">590,080</span> │\n",
              "├──────────────────────────────────────┼─────────────────────────────┼─────────────────┤\n",
              "│ max_pooling2d_3 (<span style=\"color: #0087ff; text-decoration-color: #0087ff\">MaxPooling2D</span>)       │ (<span style=\"color: #00d7ff; text-decoration-color: #00d7ff\">None</span>, <span style=\"color: #00af00; text-decoration-color: #00af00\">6</span>, <span style=\"color: #00af00; text-decoration-color: #00af00\">6</span>, <span style=\"color: #00af00; text-decoration-color: #00af00\">256</span>)           │               <span style=\"color: #00af00; text-decoration-color: #00af00\">0</span> │\n",
              "├──────────────────────────────────────┼─────────────────────────────┼─────────────────┤\n",
              "│ conv2d_8 (<span style=\"color: #0087ff; text-decoration-color: #0087ff\">Conv2D</span>)                    │ (<span style=\"color: #00d7ff; text-decoration-color: #00d7ff\">None</span>, <span style=\"color: #00af00; text-decoration-color: #00af00\">6</span>, <span style=\"color: #00af00; text-decoration-color: #00af00\">6</span>, <span style=\"color: #00af00; text-decoration-color: #00af00\">512</span>)           │       <span style=\"color: #00af00; text-decoration-color: #00af00\">1,180,160</span> │\n",
              "├──────────────────────────────────────┼─────────────────────────────┼─────────────────┤\n",
              "│ conv2d_9 (<span style=\"color: #0087ff; text-decoration-color: #0087ff\">Conv2D</span>)                    │ (<span style=\"color: #00d7ff; text-decoration-color: #00d7ff\">None</span>, <span style=\"color: #00af00; text-decoration-color: #00af00\">4</span>, <span style=\"color: #00af00; text-decoration-color: #00af00\">4</span>, <span style=\"color: #00af00; text-decoration-color: #00af00\">512</span>)           │       <span style=\"color: #00af00; text-decoration-color: #00af00\">2,359,808</span> │\n",
              "├──────────────────────────────────────┼─────────────────────────────┼─────────────────┤\n",
              "│ max_pooling2d_4 (<span style=\"color: #0087ff; text-decoration-color: #0087ff\">MaxPooling2D</span>)       │ (<span style=\"color: #00d7ff; text-decoration-color: #00d7ff\">None</span>, <span style=\"color: #00af00; text-decoration-color: #00af00\">2</span>, <span style=\"color: #00af00; text-decoration-color: #00af00\">2</span>, <span style=\"color: #00af00; text-decoration-color: #00af00\">512</span>)           │               <span style=\"color: #00af00; text-decoration-color: #00af00\">0</span> │\n",
              "├──────────────────────────────────────┼─────────────────────────────┼─────────────────┤\n",
              "│ dropout (<span style=\"color: #0087ff; text-decoration-color: #0087ff\">Dropout</span>)                    │ (<span style=\"color: #00d7ff; text-decoration-color: #00d7ff\">None</span>, <span style=\"color: #00af00; text-decoration-color: #00af00\">2</span>, <span style=\"color: #00af00; text-decoration-color: #00af00\">2</span>, <span style=\"color: #00af00; text-decoration-color: #00af00\">512</span>)           │               <span style=\"color: #00af00; text-decoration-color: #00af00\">0</span> │\n",
              "├──────────────────────────────────────┼─────────────────────────────┼─────────────────┤\n",
              "│ flatten (<span style=\"color: #0087ff; text-decoration-color: #0087ff\">Flatten</span>)                    │ (<span style=\"color: #00d7ff; text-decoration-color: #00d7ff\">None</span>, <span style=\"color: #00af00; text-decoration-color: #00af00\">2048</span>)                │               <span style=\"color: #00af00; text-decoration-color: #00af00\">0</span> │\n",
              "├──────────────────────────────────────┼─────────────────────────────┼─────────────────┤\n",
              "│ dense (<span style=\"color: #0087ff; text-decoration-color: #0087ff\">Dense</span>)                        │ (<span style=\"color: #00d7ff; text-decoration-color: #00d7ff\">None</span>, <span style=\"color: #00af00; text-decoration-color: #00af00\">1500</span>)                │       <span style=\"color: #00af00; text-decoration-color: #00af00\">3,073,500</span> │\n",
              "├──────────────────────────────────────┼─────────────────────────────┼─────────────────┤\n",
              "│ dropout_1 (<span style=\"color: #0087ff; text-decoration-color: #0087ff\">Dropout</span>)                  │ (<span style=\"color: #00d7ff; text-decoration-color: #00d7ff\">None</span>, <span style=\"color: #00af00; text-decoration-color: #00af00\">1500</span>)                │               <span style=\"color: #00af00; text-decoration-color: #00af00\">0</span> │\n",
              "├──────────────────────────────────────┼─────────────────────────────┼─────────────────┤\n",
              "│ dense_1 (<span style=\"color: #0087ff; text-decoration-color: #0087ff\">Dense</span>)                      │ (<span style=\"color: #00d7ff; text-decoration-color: #00d7ff\">None</span>, <span style=\"color: #00af00; text-decoration-color: #00af00\">38</span>)                  │          <span style=\"color: #00af00; text-decoration-color: #00af00\">57,038</span> │\n",
              "└──────────────────────────────────────┴─────────────────────────────┴─────────────────┘\n",
              "</pre>\n"
            ]
          },
          "metadata": {}
        },
        {
          "output_type": "display_data",
          "data": {
            "text/plain": [
              "\u001b[1m Total params: \u001b[0m\u001b[38;5;34m7,842,762\u001b[0m (29.92 MB)\n"
            ],
            "text/html": [
              "<pre style=\"white-space:pre;overflow-x:auto;line-height:normal;font-family:Menlo,'DejaVu Sans Mono',consolas,'Courier New',monospace\"><span style=\"font-weight: bold\"> Total params: </span><span style=\"color: #00af00; text-decoration-color: #00af00\">7,842,762</span> (29.92 MB)\n",
              "</pre>\n"
            ]
          },
          "metadata": {}
        },
        {
          "output_type": "display_data",
          "data": {
            "text/plain": [
              "\u001b[1m Trainable params: \u001b[0m\u001b[38;5;34m7,842,762\u001b[0m (29.92 MB)\n"
            ],
            "text/html": [
              "<pre style=\"white-space:pre;overflow-x:auto;line-height:normal;font-family:Menlo,'DejaVu Sans Mono',consolas,'Courier New',monospace\"><span style=\"font-weight: bold\"> Trainable params: </span><span style=\"color: #00af00; text-decoration-color: #00af00\">7,842,762</span> (29.92 MB)\n",
              "</pre>\n"
            ]
          },
          "metadata": {}
        },
        {
          "output_type": "display_data",
          "data": {
            "text/plain": [
              "\u001b[1m Non-trainable params: \u001b[0m\u001b[38;5;34m0\u001b[0m (0.00 B)\n"
            ],
            "text/html": [
              "<pre style=\"white-space:pre;overflow-x:auto;line-height:normal;font-family:Menlo,'DejaVu Sans Mono',consolas,'Courier New',monospace\"><span style=\"font-weight: bold\"> Non-trainable params: </span><span style=\"color: #00af00; text-decoration-color: #00af00\">0</span> (0.00 B)\n",
              "</pre>\n"
            ]
          },
          "metadata": {}
        }
      ],
      "source": [
        "model.summary()"
      ]
    },
    {
      "cell_type": "code",
      "execution_count": 77,
      "id": "e6bce057-2f03-4c11-a009-9b694c65e51d",
      "metadata": {
        "id": "e6bce057-2f03-4c11-a009-9b694c65e51d"
      },
      "outputs": [],
      "source": []
    },
    {
      "cell_type": "markdown",
      "id": "a238a88d-9e98-486c-9163-670092ebbbc6",
      "metadata": {
        "id": "a238a88d-9e98-486c-9163-670092ebbbc6"
      },
      "source": [
        "### Model Training"
      ]
    },
    {
      "cell_type": "code",
      "execution_count": 26,
      "id": "a77e77d0-25e1-464f-8f26-80641b8c3727",
      "metadata": {
        "id": "a77e77d0-25e1-464f-8f26-80641b8c3727",
        "colab": {
          "base_uri": "https://localhost:8080/"
        },
        "outputId": "e61003cf-9f53-488a-a650-d71ecf0f1b2a"
      },
      "outputs": [
        {
          "output_type": "stream",
          "name": "stdout",
          "text": [
            "Epoch 1/10\n",
            "\u001b[1m2197/2197\u001b[0m \u001b[32m━━━━━━━━━━━━━━━━━━━━\u001b[0m\u001b[37m\u001b[0m \u001b[1m155s\u001b[0m 64ms/step - accuracy: 0.4235 - loss: 2.0337 - val_accuracy: 0.8464 - val_loss: 0.4887\n",
            "Epoch 2/10\n",
            "\u001b[1m2197/2197\u001b[0m \u001b[32m━━━━━━━━━━━━━━━━━━━━\u001b[0m\u001b[37m\u001b[0m \u001b[1m196s\u001b[0m 66ms/step - accuracy: 0.8446 - loss: 0.4982 - val_accuracy: 0.9207 - val_loss: 0.2442\n",
            "Epoch 3/10\n",
            "\u001b[1m2197/2197\u001b[0m \u001b[32m━━━━━━━━━━━━━━━━━━━━\u001b[0m\u001b[37m\u001b[0m \u001b[1m192s\u001b[0m 62ms/step - accuracy: 0.9119 - loss: 0.2801 - val_accuracy: 0.9389 - val_loss: 0.1894\n",
            "Epoch 4/10\n",
            "\u001b[1m2197/2197\u001b[0m \u001b[32m━━━━━━━━━━━━━━━━━━━━\u001b[0m\u001b[37m\u001b[0m \u001b[1m135s\u001b[0m 62ms/step - accuracy: 0.9374 - loss: 0.1924 - val_accuracy: 0.9557 - val_loss: 0.1379\n",
            "Epoch 5/10\n",
            "\u001b[1m2197/2197\u001b[0m \u001b[32m━━━━━━━━━━━━━━━━━━━━\u001b[0m\u001b[37m\u001b[0m \u001b[1m151s\u001b[0m 66ms/step - accuracy: 0.9557 - loss: 0.1364 - val_accuracy: 0.9566 - val_loss: 0.1332\n",
            "Epoch 6/10\n",
            "\u001b[1m2197/2197\u001b[0m \u001b[32m━━━━━━━━━━━━━━━━━━━━\u001b[0m\u001b[37m\u001b[0m \u001b[1m145s\u001b[0m 66ms/step - accuracy: 0.9662 - loss: 0.1045 - val_accuracy: 0.9493 - val_loss: 0.1617\n",
            "Epoch 7/10\n",
            "\u001b[1m2197/2197\u001b[0m \u001b[32m━━━━━━━━━━━━━━━━━━━━\u001b[0m\u001b[37m\u001b[0m \u001b[1m191s\u001b[0m 61ms/step - accuracy: 0.9711 - loss: 0.0884 - val_accuracy: 0.9571 - val_loss: 0.1450\n",
            "Epoch 8/10\n",
            "\u001b[1m2197/2197\u001b[0m \u001b[32m━━━━━━━━━━━━━━━━━━━━\u001b[0m\u001b[37m\u001b[0m \u001b[1m134s\u001b[0m 61ms/step - accuracy: 0.9768 - loss: 0.0725 - val_accuracy: 0.9634 - val_loss: 0.1299\n",
            "Epoch 9/10\n",
            "\u001b[1m2197/2197\u001b[0m \u001b[32m━━━━━━━━━━━━━━━━━━━━\u001b[0m\u001b[37m\u001b[0m \u001b[1m152s\u001b[0m 66ms/step - accuracy: 0.9799 - loss: 0.0625 - val_accuracy: 0.9581 - val_loss: 0.1455\n",
            "Epoch 10/10\n",
            "\u001b[1m2197/2197\u001b[0m \u001b[32m━━━━━━━━━━━━━━━━━━━━\u001b[0m\u001b[37m\u001b[0m \u001b[1m202s\u001b[0m 66ms/step - accuracy: 0.9827 - loss: 0.0547 - val_accuracy: 0.9602 - val_loss: 0.1338\n"
          ]
        }
      ],
      "source": [
        "training_history = model.fit(x = training_set,validation_data = validation_set,epochs=10)"
      ]
    },
    {
      "cell_type": "code",
      "execution_count": 26,
      "id": "a6718a9c-df36-49cd-a826-fec440b1d7b3",
      "metadata": {
        "id": "a6718a9c-df36-49cd-a826-fec440b1d7b3"
      },
      "outputs": [],
      "source": []
    },
    {
      "cell_type": "markdown",
      "id": "352e64ec-d94d-485d-a072-88e091b39187",
      "metadata": {
        "id": "352e64ec-d94d-485d-a072-88e091b39187"
      },
      "source": [
        "### Model Evalution"
      ]
    },
    {
      "cell_type": "code",
      "execution_count": 27,
      "id": "f438df4d-8b3c-460d-a892-2b55d107d70c",
      "metadata": {
        "colab": {
          "base_uri": "https://localhost:8080/"
        },
        "id": "f438df4d-8b3c-460d-a892-2b55d107d70c",
        "outputId": "c2892018-b6ed-40c3-c340-270055ecee03"
      },
      "outputs": [
        {
          "output_type": "stream",
          "name": "stdout",
          "text": [
            "\u001b[1m2197/2197\u001b[0m \u001b[32m━━━━━━━━━━━━━━━━━━━━\u001b[0m\u001b[37m\u001b[0m \u001b[1m46s\u001b[0m 21ms/step - accuracy: 0.9853 - loss: 0.0481\n"
          ]
        }
      ],
      "source": [
        "# Model Evalution on traning set\n",
        "train_loss, train_acc = model.evaluate(training_set)\n"
      ]
    },
    {
      "cell_type": "code",
      "execution_count": 28,
      "id": "ad30aa63-3a45-41b5-8408-f4583e05c893",
      "metadata": {
        "colab": {
          "base_uri": "https://localhost:8080/"
        },
        "id": "ad30aa63-3a45-41b5-8408-f4583e05c893",
        "outputId": "62812f0d-d318-4c4e-8b16-df8a53a5bb8b"
      },
      "outputs": [
        {
          "output_type": "stream",
          "name": "stdout",
          "text": [
            "Training accuracy: 0.9864997267723083\n",
            "Training Loss: 0.04280170053243637\n"
          ]
        }
      ],
      "source": [
        "print('Training accuracy:', train_acc)\n",
        "print('Training Loss:', train_loss)"
      ]
    },
    {
      "cell_type": "code",
      "execution_count": 29,
      "id": "5bb9cdbb-9f0e-463a-a9bf-4ec1063b9d87",
      "metadata": {
        "colab": {
          "base_uri": "https://localhost:8080/"
        },
        "id": "5bb9cdbb-9f0e-463a-a9bf-4ec1063b9d87",
        "outputId": "7cc33d94-c185-417d-cd32-a82f5c9ba3b8"
      },
      "outputs": [
        {
          "output_type": "stream",
          "name": "stdout",
          "text": [
            "\u001b[1m550/550\u001b[0m \u001b[32m━━━━━━━━━━━━━━━━━━━━\u001b[0m\u001b[37m\u001b[0m \u001b[1m14s\u001b[0m 26ms/step - accuracy: 0.9606 - loss: 0.1297\n"
          ]
        }
      ],
      "source": [
        "# Model on validation set\n",
        "val_loss, val_acc = model.evaluate(validation_set)\n"
      ]
    },
    {
      "cell_type": "code",
      "execution_count": 30,
      "id": "785e2dcd-12a8-45bf-b204-7a18b1564ce6",
      "metadata": {
        "colab": {
          "base_uri": "https://localhost:8080/"
        },
        "id": "785e2dcd-12a8-45bf-b204-7a18b1564ce6",
        "outputId": "42b97483-43b0-4c42-b7f6-e3fc74d855a4"
      },
      "outputs": [
        {
          "output_type": "stream",
          "name": "stdout",
          "text": [
            "Validation accuracy: 0.9601638913154602\n",
            "Validation loss: 0.13383334875106812\n"
          ]
        }
      ],
      "source": [
        "print('Validation accuracy:', val_acc)\n",
        "print('Validation loss:', val_loss)"
      ]
    },
    {
      "cell_type": "code",
      "execution_count": 30,
      "id": "05465326-5f17-4985-9bba-66879a091cf1",
      "metadata": {
        "id": "05465326-5f17-4985-9bba-66879a091cf1"
      },
      "outputs": [],
      "source": []
    },
    {
      "cell_type": "markdown",
      "id": "831d0f80-6c9a-4fa9-9336-aa0d7e372cf5",
      "metadata": {
        "id": "831d0f80-6c9a-4fa9-9336-aa0d7e372cf5"
      },
      "source": [
        "### Saving Model"
      ]
    },
    {
      "cell_type": "code",
      "execution_count": 31,
      "id": "b6ac65ee-30a1-4e0a-8a66-3d1f404b1d64",
      "metadata": {
        "id": "b6ac65ee-30a1-4e0a-8a66-3d1f404b1d64"
      },
      "outputs": [],
      "source": [
        "model.save('trained_model.keras')"
      ]
    },
    {
      "cell_type": "code",
      "execution_count": 32,
      "id": "91598659-4c98-49a6-b783-c1194efb28b3",
      "metadata": {
        "id": "91598659-4c98-49a6-b783-c1194efb28b3"
      },
      "outputs": [],
      "source": [
        "# model.save('trained_model.h5')"
      ]
    },
    {
      "cell_type": "code",
      "execution_count": 33,
      "id": "f8e9fe03-d9f2-4910-9c4b-031e58929f7d",
      "metadata": {
        "colab": {
          "base_uri": "https://localhost:8080/"
        },
        "id": "f8e9fe03-d9f2-4910-9c4b-031e58929f7d",
        "outputId": "58edccbb-9f55-4c84-9ba2-206295e0e88a"
      },
      "outputs": [
        {
          "output_type": "execute_result",
          "data": {
            "text/plain": [
              "{'accuracy': [0.6169571280479431,\n",
              "  0.8662920594215393,\n",
              "  0.9207624793052673,\n",
              "  0.9434952735900879,\n",
              "  0.9582331776618958,\n",
              "  0.9669250845909119,\n",
              "  0.9727434515953064,\n",
              "  0.9778647422790527,\n",
              "  0.9808236956596375,\n",
              "  0.9825023412704468],\n",
              " 'loss': [1.2940855026245117,\n",
              "  0.4236358404159546,\n",
              "  0.24819938838481903,\n",
              "  0.1740303933620453,\n",
              "  0.12852303683757782,\n",
              "  0.0998983234167099,\n",
              "  0.08318831771612167,\n",
              "  0.06860392540693283,\n",
              "  0.06082518771290779,\n",
              "  0.05428813025355339],\n",
              " 'val_accuracy': [0.8464033603668213,\n",
              "  0.9207261800765991,\n",
              "  0.9389369487762451,\n",
              "  0.9557250142097473,\n",
              "  0.9566355347633362,\n",
              "  0.9492943286895752,\n",
              "  0.9571477174758911,\n",
              "  0.963350772857666,\n",
              "  0.9581151604652405,\n",
              "  0.9601638913154602],\n",
              " 'val_loss': [0.4887230098247528,\n",
              "  0.24418386816978455,\n",
              "  0.18944530189037323,\n",
              "  0.13794486224651337,\n",
              "  0.13324978947639465,\n",
              "  0.16167551279067993,\n",
              "  0.14501167833805084,\n",
              "  0.12994132936000824,\n",
              "  0.1455310732126236,\n",
              "  0.13383334875106812]}"
            ]
          },
          "metadata": {},
          "execution_count": 33
        }
      ],
      "source": [
        "training_history.history #Return Dictionary of history"
      ]
    },
    {
      "cell_type": "code",
      "execution_count": 34,
      "id": "15d6a5a0-232b-4a95-a26e-a75a08b116a3",
      "metadata": {
        "id": "15d6a5a0-232b-4a95-a26e-a75a08b116a3"
      },
      "outputs": [],
      "source": [
        "#Recording History in json\n",
        "import json\n",
        "with open('training_hist.json','w') as f:\n",
        "  json.dump(training_history.history,f)"
      ]
    },
    {
      "cell_type": "code",
      "execution_count": 35,
      "id": "a13794fe-ce5f-4e62-b201-587b28f0f6f3",
      "metadata": {
        "colab": {
          "base_uri": "https://localhost:8080/"
        },
        "id": "a13794fe-ce5f-4e62-b201-587b28f0f6f3",
        "outputId": "f4c642b0-6229-4692-9868-5ddb093fce92"
      },
      "outputs": [
        {
          "output_type": "stream",
          "name": "stdout",
          "text": [
            "dict_keys(['accuracy', 'loss', 'val_accuracy', 'val_loss'])\n"
          ]
        }
      ],
      "source": [
        "print(training_history.history.keys())"
      ]
    },
    {
      "cell_type": "markdown",
      "id": "c3a989d6-9a22-4710-be96-39b1c31d442f",
      "metadata": {
        "id": "c3a989d6-9a22-4710-be96-39b1c31d442f"
      },
      "source": [
        "### Accuracy Visulization"
      ]
    },
    {
      "cell_type": "code",
      "execution_count": 36,
      "id": "3dc5d57b-8223-4535-a66d-2e90c58e122a",
      "metadata": {
        "colab": {
          "base_uri": "https://localhost:8080/",
          "height": 472
        },
        "id": "3dc5d57b-8223-4535-a66d-2e90c58e122a",
        "outputId": "df0a0497-05f5-4b22-8c42-8190bddfb0b1"
      },
      "outputs": [
        {
          "output_type": "display_data",
          "data": {
            "text/plain": [
              "<Figure size 640x480 with 1 Axes>"
            ],
            "image/png": "[encoded data removed]"
          },
          "metadata": {}
        }
      ],
      "source": [
        "epochs = [i for i in range(1,11)]\n",
        "plt.plot(epochs,training_history.history['accuracy'],color='red',label='Training Accuracy')\n",
        "plt.plot(epochs,training_history.history['val_accuracy'],color='blue',label='Validation Accuracy')\n",
        "plt.xlabel('No. of Epochs')\n",
        "plt.title('Visualization of Accuracy Result')\n",
        "plt.legend()\n",
        "plt.show()"
      ]
    },
    {
      "cell_type": "markdown",
      "id": "3d3b5a93-de8e-473d-888e-fa46d5c0db61",
      "metadata": {
        "id": "3d3b5a93-de8e-473d-888e-fa46d5c0db61"
      },
      "source": [
        "### Classification (othor model)"
      ]
    },
    {
      "cell_type": "code",
      "execution_count": 37,
      "id": "7055340f-ac93-4d3c-8f9b-814c4fc08ae3",
      "metadata": {
        "id": "7055340f-ac93-4d3c-8f9b-814c4fc08ae3"
      },
      "outputs": [],
      "source": [
        "class_name = validation_set.class_names"
      ]
    },
    {
      "cell_type": "code",
      "execution_count": 39,
      "id": "6f43f746-0dd8-4f7e-b65d-9b2d50957c3f",
      "metadata": {
        "colab": {
          "base_uri": "https://localhost:8080/",
          "height": 367
        },
        "id": "6f43f746-0dd8-4f7e-b65d-9b2d50957c3f",
        "outputId": "757633b5-6164-411b-e665-8e5048af71e9"
      },
      "outputs": [
        {
          "output_type": "stream",
          "name": "stdout",
          "text": [
            "Found 0 files belonging to 0 classes.\n"
          ]
        },
        {
          "output_type": "error",
          "ename": "ValueError",
          "evalue": "No images found in directory /content/Plant-Disease-Detection/test. Allowed formats: ('.bmp', '.gif', '.jpeg', '.jpg', '.png')",
          "traceback": [
            "\u001b[0;31m---------------------------------------------------------------------------\u001b[0m",
            "\u001b[0;31mValueError\u001b[0m                                Traceback (most recent call last)",
            "\u001b[0;32m<ipython-input-39-963ad22289f8>\u001b[0m in \u001b[0;36m<cell line: 0>\u001b[0;34m()\u001b[0m\n\u001b[0;32m----> 1\u001b[0;31m test_set = tf.keras.utils.image_dataset_from_directory(\n\u001b[0m\u001b[1;32m      2\u001b[0m     \u001b[0;34m\"/content/Plant-Disease-Detection/test\"\u001b[0m\u001b[0;34m,\u001b[0m\u001b[0;34m\u001b[0m\u001b[0;34m\u001b[0m\u001b[0m\n\u001b[1;32m      3\u001b[0m     \u001b[0mlabels\u001b[0m\u001b[0;34m=\u001b[0m\u001b[0;34m\"inferred\"\u001b[0m\u001b[0;34m,\u001b[0m\u001b[0;34m\u001b[0m\u001b[0;34m\u001b[0m\u001b[0m\n\u001b[1;32m      4\u001b[0m     \u001b[0mlabel_mode\u001b[0m\u001b[0;34m=\u001b[0m\u001b[0;34m\"categorical\"\u001b[0m\u001b[0;34m,\u001b[0m\u001b[0;34m\u001b[0m\u001b[0;34m\u001b[0m\u001b[0m\n\u001b[1;32m      5\u001b[0m     \u001b[0mclass_names\u001b[0m\u001b[0;34m=\u001b[0m\u001b[0;32mNone\u001b[0m\u001b[0;34m,\u001b[0m\u001b[0;34m\u001b[0m\u001b[0;34m\u001b[0m\u001b[0m\n",
            "\u001b[0;32m/usr/local/lib/python3.11/dist-packages/keras/src/utils/image_dataset_utils.py\u001b[0m in \u001b[0;36mimage_dataset_from_directory\u001b[0;34m(directory, labels, label_mode, class_names, color_mode, batch_size, image_size, shuffle, seed, validation_split, subset, interpolation, follow_links, crop_to_aspect_ratio, pad_to_aspect_ratio, data_format, verbose)\u001b[0m\n\u001b[1;32m    327\u001b[0m         )\n\u001b[1;32m    328\u001b[0m         \u001b[0;32mif\u001b[0m \u001b[0;32mnot\u001b[0m \u001b[0mimage_paths\u001b[0m\u001b[0;34m:\u001b[0m\u001b[0;34m\u001b[0m\u001b[0;34m\u001b[0m\u001b[0m\n\u001b[0;32m--> 329\u001b[0;31m             raise ValueError(\n\u001b[0m\u001b[1;32m    330\u001b[0m                 \u001b[0;34mf\"No images found in directory {directory}. \"\u001b[0m\u001b[0;34m\u001b[0m\u001b[0;34m\u001b[0m\u001b[0m\n\u001b[1;32m    331\u001b[0m                 \u001b[0;34mf\"Allowed formats: {ALLOWLIST_FORMATS}\"\u001b[0m\u001b[0;34m\u001b[0m\u001b[0;34m\u001b[0m\u001b[0m\n",
            "\u001b[0;31mValueError\u001b[0m: No images found in directory /content/Plant-Disease-Detection/test. Allowed formats: ('.bmp', '.gif', '.jpeg', '.jpg', '.png')"
          ]
        }
      ],
      "source": [
        "test_set = tf.keras.utils.image_dataset_from_directory(\n",
        "    \"/content/Plant-Disease-Detection/test\",\n",
        "    labels=\"inferred\",\n",
        "    label_mode=\"categorical\",\n",
        "    class_names=None,\n",
        "    color_mode=\"rgb\",\n",
        "    batch_size=1,\n",
        "    image_size=(128, 128),\n",
        "    shuffle=False,\n",
        "    seed=None,\n",
        "    validation_split=None,\n",
        "    subset=None,\n",
        "    interpolation=\"bilinear\",\n",
        "    follow_links=False,\n",
        "    crop_to_aspect_ratio=False\n",
        ")"
      ]
    },
    {
      "cell_type": "markdown",
      "id": "fabf9269-68c9-45fd-ae3d-108bb8980311",
      "metadata": {
        "id": "fabf9269-68c9-45fd-ae3d-108bb8980311"
      },
      "source": [
        "# Predictions."
      ]
    },
    {
      "cell_type": "code",
      "execution_count": null,
      "id": "cb62ed03-94c3-45c5-b957-7a5c3edf4c27",
      "metadata": {
        "id": "cb62ed03-94c3-45c5-b957-7a5c3edf4c27"
      },
      "outputs": [],
      "source": [
        "y_pred = model.predict(test_set)\n",
        "predicted_categories = tf.argmax(y_pred, axis=1)"
      ]
    },
    {
      "cell_type": "code",
      "execution_count": null,
      "id": "91ab0f7c-0e3b-4650-a1b1-a52aece1a785",
      "metadata": {
        "id": "91ab0f7c-0e3b-4650-a1b1-a52aece1a785"
      },
      "outputs": [],
      "source": [
        "true_categories = tf.concat([y for x, y in test_set], axis=0)\n",
        "Y_true = tf.argmax(true_categories, axis=1)"
      ]
    },
    {
      "cell_type": "code",
      "execution_count": null,
      "id": "d39bf467-6020-41ac-bdf4-fc17bc5d699d",
      "metadata": {
        "id": "d39bf467-6020-41ac-bdf4-fc17bc5d699d"
      },
      "outputs": [],
      "source": [
        "Y_true"
      ]
    },
    {
      "cell_type": "code",
      "execution_count": null,
      "id": "83ecabcc-b4f8-48fb-8390-55f594f8db94",
      "metadata": {
        "id": "83ecabcc-b4f8-48fb-8390-55f594f8db94"
      },
      "outputs": [],
      "source": [
        "predicted_categories"
      ]
    },
    {
      "cell_type": "markdown",
      "id": "8769060a-042b-44c3-8cb7-2b5de3088d72",
      "metadata": {
        "id": "8769060a-042b-44c3-8cb7-2b5de3088d72"
      },
      "source": [
        "### Classification Report"
      ]
    },
    {
      "cell_type": "code",
      "execution_count": null,
      "id": "1b75b2e9-007f-4220-83d5-24b44e471040",
      "metadata": {
        "id": "1b75b2e9-007f-4220-83d5-24b44e471040"
      },
      "outputs": [],
      "source": [
        "from sklearn.metrics import confusion_matrix,classification_report\n",
        "cm = confusion_matrix(Y_true,predicted_categories)"
      ]
    },
    {
      "cell_type": "code",
      "execution_count": null,
      "id": "a4f464f9-ce92-4e1f-99a8-1155dc0a3937",
      "metadata": {
        "id": "a4f464f9-ce92-4e1f-99a8-1155dc0a3937"
      },
      "outputs": [],
      "source": [
        "# Precision Recall Fscore\n",
        "print(classification_report(Y_true,predicted_categories,target_names=class_name))"
      ]
    },
    {
      "cell_type": "code",
      "execution_count": null,
      "id": "79b7d688-ddd8-4611-a3e1-3f20bf6e6c5e",
      "metadata": {
        "id": "79b7d688-ddd8-4611-a3e1-3f20bf6e6c5e"
      },
      "outputs": [],
      "source": [
        "# Precision =(TP/(TP+FP))\n",
        "# Recall =(TP/(TP+FN))\n",
        "# Accuracy =((TP+TN)/(TP+TN+FP+FN))\n",
        "# f1-score = Harmonic mean of Precision and Recall"
      ]
    },
    {
      "cell_type": "code",
      "execution_count": null,
      "id": "9153d9c1-3e61-4ec7-95dc-067d67fe4d63",
      "metadata": {
        "id": "9153d9c1-3e61-4ec7-95dc-067d67fe4d63"
      },
      "outputs": [],
      "source": [
        "# pred = model.predict(testds)\n",
        "# pred = [np.argmax(i) for i in pred]\n",
        "# y_test = testds.classes\n",
        "# print(classification_report(pred,y_test))"
      ]
    },
    {
      "cell_type": "markdown",
      "id": "26a26443-c5e0-4002-ae02-616de2cbda74",
      "metadata": {
        "id": "26a26443-c5e0-4002-ae02-616de2cbda74"
      },
      "source": [
        "### Confusion Matrix"
      ]
    },
    {
      "cell_type": "code",
      "execution_count": null,
      "id": "714211e3-b02d-4a71-bb76-224de702784c",
      "metadata": {
        "id": "714211e3-b02d-4a71-bb76-224de702784c"
      },
      "outputs": [],
      "source": [
        "cm = confusion_matrix(Y_true,predicted_categories)"
      ]
    },
    {
      "cell_type": "code",
      "execution_count": null,
      "id": "2fb1fd1d-a01d-412f-9ba4-19d8fc6f07da",
      "metadata": {
        "id": "2fb1fd1d-a01d-412f-9ba4-19d8fc6f07da"
      },
      "outputs": [],
      "source": [
        "cm"
      ]
    },
    {
      "cell_type": "code",
      "execution_count": null,
      "id": "1cdc7c35-0e07-47ae-b016-abd7544b319c",
      "metadata": {
        "id": "1cdc7c35-0e07-47ae-b016-abd7544b319c"
      },
      "outputs": [],
      "source": [
        "cm.shape"
      ]
    },
    {
      "cell_type": "code",
      "execution_count": null,
      "id": "00c5c1fe-d93e-40ec-a1df-be3b1a0f9e33",
      "metadata": {
        "id": "00c5c1fe-d93e-40ec-a1df-be3b1a0f9e33"
      },
      "outputs": [],
      "source": [
        "plt.figure(figsize=(40, 40))\n",
        "sns.heatmap(cm,annot=True,annot_kws={\"size\": 10})\n",
        "\n",
        "plt.xlabel('Predicted Class',fontsize = 20)\n",
        "plt.ylabel('Actual Class',fontsize = 20)\n",
        "plt.title('Plant Disease Prediction Confusion Matrix',fontsize = 25)\n",
        "plt.show()"
      ]
    },
    {
      "cell_type": "code",
      "execution_count": null,
      "id": "32c10184-147b-4896-965e-6f6dfb37b53f",
      "metadata": {
        "id": "32c10184-147b-4896-965e-6f6dfb37b53f"
      },
      "outputs": [],
      "source": []
    },
    {
      "cell_type": "code",
      "execution_count": null,
      "id": "d2edc7c5-ec77-400e-ae6e-0b56054c2d7e",
      "metadata": {
        "id": "d2edc7c5-ec77-400e-ae6e-0b56054c2d7e"
      },
      "outputs": [],
      "source": []
    }
  ],
  "metadata": {
    "accelerator": "GPU",
    "colab": {
      "gpuType": "T4",
      "provenance": [],
      "include_colab_link": true
    },
    "kernelspec": {
      "display_name": "Python (tensorflow_env)",
      "language": "python",
      "name": "tensorflow_env"
    },
    "language_info": {
      "codemirror_mode": {
        "name": "ipython",
        "version": 3
      },
      "file_extension": ".py",
      "mimetype": "text/x-python",
      "name": "python",
      "nbconvert_exporter": "python",
      "pygments_lexer": "ipython3",
      "version": "3.10.16"
    }
  },
  "nbformat": 4,
  "nbformat_minor": 5
}