{
 "cells": [
  {
   "cell_type": "code",
   "execution_count": null,
   "id": "0056be2e-312a-4977-94fe-ad1c0499c10a",
   "metadata": {},
   "outputs": [],
   "source": [
    "print(\"Hello World!\")"
   ]
  },
  {
   "cell_type": "markdown",
   "id": "d6a93382-f509-4054-b8be-7f795555c68c",
   "metadata": {},
   "source": [
    "# Importing Libraries"
   ]
  },
  {
   "cell_type": "code",
   "execution_count": null,
   "id": "4a62664f-5ce0-4e9e-91ca-ae7924a549fa",
   "metadata": {},
   "outputs": [],
   "source": [
    "import tensorflow as tf\n",
    "import pandas as pd\n",
    "import matplotlib.pyplot as plt\n",
    "import seaborn as sns"
   ]
  },
  {
   "cell_type": "markdown",
   "id": "ee4d9d69-9ac4-4ff4-8908-2db75d47f25a",
   "metadata": {},
   "source": [
    "# Data preProcessing"
   ]
  },
  {
   "cell_type": "markdown",
   "id": "e66f341b-945b-4572-86c2-cb4feba68369",
   "metadata": {},
   "source": [
    "### Training Image Preprocessing"
   ]
  },
  {
   "cell_type": "code",
   "execution_count": 15,
   "id": "a7c6873a-6600-465a-9895-1093f18161af",
   "metadata": {},
   "outputs": [
    {
     "name": "stdout",
     "output_type": "stream",
     "text": [
      "Found 70295 files belonging to 38 classes.\n"
     ]
    }
   ],
   "source": [
    "\n",
    "training_set = tf.keras.utils.image_dataset_from_directory(\n",
    "    'train',\n",
    "    labels=\"inferred\",\n",
    "    label_mode=\"categorical\",\n",
    "    class_names=None,\n",
    "    color_mode=\"rgb\",\n",
    "    batch_size=32,\n",
    "    image_size=(128, 128),\n",
    "    shuffle=True,\n",
    "    seed=None,\n",
    "    validation_split=None,\n",
    "    subset=None,\n",
    "    interpolation=\"bilinear\",\n",
    "    follow_links=False,\n",
    "    crop_to_aspect_ratio=False,\n",
    "   \n",
    ")"
   ]
  },
  {
   "cell_type": "markdown",
   "id": "830a1806-7542-40f5-b371-3e96c76bc252",
   "metadata": {},
   "source": [
    "### Validation Image Preprocessing"
   ]
  },
  {
   "cell_type": "code",
   "execution_count": 16,
   "id": "a73c1795-338c-4197-8444-0a9ec7b2f9c4",
   "metadata": {},
   "outputs": [
    {
     "name": "stdout",
     "output_type": "stream",
     "text": [
      "Found 17572 files belonging to 38 classes.\n"
     ]
    }
   ],
   "source": [
    "validation_set = tf.keras.utils.image_dataset_from_directory(\n",
    "    'valid',\n",
    "    labels=\"inferred\",\n",
    "    label_mode=\"categorical\",\n",
    "    class_names=None,\n",
    "    color_mode=\"rgb\",\n",
    "    batch_size=32,\n",
    "    image_size=(128, 128),\n",
    "    shuffle=True,\n",
    "    seed=None,\n",
    "    validation_split=None,\n",
    "    subset=None,\n",
    "    interpolation=\"bilinear\",\n",
    "    follow_links=False,\n",
    "    crop_to_aspect_ratio=False,\n",
    "    \n",
    ")"
   ]
  },
  {
   "cell_type": "code",
   "execution_count": 17,
   "id": "3a783454-dd64-401f-8de7-c57c96acb14b",
   "metadata": {},
   "outputs": [
    {
     "data": {
      "text/plain": [
       "<BatchDataset element_spec=(TensorSpec(shape=(None, 128, 128, 3), dtype=tf.float32, name=None), TensorSpec(shape=(None, 38), dtype=tf.float32, name=None))>"
      ]
     },
     "execution_count": 17,
     "metadata": {},
     "output_type": "execute_result"
    }
   ],
   "source": [
    "training_set"
   ]
  },
  {
   "cell_type": "code",
   "execution_count": 18,
   "id": "b04dd986-eb52-40fb-913d-54fae0962b41",
   "metadata": {},
   "outputs": [
    {
     "name": "stdout",
     "output_type": "stream",
     "text": [
      "tf.Tensor(\n",
      "[[[[ 71.    66.    64.25]\n",
      "   [131.   126.   123.  ]\n",
      "   [119.5  114.5  111.5 ]\n",
      "   ...\n",
      "   [108.5  101.5   91.5 ]\n",
      "   [109.5  102.5   92.5 ]\n",
      "   [111.25 104.25  94.25]]\n",
      "\n",
      "  [[ 66.25  61.75  60.25]\n",
      "   [124.75 119.75 116.75]\n",
      "   [121.   116.   113.  ]\n",
      "   ...\n",
      "   [110.   103.    93.  ]\n",
      "   [110.5  103.5   93.5 ]\n",
      "   [110.5  103.5   93.5 ]]\n",
      "\n",
      "  [[ 66.75  62.25  60.75]\n",
      "   [126.75 121.75 118.75]\n",
      "   [128.25 123.25 120.25]\n",
      "   ...\n",
      "   [112.   105.    95.  ]\n",
      "   [111.75 104.75  94.75]\n",
      "   [109.5  102.5   92.5 ]]\n",
      "\n",
      "  ...\n",
      "\n",
      "  [[ 53.5   49.    47.5 ]\n",
      "   [106.25 101.25  98.25]\n",
      "   [110.5  105.5  102.5 ]\n",
      "   ...\n",
      "   [133.5  127.5  129.5 ]\n",
      "   [133.5  127.5  129.5 ]\n",
      "   [136.5  130.5  132.5 ]]\n",
      "\n",
      "  [[ 56.75  52.    50.5 ]\n",
      "   [115.75 110.75 107.75]\n",
      "   [111.5  106.5  103.5 ]\n",
      "   ...\n",
      "   [133.   127.   129.  ]\n",
      "   [132.   126.   128.  ]\n",
      "   [136.5  130.5  132.5 ]]\n",
      "\n",
      "  [[ 56.5   52.    50.5 ]\n",
      "   [113.25 108.25 105.25]\n",
      "   [105.25 100.25  97.25]\n",
      "   ...\n",
      "   [133.5  127.5  129.5 ]\n",
      "   [130.25 124.25 126.25]\n",
      "   [134.25 128.25 130.25]]]\n",
      "\n",
      "\n",
      " [[[255.   255.   255.  ]\n",
      "   [255.   255.   255.  ]\n",
      "   [255.   255.   255.  ]\n",
      "   ...\n",
      "   [255.   255.   255.  ]\n",
      "   [255.   255.   255.  ]\n",
      "   [255.   255.   255.  ]]\n",
      "\n",
      "  [[255.   255.   255.  ]\n",
      "   [255.   255.   255.  ]\n",
      "   [255.   255.   255.  ]\n",
      "   ...\n",
      "   [255.   255.   255.  ]\n",
      "   [255.   255.   255.  ]\n",
      "   [255.   255.   255.  ]]\n",
      "\n",
      "  [[255.   255.   255.  ]\n",
      "   [255.   255.   255.  ]\n",
      "   [255.   255.   255.  ]\n",
      "   ...\n",
      "   [255.   255.   255.  ]\n",
      "   [255.   255.   255.  ]\n",
      "   [255.   255.   255.  ]]\n",
      "\n",
      "  ...\n",
      "\n",
      "  [[184.   173.   169.  ]\n",
      "   [195.5  184.5  180.5 ]\n",
      "   [201.25 190.25 186.25]\n",
      "   ...\n",
      "   [255.   255.   255.  ]\n",
      "   [255.   255.   255.  ]\n",
      "   [255.   255.   255.  ]]\n",
      "\n",
      "  [[184.5  173.5  169.5 ]\n",
      "   [185.5  174.5  170.5 ]\n",
      "   [182.25 171.25 167.25]\n",
      "   ...\n",
      "   [255.   255.   255.  ]\n",
      "   [255.   255.   255.  ]\n",
      "   [255.   255.   255.  ]]\n",
      "\n",
      "  [[173.25 162.25 158.25]\n",
      "   [186.   175.   171.  ]\n",
      "   [185.5  174.5  170.5 ]\n",
      "   ...\n",
      "   [255.   255.   255.  ]\n",
      "   [255.   255.   255.  ]\n",
      "   [255.   255.   255.  ]]]\n",
      "\n",
      "\n",
      " [[[127.75 125.75 139.75]\n",
      "   [120.5  118.5  132.5 ]\n",
      "   [120.   118.   132.  ]\n",
      "   ...\n",
      "   [173.5  176.5  193.5 ]\n",
      "   [174.5  177.5  194.5 ]\n",
      "   [179.   182.   199.  ]]\n",
      "\n",
      "  [[116.25 114.25 128.25]\n",
      "   [127.25 125.25 139.25]\n",
      "   [104.25 102.25 116.25]\n",
      "   ...\n",
      "   [180.   183.   200.  ]\n",
      "   [176.75 179.75 196.75]\n",
      "   [178.75 181.75 198.75]]\n",
      "\n",
      "  [[131.5  129.5  143.5 ]\n",
      "   [115.25 113.25 127.25]\n",
      "   [118.5  116.5  130.5 ]\n",
      "   ...\n",
      "   [178.   181.   198.  ]\n",
      "   [175.   178.   195.  ]\n",
      "   [177.   180.   197.  ]]\n",
      "\n",
      "  ...\n",
      "\n",
      "  [[ 94.5   97.5  114.5 ]\n",
      "   [ 94.25  94.75 112.75]\n",
      "   [127.75 125.25 144.  ]\n",
      "   ...\n",
      "   [153.   156.   175.  ]\n",
      "   [158.25 161.25 180.25]\n",
      "   [158.5  161.5  180.5 ]]\n",
      "\n",
      "  [[104.25 110.25 126.25]\n",
      "   [110.25 112.25 129.75]\n",
      "   [102.25 100.25 118.75]\n",
      "   ...\n",
      "   [158.   161.   180.  ]\n",
      "   [161.75 164.75 183.75]\n",
      "   [157.25 160.25 179.25]]\n",
      "\n",
      "  [[ 90.25  96.75 115.  ]\n",
      "   [113.75 115.75 133.25]\n",
      "   [ 99.25  97.25 115.75]\n",
      "   ...\n",
      "   [159.25 162.25 181.25]\n",
      "   [165.5  168.5  187.5 ]\n",
      "   [160.   163.   182.  ]]]\n",
      "\n",
      "\n",
      " ...\n",
      "\n",
      "\n",
      " [[[194.   187.   194.  ]\n",
      "   [173.25 166.25 173.25]\n",
      "   [193.   186.   193.  ]\n",
      "   ...\n",
      "   [197.5  191.5  201.5 ]\n",
      "   [191.5  185.5  195.5 ]\n",
      "   [193.5  187.5  197.5 ]]\n",
      "\n",
      "  [[197.   190.   197.  ]\n",
      "   [179.75 172.75 179.75]\n",
      "   [192.5  185.5  192.5 ]\n",
      "   ...\n",
      "   [188.75 182.75 192.75]\n",
      "   [183.5  177.5  187.5 ]\n",
      "   [187.25 181.25 191.25]]\n",
      "\n",
      "  [[202.   195.   202.  ]\n",
      "   [192.25 185.25 192.25]\n",
      "   [187.25 180.25 187.25]\n",
      "   ...\n",
      "   [188.   182.   192.  ]\n",
      "   [194.5  188.5  198.5 ]\n",
      "   [185.5  179.5  189.5 ]]\n",
      "\n",
      "  ...\n",
      "\n",
      "  [[170.25 160.25 168.25]\n",
      "   [182.25 172.25 180.25]\n",
      "   [167.   157.   165.  ]\n",
      "   ...\n",
      "   [181.25 174.25 182.25]\n",
      "   [178.75 171.75 179.75]\n",
      "   [180.5  173.5  181.5 ]]\n",
      "\n",
      "  [[171.25 161.25 169.25]\n",
      "   [184.   174.   182.  ]\n",
      "   [173.75 163.75 171.75]\n",
      "   ...\n",
      "   [181.75 174.75 182.75]\n",
      "   [184.75 177.75 185.75]\n",
      "   [186.   179.   187.  ]]\n",
      "\n",
      "  [[172.   162.   170.  ]\n",
      "   [181.75 171.75 179.75]\n",
      "   [173.5  163.5  171.5 ]\n",
      "   ...\n",
      "   [186.25 179.25 187.25]\n",
      "   [182.5  175.5  183.5 ]\n",
      "   [186.25 179.25 187.25]]]\n",
      "\n",
      "\n",
      " [[[185.5  180.5  187.5 ]\n",
      "   [192.5  187.5  194.5 ]\n",
      "   [197.25 192.25 199.25]\n",
      "   ...\n",
      "   [194.25 187.25 194.25]\n",
      "   [194.75 187.75 194.75]\n",
      "   [193.75 186.75 193.75]]\n",
      "\n",
      "  [[197.75 192.75 199.75]\n",
      "   [194.75 189.75 196.75]\n",
      "   [200.25 195.25 202.25]\n",
      "   ...\n",
      "   [186.75 179.75 186.75]\n",
      "   [197.75 190.75 197.75]\n",
      "   [200.   193.   200.  ]]\n",
      "\n",
      "  [[202.   197.   204.  ]\n",
      "   [206.   201.   208.  ]\n",
      "   [207.5  202.5  209.5 ]\n",
      "   ...\n",
      "   [193.   186.   193.  ]\n",
      "   [193.   186.   193.  ]\n",
      "   [196.75 189.75 196.75]]\n",
      "\n",
      "  ...\n",
      "\n",
      "  [[149.75 140.75 145.75]\n",
      "   [153.25 144.25 149.25]\n",
      "   [143.   134.   139.  ]\n",
      "   ...\n",
      "   [180.25 171.25 176.25]\n",
      "   [176.   167.   172.  ]\n",
      "   [167.75 158.75 163.75]]\n",
      "\n",
      "  [[145.75 136.75 141.75]\n",
      "   [148.5  139.5  144.5 ]\n",
      "   [147.75 138.75 143.75]\n",
      "   ...\n",
      "   [166.25 157.25 162.25]\n",
      "   [176.   167.   172.  ]\n",
      "   [168.25 159.25 164.25]]\n",
      "\n",
      "  [[156.75 147.75 152.75]\n",
      "   [152.75 143.75 148.75]\n",
      "   [155.25 146.25 151.25]\n",
      "   ...\n",
      "   [157.75 148.75 153.75]\n",
      "   [164.   155.   160.  ]\n",
      "   [165.25 156.25 161.25]]]\n",
      "\n",
      "\n",
      " [[[182.75 176.75 180.75]\n",
      "   [183.5  177.5  181.5 ]\n",
      "   [183.5  177.5  181.5 ]\n",
      "   ...\n",
      "   [157.25 148.25 153.25]\n",
      "   [170.5  161.5  166.5 ]\n",
      "   [168.25 159.25 164.25]]\n",
      "\n",
      "  [[189.   183.   187.  ]\n",
      "   [185.5  179.5  183.5 ]\n",
      "   [183.25 177.25 181.25]\n",
      "   ...\n",
      "   [162.5  153.5  158.5 ]\n",
      "   [166.5  157.5  162.5 ]\n",
      "   [164.75 155.75 160.75]]\n",
      "\n",
      "  [[184.75 178.75 182.75]\n",
      "   [184.5  178.5  182.5 ]\n",
      "   [183.75 177.75 181.75]\n",
      "   ...\n",
      "   [166.75 157.75 162.75]\n",
      "   [166.75 157.75 162.75]\n",
      "   [160.75 151.75 156.75]]\n",
      "\n",
      "  ...\n",
      "\n",
      "  [[156.5  142.5  141.5 ]\n",
      "   [152.75 138.75 137.75]\n",
      "   [155.75 141.75 140.75]\n",
      "   ...\n",
      "   [149.25 135.25 135.25]\n",
      "   [143.75 129.75 129.75]\n",
      "   [140.25 126.25 126.25]]\n",
      "\n",
      "  [[145.75 131.75 130.75]\n",
      "   [156.5  142.5  141.5 ]\n",
      "   [143.75 129.75 128.75]\n",
      "   ...\n",
      "   [152.25 138.25 138.25]\n",
      "   [145.75 131.75 131.75]\n",
      "   [143.75 129.75 129.75]]\n",
      "\n",
      "  [[142.   128.   127.  ]\n",
      "   [151.75 137.75 136.75]\n",
      "   [145.75 131.75 130.75]\n",
      "   ...\n",
      "   [156.75 142.75 142.75]\n",
      "   [160.5  146.5  146.5 ]\n",
      "   [153.75 139.75 139.75]]]], shape=(32, 128, 128, 3), dtype=float32) (32, 128, 128, 3)\n",
      "tf.Tensor(\n",
      "[[0. 0. 1. ... 0. 0. 0.]\n",
      " [0. 0. 1. ... 0. 0. 0.]\n",
      " [0. 0. 0. ... 0. 0. 0.]\n",
      " ...\n",
      " [0. 0. 0. ... 0. 0. 0.]\n",
      " [0. 0. 0. ... 0. 0. 0.]\n",
      " [0. 0. 0. ... 0. 0. 0.]], shape=(32, 38), dtype=float32) (32, 38)\n"
     ]
    }
   ],
   "source": [
    "for x,y in training_set:\n",
    "    # x is training set and y is label\n",
    "    print(x,x.shape)\n",
    "    print(y,y.shape)\n",
    "    break"
   ]
  },
  {
   "cell_type": "markdown",
   "id": "71ecfbf4-0e28-4f14-b3c6-a1fce6b7d683",
   "metadata": {},
   "source": [
    "### Building Model"
   ]
  },
  {
   "cell_type": "code",
   "execution_count": null,
   "id": "5f280e67-36d4-4747-86b1-010da3500b26",
   "metadata": {},
   "outputs": [],
   "source": [
    "from tensorflow.keras.layers import Dense, Conv2D, MaxPool2D, Flatten,Dropout\n",
    "from tensorflow.keras.models import Sequential\n"
   ]
  },
  {
   "cell_type": "code",
   "execution_count": 72,
   "id": "ce0d2127-f1b0-4139-a8c1-98bd52f9fe1a",
   "metadata": {},
   "outputs": [],
   "source": [
    "model = Sequential()"
   ]
  },
  {
   "cell_type": "code",
   "execution_count": 73,
   "id": "eefc22dd-e2ca-405a-9d3b-4283f3089030",
   "metadata": {},
   "outputs": [],
   "source": [
    "## Building convolution layer"
   ]
  },
  {
   "cell_type": "code",
   "execution_count": 74,
   "id": "09a95a96-9770-4428-bfb8-15249f1d3384",
   "metadata": {},
   "outputs": [],
   "source": [
    "model.add(Conv2D(filters=32,kernel_size=3,padding='same',activation='relu',input_shape=[128,128,3]))\n",
    "model.add(Conv2D(filters=32,kernel_size=3,activation='relu'))\n",
    "model.add(MaxPool2D(pool_size=2, strides=2))\n"
   ]
  },
  {
   "cell_type": "code",
   "execution_count": 75,
   "id": "ba35bd98-52b7-403a-9298-2400830621a9",
   "metadata": {},
   "outputs": [],
   "source": [
    "model.add(Conv2D(filters=64,kernel_size=3,padding='same',activation='relu'))\n",
    "model.add(Conv2D(filters=64,kernel_size=3,activation='relu'))\n",
    "model.add(MaxPool2D(pool_size=2,strides=2))"
   ]
  },
  {
   "cell_type": "code",
   "execution_count": 76,
   "id": "3f7809a9-96aa-4640-a68b-2853515a6afb",
   "metadata": {},
   "outputs": [],
   "source": [
    "model.add(Conv2D(filters=128,kernel_size=3,padding='same',activation='relu'))\n",
    "model.add(Conv2D(filters=128,kernel_size=3,activation='relu'))\n",
    "model.add(MaxPool2D(pool_size=2,strides=2))"
   ]
  },
  {
   "cell_type": "code",
   "execution_count": 77,
   "id": "06049263-c00b-4618-a92c-c2971764e6e6",
   "metadata": {},
   "outputs": [],
   "source": [
    "model.add(Conv2D(filters=256,kernel_size=3,padding='same',activation='relu'))\n",
    "model.add(Conv2D(filters=256,kernel_size=3,activation='relu'))\n",
    "model.add(MaxPool2D(pool_size=2,strides=2))"
   ]
  },
  {
   "cell_type": "code",
   "execution_count": null,
   "id": "acbbedf3-ee09-4b38-85fe-22894a46e41a",
   "metadata": {},
   "outputs": [],
   "source": [
    "model.add(Conv2D(filters=512,kernel_size=3,padding='same',activation='relu'))\n",
    "model.add(Conv2D(filters=512,kernel_size=3,activation='relu'))\n",
    "model.add(MaxPool2D(pool_size=2,strides=2))"
   ]
  },
  {
   "cell_type": "code",
   "execution_count": null,
   "id": "1671660b-97b9-4010-bec4-0cffb9f6d464",
   "metadata": {},
   "outputs": [],
   "source": [
    "model.add(Dropout(0.25))  # To avoid Overfitting"
   ]
  },
  {
   "cell_type": "code",
   "execution_count": 78,
   "id": "42a6baf9-b226-4ac8-a8f6-3325ce8ce255",
   "metadata": {},
   "outputs": [],
   "source": [
    "model.add(Flatten())"
   ]
  },
  {
   "cell_type": "code",
   "execution_count": 79,
   "id": "7ff1e026-9fd5-4b16-b065-6fcd4263c2f7",
   "metadata": {},
   "outputs": [],
   "source": [
    "model.add(Dense(units=1500,activation='relu'))"
   ]
  },
  {
   "cell_type": "code",
   "execution_count": null,
   "id": "1a8bac91-a62a-44c6-a21e-c33b96b08895",
   "metadata": {},
   "outputs": [],
   "source": [
    "model.add(Dropout(0.4))"
   ]
  },
  {
   "cell_type": "code",
   "execution_count": 80,
   "id": "b151a4cd-a079-43e0-bd93-60d8d43ab375",
   "metadata": {},
   "outputs": [],
   "source": [
    "#output layer\n",
    "\n",
    "model.add(Dense(units=38,activation='softmax'))"
   ]
  },
  {
   "cell_type": "markdown",
   "id": "a5be7b5f-eb70-45ca-acf4-ebe0ce75cca5",
   "metadata": {},
   "source": [
    "### Compiling Model"
   ]
  },
  {
   "cell_type": "code",
   "execution_count": 81,
   "id": "e2813ba0-28bc-4582-afc5-dca8cf25ebeb",
   "metadata": {},
   "outputs": [],
   "source": [
    "model.compile(optimizer=tf.keras.optimizers.legacy.Adam(\n",
    "    learning_rate=0.0001),loss='categorical_crossentropy',metrics=['accuracy'])"
   ]
  },
  {
   "cell_type": "code",
   "execution_count": 82,
   "id": "16fc3d15-8387-4fb5-b3c1-f52b500776d6",
   "metadata": {},
   "outputs": [
    {
     "name": "stdout",
     "output_type": "stream",
     "text": [
      "Model: \"sequential_7\"\n",
      "_________________________________________________________________\n",
      " Layer (type)                Output Shape              Param #   \n",
      "=================================================================\n",
      " conv2d_34 (Conv2D)          (None, 128, 128, 32)      896       \n",
      "                                                                 \n",
      " conv2d_35 (Conv2D)          (None, 128, 128, 32)      9248      \n",
      "                                                                 \n",
      " max_pooling2d_8 (MaxPooling  (None, 64, 64, 32)       0         \n",
      " 2D)                                                             \n",
      "                                                                 \n",
      " conv2d_36 (Conv2D)          (None, 64, 64, 64)        18496     \n",
      "                                                                 \n",
      " conv2d_37 (Conv2D)          (None, 64, 64, 64)        36928     \n",
      "                                                                 \n",
      " max_pooling2d_9 (MaxPooling  (None, 32, 32, 64)       0         \n",
      " 2D)                                                             \n",
      "                                                                 \n",
      " conv2d_38 (Conv2D)          (None, 32, 32, 128)       73856     \n",
      "                                                                 \n",
      " conv2d_39 (Conv2D)          (None, 32, 32, 128)       147584    \n",
      "                                                                 \n",
      " max_pooling2d_10 (MaxPoolin  (None, 16, 16, 128)      0         \n",
      " g2D)                                                            \n",
      "                                                                 \n",
      " conv2d_40 (Conv2D)          (None, 16, 16, 256)       295168    \n",
      "                                                                 \n",
      " conv2d_41 (Conv2D)          (None, 16, 16, 256)       590080    \n",
      "                                                                 \n",
      " max_pooling2d_11 (MaxPoolin  (None, 8, 8, 256)        0         \n",
      " g2D)                                                            \n",
      "                                                                 \n",
      " flatten_2 (Flatten)         (None, 16384)             0         \n",
      "                                                                 \n",
      " dense_4 (Dense)             (None, 1024)              16778240  \n",
      "                                                                 \n",
      " dense_5 (Dense)             (None, 38)                38950     \n",
      "                                                                 \n",
      "=================================================================\n",
      "Total params: 17,989,446\n",
      "Trainable params: 17,989,446\n",
      "Non-trainable params: 0\n",
      "_________________________________________________________________\n"
     ]
    }
   ],
   "source": [
    "model.summary()"
   ]
  },
  {
   "cell_type": "code",
   "execution_count": null,
   "id": "e6bce057-2f03-4c11-a009-9b694c65e51d",
   "metadata": {},
   "outputs": [],
   "source": []
  },
  {
   "cell_type": "code",
   "execution_count": null,
   "id": "aab861d5-ddc0-4b0e-a008-365ad03e5ac8",
   "metadata": {},
   "outputs": [],
   "source": []
  },
  {
   "cell_type": "markdown",
   "id": "a238a88d-9e98-486c-9163-670092ebbbc6",
   "metadata": {},
   "source": [
    "### Model Training"
   ]
  },
  {
   "cell_type": "code",
   "execution_count": null,
   "id": "a77e77d0-25e1-464f-8f26-80641b8c3727",
   "metadata": {},
   "outputs": [],
   "source": [
    "training_history = model.fit(x = training_set,validation_data = validation_set,epochs=10)"
   ]
  }
 ],
 "metadata": {
  "kernelspec": {
   "display_name": "Python (tensorflow_env)",
   "language": "python",
   "name": "tensorflow_env"
  },
  "language_info": {
   "codemirror_mode": {
    "name": "ipython",
    "version": 3
   },
   "file_extension": ".py",
   "mimetype": "text/x-python",
   "name": "python",
   "nbconvert_exporter": "python",
   "pygments_lexer": "ipython3",
   "version": "3.10.16"
  }
 },
 "nbformat": 4,
 "nbformat_minor": 5
}
