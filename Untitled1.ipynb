{
 "cells": [
  {
   "cell_type": "code",
   "execution_count": null,
   "id": "b121bae3-e941-4735-8e61-feb60ff75494",
   "metadata": {},
   "outputs": [],
   "source": []
  }
 ],
 "metadata": {
  "kernelspec": {
   "display_name": "",
   "name": ""
  },
  "language_info": {
   "name": ""
  }
 },
 "nbformat": 4,
 "nbformat_minor": 5
}
